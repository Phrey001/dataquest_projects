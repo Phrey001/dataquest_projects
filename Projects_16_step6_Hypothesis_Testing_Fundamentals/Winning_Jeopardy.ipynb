{
 "cells": [
  {
   "cell_type": "code",
   "execution_count": 1,
   "id": "553010d6-3b00-44cc-9f78-92b32f4a6ad4",
   "metadata": {},
   "outputs": [],
   "source": [
    "# import libraries\n",
    "from IPython.display import Image  # for displaying images in markdown cells\n",
    "import pandas as pd  # Dataframe manipulation\n",
    "import numpy as np  # Arrays manipulation\n"
   ]
  },
  {
   "cell_type": "code",
   "execution_count": 2,
   "id": "e2b2c934-be07-4d8c-a120-ea4aba861bbe",
   "metadata": {},
   "outputs": [
    {
     "data": {
      "text/html": [
       "<style>\n",
       "table {align:left;display:block}  # to align html tables to left\n",
       "</style> \n"
      ],
      "text/plain": [
       "<IPython.core.display.HTML object>"
      ]
     },
     "metadata": {},
     "output_type": "display_data"
    }
   ],
   "source": [
    "%%html\n",
    "<style>\n",
    "table {align:left;display:block}  # to align html tables to left\n",
    "</style> "
   ]
  },
  {
   "cell_type": "markdown",
   "id": "11755744-7945-4aff-9d2f-170c6aae808e",
   "metadata": {},
   "source": [
    "# Dataquest | Hypothesis Testing: Fundamentals <br/> <br/> Project Title: Winning Jeopardy"
   ]
  },
  {
   "cell_type": "markdown",
   "id": "6de734fd-d504-4d61-a690-598570d398fc",
   "metadata": {},
   "source": [
    "## 1) Introduction / Jeopardy Questions\n",
    "\n",
    "#### Background:\n",
    "\n",
    "Provided by: [Dataquest.io](https://www.dataquest.io/)\n",
    "\n",
    "Jeopardy is a popular TV show in the US where participants answer questions to win money. It's been running for many years, and is a major force in popular culture.\n",
    "\n",
    "Imagine that you want to compete on Jeopardy, and you're looking for any way to win. In this project, you'll work with a dataset of Jeopardy questions to figure out some patterns in the questions that could help you win.\n",
    "\n",
    "The dataset is named **jeopardy.csv**, and contains **20000** rows from the beginning of a full dataset of Jeopardy questions, which you can download [here](https://www.reddit.com/r/datasets/comments/1uyd0t/200000_jeopardy_questions_in_a_json_file/).\n",
    "\n",
    "As you can see, each row in the dataset represents a single question on a single episode of Jeopardy. Here are explanations of each column:\n",
    "\n",
    "Columns | Description\n",
    "--- | ---\n",
    "Show Number | the Jeopardy episode number\n",
    "Air Date | the date the episode aired\n",
    "Round | the round of Jeopardy\n",
    "Category | the category of the question\n",
    "Value | the number of dollars the correct answer is worth\n",
    "Question | the text of the question\n",
    "Answer | the text of the answer\n"
   ]
  },
  {
   "cell_type": "code",
   "execution_count": 3,
   "id": "9207ee5b-aab9-426c-a4ea-5ffb37f71892",
   "metadata": {},
   "outputs": [
    {
     "name": "stdout",
     "output_type": "stream",
     "text": [
      "Index(['Show Number', ' Air Date', ' Round', ' Category', ' Value',\n",
      "       ' Question', ' Answer'],\n",
      "      dtype='object') \n",
      "\n"
     ]
    },
    {
     "data": {
      "text/html": [
       "<div>\n",
       "<style scoped>\n",
       "    .dataframe tbody tr th:only-of-type {\n",
       "        vertical-align: middle;\n",
       "    }\n",
       "\n",
       "    .dataframe tbody tr th {\n",
       "        vertical-align: top;\n",
       "    }\n",
       "\n",
       "    .dataframe thead th {\n",
       "        text-align: right;\n",
       "    }\n",
       "</style>\n",
       "<table border=\"1\" class=\"dataframe\">\n",
       "  <thead>\n",
       "    <tr style=\"text-align: right;\">\n",
       "      <th></th>\n",
       "      <th>Show Number</th>\n",
       "      <th>Air Date</th>\n",
       "      <th>Round</th>\n",
       "      <th>Category</th>\n",
       "      <th>Value</th>\n",
       "      <th>Question</th>\n",
       "      <th>Answer</th>\n",
       "    </tr>\n",
       "  </thead>\n",
       "  <tbody>\n",
       "    <tr>\n",
       "      <th>0</th>\n",
       "      <td>4680</td>\n",
       "      <td>2004-12-31</td>\n",
       "      <td>Jeopardy!</td>\n",
       "      <td>HISTORY</td>\n",
       "      <td>$200</td>\n",
       "      <td>For the last 8 years of his life, Galileo was ...</td>\n",
       "      <td>Copernicus</td>\n",
       "    </tr>\n",
       "    <tr>\n",
       "      <th>1</th>\n",
       "      <td>4680</td>\n",
       "      <td>2004-12-31</td>\n",
       "      <td>Jeopardy!</td>\n",
       "      <td>ESPN's TOP 10 ALL-TIME ATHLETES</td>\n",
       "      <td>$200</td>\n",
       "      <td>No. 2: 1912 Olympian; football star at Carlisl...</td>\n",
       "      <td>Jim Thorpe</td>\n",
       "    </tr>\n",
       "    <tr>\n",
       "      <th>2</th>\n",
       "      <td>4680</td>\n",
       "      <td>2004-12-31</td>\n",
       "      <td>Jeopardy!</td>\n",
       "      <td>EVERYBODY TALKS ABOUT IT...</td>\n",
       "      <td>$200</td>\n",
       "      <td>The city of Yuma in this state has a record av...</td>\n",
       "      <td>Arizona</td>\n",
       "    </tr>\n",
       "    <tr>\n",
       "      <th>3</th>\n",
       "      <td>4680</td>\n",
       "      <td>2004-12-31</td>\n",
       "      <td>Jeopardy!</td>\n",
       "      <td>THE COMPANY LINE</td>\n",
       "      <td>$200</td>\n",
       "      <td>In 1963, live on \"The Art Linkletter Show\", th...</td>\n",
       "      <td>McDonald's</td>\n",
       "    </tr>\n",
       "    <tr>\n",
       "      <th>4</th>\n",
       "      <td>4680</td>\n",
       "      <td>2004-12-31</td>\n",
       "      <td>Jeopardy!</td>\n",
       "      <td>EPITAPHS &amp; TRIBUTES</td>\n",
       "      <td>$200</td>\n",
       "      <td>Signer of the Dec. of Indep., framer of the Co...</td>\n",
       "      <td>John Adams</td>\n",
       "    </tr>\n",
       "  </tbody>\n",
       "</table>\n",
       "</div>"
      ],
      "text/plain": [
       "   Show Number    Air Date      Round                         Category  Value  \\\n",
       "0         4680  2004-12-31  Jeopardy!                          HISTORY   $200   \n",
       "1         4680  2004-12-31  Jeopardy!  ESPN's TOP 10 ALL-TIME ATHLETES   $200   \n",
       "2         4680  2004-12-31  Jeopardy!      EVERYBODY TALKS ABOUT IT...   $200   \n",
       "3         4680  2004-12-31  Jeopardy!                 THE COMPANY LINE   $200   \n",
       "4         4680  2004-12-31  Jeopardy!              EPITAPHS & TRIBUTES   $200   \n",
       "\n",
       "                                            Question      Answer  \n",
       "0  For the last 8 years of his life, Galileo was ...  Copernicus  \n",
       "1  No. 2: 1912 Olympian; football star at Carlisl...  Jim Thorpe  \n",
       "2  The city of Yuma in this state has a record av...     Arizona  \n",
       "3  In 1963, live on \"The Art Linkletter Show\", th...  McDonald's  \n",
       "4  Signer of the Dec. of Indep., framer of the Co...  John Adams  "
      ]
     },
     "execution_count": 3,
     "metadata": {},
     "output_type": "execute_result"
    }
   ],
   "source": [
    "# read the file into dataframe\n",
    "df = pd.read_csv('JEOPARDY_CSV.csv')\n",
    "\n",
    "# review file\n",
    "print(df.columns,'\\n')\n",
    "df.head()"
   ]
  },
  {
   "cell_type": "code",
   "execution_count": 4,
   "id": "5f955d76-93d1-421b-b662-eb2d70b05cc7",
   "metadata": {},
   "outputs": [
    {
     "name": "stdout",
     "output_type": "stream",
     "text": [
      "Index(['Show Number', 'Air Date', 'Round', 'Category', 'Value', 'Question',\n",
      "       'Answer'],\n",
      "      dtype='object')\n"
     ]
    }
   ],
   "source": [
    "# Remove the spaces from columns\n",
    "df.columns = df.columns.str.strip()\n",
    "\n",
    "# review transformation\n",
    "print(df.columns)"
   ]
  },
  {
   "cell_type": "markdown",
   "id": "79a81077-1c56-4e8e-b12b-6ffa17104cc4",
   "metadata": {},
   "source": [
    "## 2) Normalising Text\n",
    "\n",
    "Provided by: [Dataquest.io](https://www.dataquest.io/)\n",
    "\n",
    "Before starting analysis on the Jeopardy questions, need to normalize all of the text columns (the **Question** and **Answer** columns).\n",
    "\n",
    "The idea is to put words in lowercase and remove punctuation for comparability."
   ]
  },
  {
   "cell_type": "code",
   "execution_count": 5,
   "id": "24f6d302-5b1d-4549-85d1-67431d532686",
   "metadata": {},
   "outputs": [],
   "source": [
    "# Write a function to normalize questions and answers.\n",
    "\n",
    "import re  # to work with regex\n",
    "\n",
    "def normalise_string(sentence):\n",
    "    sentence_new = str(sentence).lower()\n",
    "    sentence_new = re.sub(r'[^A-Za-z0-9_\\s]', '', sentence_new, flags=re.I)\n",
    "    return sentence_new"
   ]
  },
  {
   "cell_type": "code",
   "execution_count": 6,
   "id": "3f2ac01f-7bbb-40d6-9cfe-3d789a327a69",
   "metadata": {},
   "outputs": [
    {
     "name": "stdout",
     "output_type": "stream",
     "text": [
      "for the last 8 years of his life galileo was under house arrest for espousing this mans theory \n",
      "\n",
      "For the last 8 years of his life, Galileo was under house arrest for espousing this man's theory \n",
      "\n"
     ]
    },
    {
     "data": {
      "text/plain": [
       "0    for the last 8 years of his life galileo was u...\n",
       "1    no 2 1912 olympian football star at carlisle i...\n",
       "2    the city of yuma in this state has a record av...\n",
       "3    in 1963 live on the art linkletter show this c...\n",
       "4    signer of the dec of indep framer of the const...\n",
       "Name: clean_question, dtype: object"
      ]
     },
     "execution_count": 6,
     "metadata": {},
     "output_type": "execute_result"
    }
   ],
   "source": [
    "# Normalize the 'Question' column.\n",
    "df['clean_question'] = df['Question'].apply(normalise_string)\n",
    "\n",
    "# review transformation\n",
    "print(df['clean_question'][0], '\\n')\n",
    "print(df['Question'][0], '\\n')\n",
    "df['clean_question'].head()\n"
   ]
  },
  {
   "cell_type": "code",
   "execution_count": 7,
   "id": "0e065dd3-8e39-4cca-9fef-c9c75accd282",
   "metadata": {},
   "outputs": [
    {
     "name": "stdout",
     "output_type": "stream",
     "text": [
      "copernicus \n",
      "\n",
      "Copernicus \n",
      "\n"
     ]
    },
    {
     "data": {
      "text/plain": [
       "0    copernicus\n",
       "1    jim thorpe\n",
       "2       arizona\n",
       "3     mcdonalds\n",
       "4    john adams\n",
       "Name: clean_answer, dtype: object"
      ]
     },
     "execution_count": 7,
     "metadata": {},
     "output_type": "execute_result"
    }
   ],
   "source": [
    "# Normalize the 'Answer' column.\n",
    "df['clean_answer'] = df['Answer'].apply(normalise_string)\n",
    "\n",
    "# review transformation\n",
    "print(df['clean_answer'][0], '\\n')\n",
    "print(df['Answer'][0], '\\n')\n",
    "df['clean_answer'].head()\n"
   ]
  },
  {
   "cell_type": "markdown",
   "id": "000c741f-b25d-490d-9e89-17b9951d734e",
   "metadata": {},
   "source": [
    "## 3) Normalising Columns\n",
    "\n",
    "Provided by: [Dataquest.io](https://www.dataquest.io/)\n",
    "\n",
    "There are also some other columns to normalise.\n",
    "\n",
    "The **Value** column should be numeric, to allow easier manipulation. Need to remove the dollar sign from the beginning of each value and convert the column from text to numeric.\n",
    "\n",
    "The **Air Date** column should also be a datetime, not a string, to enable to work it easier."
   ]
  },
  {
   "cell_type": "code",
   "execution_count": 8,
   "id": "a2f7499e-fb2d-4947-ad02-5132d662a9dc",
   "metadata": {},
   "outputs": [
    {
     "name": "stdout",
     "output_type": "stream",
     "text": [
      "$200 \n",
      "\n",
      "200 \n",
      "\n"
     ]
    },
    {
     "data": {
      "text/plain": [
       "400      42244\n",
       "800      31860\n",
       "200      30455\n",
       "1000     21640\n",
       "600      20377\n",
       "         ...  \n",
       "9800         1\n",
       "16400        1\n",
       "9500         1\n",
       "585          1\n",
       "1407         1\n",
       "Name: clean_value, Length: 146, dtype: int64"
      ]
     },
     "execution_count": 8,
     "metadata": {},
     "output_type": "execute_result"
    }
   ],
   "source": [
    "# Write a function to normalize dollar values.\n",
    "# Also assign 0 instead if the conversion has an error.\n",
    "\n",
    "def normalise_value(value):\n",
    "    try:\n",
    "        value_new = re.sub(r'[^A-Za-z0-9_\\s]', '', str(value))\n",
    "        value_new = int(value_new)\n",
    "        return value_new\n",
    "    except:\n",
    "        value_new = 0\n",
    "        return value_new\n",
    "\n",
    "# normalise the 'value' column\n",
    "df['clean_value'] = df['Value'].apply(normalise_value)\n",
    "\n",
    "# review transformation\n",
    "print(df['Value'][0], '\\n')\n",
    "print(df['clean_value'][0], '\\n')\n",
    "df['clean_value'].value_counts(dropna=False)"
   ]
  },
  {
   "cell_type": "code",
   "execution_count": 9,
   "id": "25949dda-b502-477a-bfcc-18578da985f1",
   "metadata": {},
   "outputs": [
    {
     "data": {
      "text/plain": [
       "0        2004-12-31\n",
       "1        2004-12-31\n",
       "2        2004-12-31\n",
       "3        2004-12-31\n",
       "4        2004-12-31\n",
       "            ...    \n",
       "216925   2006-05-11\n",
       "216926   2006-05-11\n",
       "216927   2006-05-11\n",
       "216928   2006-05-11\n",
       "216929   2006-05-11\n",
       "Name: Air Date, Length: 216930, dtype: datetime64[ns]"
      ]
     },
     "execution_count": 9,
     "metadata": {},
     "output_type": "execute_result"
    }
   ],
   "source": [
    "# Use the pandas.to_datetime function to convert the 'Air Date' column to a datetime column.\n",
    "df['Air Date'] = pd.to_datetime(df['Air Date'])\n",
    "\n",
    "# review transformation\n",
    "df['Air Date']"
   ]
  },
  {
   "cell_type": "markdown",
   "id": "2d73b31e-610f-469c-abde-acaa0dd68a05",
   "metadata": {},
   "source": [
    "## 4) Answers In Questions\n",
    "\n",
    "Provided by: [Dataquest.io](https://www.dataquest.io/)\n",
    "\n",
    "In order to figure out whether to study past questions, study general knowledge, or not study it all, it would be helpful to figure out two things:\n",
    "\n",
    "- How often the answer can be used for a question.\n",
    "- How often questions are repeated.\n",
    "\n",
    "We can answer the first question by seeing how many times words in the answer also occur in the question. \n",
    "\n",
    "We can answer the second question by seeing how often complex words (> 6 characters) reoccur. \n",
    "\n",
    "We'll start working on the first question."
   ]
  },
  {
   "cell_type": "code",
   "execution_count": 10,
   "id": "38c1f476-8151-4ee9-a66b-fb8946043095",
   "metadata": {},
   "outputs": [],
   "source": [
    "# Write a function that takes in a row in jeopardy, and return the number of words in answer that contain words from the question.\n",
    "\n",
    "\n",
    "# Split the clean_answer column around spaces and assign to the variable split_answer.\n",
    "# Split the clean_question column around spaces and assign to the variable split_question.\n",
    "# remove 'the' in analysis as it is a common word and we are not interested\n",
    "# if no word in answer, return 0\n",
    "# add match_count incrementally for every answer word in question from same row\n",
    "\n",
    "def ans_in_qns_row(row):\n",
    "    split_answer = row['clean_answer'].split()\n",
    "    match_count = 0\n",
    "    if 'the' in split_answer:\n",
    "        split_answer.remove('the')\n",
    "    if len(split_answer) == 0:\n",
    "        return None\n",
    "    for word in split_answer:\n",
    "        if word in row['clean_question']:\n",
    "            match_count += 1\n",
    "    ans_in_qns = match_count / len(split_answer)\n",
    "    return ans_in_qns"
   ]
  },
  {
   "cell_type": "code",
   "execution_count": 11,
   "id": "b5f84397-9b16-4728-b2e5-4522f5771f04",
   "metadata": {},
   "outputs": [
    {
     "data": {
      "text/plain": [
       "1.000000      2102\n",
       "0.888889         1\n",
       "0.875000         2\n",
       "0.857143         8\n",
       "0.833333         6\n",
       "0.818182         1\n",
       "0.800000        43\n",
       "0.777778         1\n",
       "0.750000       211\n",
       "0.714286        11\n",
       "0.700000         1\n",
       "0.692308         1\n",
       "0.666667      1834\n",
       "0.636364         1\n",
       "0.625000        12\n",
       "0.615385         1\n",
       "0.600000       177\n",
       "0.583333         1\n",
       "0.571429        22\n",
       "0.555556         6\n",
       "0.545455         4\n",
       "0.500000     20968\n",
       "0.466667         1\n",
       "0.454545         3\n",
       "0.444444         7\n",
       "0.428571        76\n",
       "0.400000       520\n",
       "0.384615         2\n",
       "0.375000        43\n",
       "0.368421         1\n",
       "0.363636         5\n",
       "0.357143         2\n",
       "0.350000         1\n",
       "0.333333      7823\n",
       "0.307692         1\n",
       "0.300000        11\n",
       "0.285714       145\n",
       "0.272727         7\n",
       "0.266667         2\n",
       "0.250000      2259\n",
       "0.230769         4\n",
       "0.222222        36\n",
       "0.214286         2\n",
       "0.200000       901\n",
       "0.181818         9\n",
       "0.166667       329\n",
       "0.153846         3\n",
       "0.142857       127\n",
       "0.125000        59\n",
       "0.111111        29\n",
       "0.100000        10\n",
       "0.090909         2\n",
       "0.083333         5\n",
       "0.076923         1\n",
       "0.071429         1\n",
       "0.066667         1\n",
       "0.058824         1\n",
       "0.000000    179070\n",
       "NaN             17\n",
       "Name: answer_in_question, dtype: int64"
      ]
     },
     "execution_count": 11,
     "metadata": {},
     "output_type": "execute_result"
    }
   ],
   "source": [
    "# Count how many times terms in clean_answer occur in clean_question\n",
    "\n",
    "df['answer_in_question'] = df.apply(ans_in_qns_row, axis=1)\n",
    "\n",
    "# review transformation\n",
    "df['answer_in_question'].value_counts(dropna=False).sort_index(ascending=False)"
   ]
  },
  {
   "cell_type": "code",
   "execution_count": 12,
   "id": "f68e059d-d235-4a37-9e3e-4e751607f141",
   "metadata": {},
   "outputs": [
    {
     "data": {
      "text/plain": [
       "0.08262726704616181"
      ]
     },
     "execution_count": 12,
     "metadata": {},
     "output_type": "execute_result"
    }
   ],
   "source": [
    "# compute mean of the answer_in_question column\n",
    "df['answer_in_question'].mean()"
   ]
  },
  {
   "cell_type": "markdown",
   "id": "08b2e1c1-0232-4cb7-88bd-528947a5727e",
   "metadata": {},
   "source": [
    "#### Findings (Answers In Questions):\n",
    "\n",
    "The mean proportion of each word in answers that also appear in questions of the game is approximately 0.08.\n",
    "\n",
    "The interpretation is that the the likelihood is not high enough for us to explore further the strategy of using words contained in the question to increase our chance of guessing correctly at the answers."
   ]
  },
  {
   "cell_type": "markdown",
   "id": "185f8220-31c1-431d-8fee-faa1dcde2c28",
   "metadata": {},
   "source": [
    "## 5) Recycled Questions\n",
    "\n",
    "Provided by: [Dataquest.io](https://www.dataquest.io/)\n",
    "\n",
    "Now we want to investigate how often new questions are repeats of older ones. \n",
    "\n",
    "Do note that we can't completely answer this, because we only have about 10% of the full Jeopardy question dataset, but it can be investigated at least.\n",
    "\n",
    "We can do this via the below:\n",
    "- sort dataset in order of ascending air date\n",
    "- Maintain a set called **terms_used** that will be empty initially.\n",
    "- Iterate through each row of dataset.\n",
    "- Split **clean_question** into words, remove any word shorter than 6 characters, and check if each word occurs in **terms_used**.\n",
    "    - If it does, increment a counter.\n",
    "    - Add each word to **terms_used**.\n",
    "    \n",
    "This allows us to check if the terms in questions have been used previously or not. Only looking at words with six or more characters enables to filter out words like the and than, which are commonly used, but don't tell alot about a question."
   ]
  },
  {
   "cell_type": "code",
   "execution_count": 13,
   "id": "252517fb-494b-4a20-ad40-ad913e95848d",
   "metadata": {},
   "outputs": [
    {
     "name": "stdout",
     "output_type": "stream",
     "text": [
      "0   1984-09-10\n",
      "1   1984-09-10\n",
      "Name: Air Date, dtype: datetime64[ns]\n",
      "216928   2012-01-27\n",
      "216929   2012-01-27\n",
      "Name: Air Date, dtype: datetime64[ns] \n",
      "\n",
      "1984-09-10 00:00:00\n",
      "2012-01-27 00:00:00\n"
     ]
    },
    {
     "data": {
      "text/html": [
       "<div>\n",
       "<style scoped>\n",
       "    .dataframe tbody tr th:only-of-type {\n",
       "        vertical-align: middle;\n",
       "    }\n",
       "\n",
       "    .dataframe tbody tr th {\n",
       "        vertical-align: top;\n",
       "    }\n",
       "\n",
       "    .dataframe thead th {\n",
       "        text-align: right;\n",
       "    }\n",
       "</style>\n",
       "<table border=\"1\" class=\"dataframe\">\n",
       "  <thead>\n",
       "    <tr style=\"text-align: right;\">\n",
       "      <th></th>\n",
       "      <th>Show Number</th>\n",
       "      <th>Air Date</th>\n",
       "      <th>Round</th>\n",
       "      <th>Category</th>\n",
       "      <th>Value</th>\n",
       "      <th>Question</th>\n",
       "      <th>Answer</th>\n",
       "      <th>clean_question</th>\n",
       "      <th>clean_answer</th>\n",
       "      <th>clean_value</th>\n",
       "      <th>answer_in_question</th>\n",
       "    </tr>\n",
       "  </thead>\n",
       "  <tbody>\n",
       "    <tr>\n",
       "      <th>0</th>\n",
       "      <td>1</td>\n",
       "      <td>1984-09-10</td>\n",
       "      <td>Jeopardy!</td>\n",
       "      <td>LAKES &amp; RIVERS</td>\n",
       "      <td>$100</td>\n",
       "      <td>River mentioned most often in the Bible</td>\n",
       "      <td>the Jordan</td>\n",
       "      <td>river mentioned most often in the bible</td>\n",
       "      <td>the jordan</td>\n",
       "      <td>100</td>\n",
       "      <td>0.000000</td>\n",
       "    </tr>\n",
       "    <tr>\n",
       "      <th>1</th>\n",
       "      <td>1</td>\n",
       "      <td>1984-09-10</td>\n",
       "      <td>Double Jeopardy!</td>\n",
       "      <td>THE BIBLE</td>\n",
       "      <td>$1000</td>\n",
       "      <td>According to 1st Timothy, it is the \"root of a...</td>\n",
       "      <td>the love of money</td>\n",
       "      <td>according to 1st timothy it is the root of all...</td>\n",
       "      <td>the love of money</td>\n",
       "      <td>1000</td>\n",
       "      <td>0.333333</td>\n",
       "    </tr>\n",
       "    <tr>\n",
       "      <th>2</th>\n",
       "      <td>1</td>\n",
       "      <td>1984-09-10</td>\n",
       "      <td>Double Jeopardy!</td>\n",
       "      <td>'50'S TV</td>\n",
       "      <td>$1000</td>\n",
       "      <td>Name under which experimenter Don Herbert taug...</td>\n",
       "      <td>Mr. Wizard</td>\n",
       "      <td>name under which experimenter don herbert taug...</td>\n",
       "      <td>mr wizard</td>\n",
       "      <td>1000</td>\n",
       "      <td>0.000000</td>\n",
       "    </tr>\n",
       "    <tr>\n",
       "      <th>3</th>\n",
       "      <td>1</td>\n",
       "      <td>1984-09-10</td>\n",
       "      <td>Double Jeopardy!</td>\n",
       "      <td>NATIONAL LANDMARKS</td>\n",
       "      <td>$1000</td>\n",
       "      <td>D.C. building shaken by November '83 bomb blast</td>\n",
       "      <td>the Capitol</td>\n",
       "      <td>dc building shaken by november 83 bomb blast</td>\n",
       "      <td>the capitol</td>\n",
       "      <td>1000</td>\n",
       "      <td>0.000000</td>\n",
       "    </tr>\n",
       "    <tr>\n",
       "      <th>4</th>\n",
       "      <td>1</td>\n",
       "      <td>1984-09-10</td>\n",
       "      <td>Double Jeopardy!</td>\n",
       "      <td>NOTORIOUS</td>\n",
       "      <td>$1000</td>\n",
       "      <td>After the deed, he leaped to the stage shoutin...</td>\n",
       "      <td>John Wilkes Booth</td>\n",
       "      <td>after the deed he leaped to the stage shouting...</td>\n",
       "      <td>john wilkes booth</td>\n",
       "      <td>1000</td>\n",
       "      <td>0.000000</td>\n",
       "    </tr>\n",
       "    <tr>\n",
       "      <th>...</th>\n",
       "      <td>...</td>\n",
       "      <td>...</td>\n",
       "      <td>...</td>\n",
       "      <td>...</td>\n",
       "      <td>...</td>\n",
       "      <td>...</td>\n",
       "      <td>...</td>\n",
       "      <td>...</td>\n",
       "      <td>...</td>\n",
       "      <td>...</td>\n",
       "      <td>...</td>\n",
       "    </tr>\n",
       "    <tr>\n",
       "      <th>216925</th>\n",
       "      <td>6300</td>\n",
       "      <td>2012-01-27</td>\n",
       "      <td>Jeopardy!</td>\n",
       "      <td>VISITING THE CITY</td>\n",
       "      <td>$800</td>\n",
       "      <td>There's a great opera house on Bennelong Point...</td>\n",
       "      <td>Sydney</td>\n",
       "      <td>theres a great opera house on bennelong point ...</td>\n",
       "      <td>sydney</td>\n",
       "      <td>800</td>\n",
       "      <td>0.000000</td>\n",
       "    </tr>\n",
       "    <tr>\n",
       "      <th>216926</th>\n",
       "      <td>6300</td>\n",
       "      <td>2012-01-27</td>\n",
       "      <td>Jeopardy!</td>\n",
       "      <td>PANTS</td>\n",
       "      <td>$1,400</td>\n",
       "      <td>Tight-fitting pants patterned after those worn...</td>\n",
       "      <td>toreador pants</td>\n",
       "      <td>tightfitting pants patterned after those worn ...</td>\n",
       "      <td>toreador pants</td>\n",
       "      <td>1400</td>\n",
       "      <td>0.500000</td>\n",
       "    </tr>\n",
       "    <tr>\n",
       "      <th>216927</th>\n",
       "      <td>6300</td>\n",
       "      <td>2012-01-27</td>\n",
       "      <td>Jeopardy!</td>\n",
       "      <td>CHILD ACTORS</td>\n",
       "      <td>$800</td>\n",
       "      <td>This kid, with a familiar last name, is seen &lt;...</td>\n",
       "      <td>Jaden Smith</td>\n",
       "      <td>this kid with a familiar last name is seen a h...</td>\n",
       "      <td>jaden smith</td>\n",
       "      <td>800</td>\n",
       "      <td>0.000000</td>\n",
       "    </tr>\n",
       "    <tr>\n",
       "      <th>216928</th>\n",
       "      <td>6300</td>\n",
       "      <td>2012-01-27</td>\n",
       "      <td>Jeopardy!</td>\n",
       "      <td>LESSER-KNOWN SCIENTISTS</td>\n",
       "      <td>$800</td>\n",
       "      <td>Joseph Lagrange insisted on 10 as the basic un...</td>\n",
       "      <td>the metric system</td>\n",
       "      <td>joseph lagrange insisted on 10 as the basic un...</td>\n",
       "      <td>the metric system</td>\n",
       "      <td>800</td>\n",
       "      <td>0.500000</td>\n",
       "    </tr>\n",
       "    <tr>\n",
       "      <th>216929</th>\n",
       "      <td>6300</td>\n",
       "      <td>2012-01-27</td>\n",
       "      <td>Jeopardy!</td>\n",
       "      <td>PANTS</td>\n",
       "      <td>$200</td>\n",
       "      <td>A synonym for freight, or pants with large bel...</td>\n",
       "      <td>cargo pants</td>\n",
       "      <td>a synonym for freight or pants with large bell...</td>\n",
       "      <td>cargo pants</td>\n",
       "      <td>200</td>\n",
       "      <td>0.500000</td>\n",
       "    </tr>\n",
       "  </tbody>\n",
       "</table>\n",
       "<p>216930 rows × 11 columns</p>\n",
       "</div>"
      ],
      "text/plain": [
       "        Show Number   Air Date             Round                 Category  \\\n",
       "0                 1 1984-09-10         Jeopardy!           LAKES & RIVERS   \n",
       "1                 1 1984-09-10  Double Jeopardy!                THE BIBLE   \n",
       "2                 1 1984-09-10  Double Jeopardy!                 '50'S TV   \n",
       "3                 1 1984-09-10  Double Jeopardy!       NATIONAL LANDMARKS   \n",
       "4                 1 1984-09-10  Double Jeopardy!                NOTORIOUS   \n",
       "...             ...        ...               ...                      ...   \n",
       "216925         6300 2012-01-27         Jeopardy!        VISITING THE CITY   \n",
       "216926         6300 2012-01-27         Jeopardy!                    PANTS   \n",
       "216927         6300 2012-01-27         Jeopardy!             CHILD ACTORS   \n",
       "216928         6300 2012-01-27         Jeopardy!  LESSER-KNOWN SCIENTISTS   \n",
       "216929         6300 2012-01-27         Jeopardy!                    PANTS   \n",
       "\n",
       "         Value                                           Question  \\\n",
       "0         $100            River mentioned most often in the Bible   \n",
       "1        $1000  According to 1st Timothy, it is the \"root of a...   \n",
       "2        $1000  Name under which experimenter Don Herbert taug...   \n",
       "3        $1000    D.C. building shaken by November '83 bomb blast   \n",
       "4        $1000  After the deed, he leaped to the stage shoutin...   \n",
       "...        ...                                                ...   \n",
       "216925    $800  There's a great opera house on Bennelong Point...   \n",
       "216926  $1,400  Tight-fitting pants patterned after those worn...   \n",
       "216927    $800  This kid, with a familiar last name, is seen <...   \n",
       "216928    $800  Joseph Lagrange insisted on 10 as the basic un...   \n",
       "216929    $200  A synonym for freight, or pants with large bel...   \n",
       "\n",
       "                   Answer                                     clean_question  \\\n",
       "0              the Jordan            river mentioned most often in the bible   \n",
       "1       the love of money  according to 1st timothy it is the root of all...   \n",
       "2              Mr. Wizard  name under which experimenter don herbert taug...   \n",
       "3             the Capitol       dc building shaken by november 83 bomb blast   \n",
       "4       John Wilkes Booth  after the deed he leaped to the stage shouting...   \n",
       "...                   ...                                                ...   \n",
       "216925             Sydney  theres a great opera house on bennelong point ...   \n",
       "216926     toreador pants  tightfitting pants patterned after those worn ...   \n",
       "216927        Jaden Smith  this kid with a familiar last name is seen a h...   \n",
       "216928  the metric system  joseph lagrange insisted on 10 as the basic un...   \n",
       "216929        cargo pants  a synonym for freight or pants with large bell...   \n",
       "\n",
       "             clean_answer  clean_value  answer_in_question  \n",
       "0              the jordan          100            0.000000  \n",
       "1       the love of money         1000            0.333333  \n",
       "2               mr wizard         1000            0.000000  \n",
       "3             the capitol         1000            0.000000  \n",
       "4       john wilkes booth         1000            0.000000  \n",
       "...                   ...          ...                 ...  \n",
       "216925             sydney          800            0.000000  \n",
       "216926     toreador pants         1400            0.500000  \n",
       "216927        jaden smith          800            0.000000  \n",
       "216928  the metric system          800            0.500000  \n",
       "216929        cargo pants          200            0.500000  \n",
       "\n",
       "[216930 rows x 11 columns]"
      ]
     },
     "execution_count": 13,
     "metadata": {},
     "output_type": "execute_result"
    }
   ],
   "source": [
    "# initiate empty list\n",
    "question_overlap = []\n",
    "\n",
    "# initiate empty set\n",
    "terms_used = set()\n",
    "\n",
    "# sort dataset by ascending air date and reset index for data manipulation later\n",
    "df.sort_values(by='Air Date', axis=0, inplace=True, ascending=True)\n",
    "df.reset_index(drop=True, inplace=True)\n",
    "\n",
    "# review transformation\n",
    "print(df['Air Date'].head(2))\n",
    "print(df['Air Date'].tail(2), '\\n')\n",
    "print(df['Air Date'].min())\n",
    "print(df['Air Date'].max())\n",
    "df"
   ]
  },
  {
   "cell_type": "code",
   "execution_count": 14,
   "id": "7a763dbc-4515-47af-82e4-3cc57e61e975",
   "metadata": {},
   "outputs": [
    {
     "data": {
      "text/plain": [
       "0.9299470655337387"
      ]
     },
     "execution_count": 14,
     "metadata": {},
     "output_type": "execute_result"
    }
   ],
   "source": [
    "# Use the iterrows Dataframe method to loop through each row of dataset to review repeated words in questions\n",
    "\n",
    "for index, row in df.iterrows():\n",
    "    # split over whitespace since unspecified argument\n",
    "    split_question = row['clean_question'].split()\n",
    "    \n",
    "    # loop each word in split_question\n",
    "    for word in split_question:\n",
    "        # remove any word with less than 6 char\n",
    "        if len(word) < 6:\n",
    "            split_question.remove(word)\n",
    "\n",
    "    # set match_count to zero\n",
    "    match_count = 0\n",
    "    \n",
    "    # loop each word in revised split_question\n",
    "    for word in split_question:\n",
    "        # increment match_count if word in qns is repeated in terms_used previously before the current question\n",
    "        if word in terms_used:\n",
    "            match_count += 1\n",
    "\n",
    "        # Add each word in split_question to the set of terms_used\n",
    "        terms_used.add(word)\n",
    "    \n",
    "    if len(split_question) > 0:\n",
    "        match_count_proportion = match_count / len(split_question)\n",
    "    else:\n",
    "        match_count_proportion = None\n",
    "##     checking bugs        \n",
    "#     if match_count > len(split_question):\n",
    "#         print(index, split_question, match_count, len(split_question))\n",
    "    \n",
    "    question_overlap.append(match_count_proportion)    \n",
    "\n",
    "# assign the newly created list to new column (turn it into array before assigning)    \n",
    "df['question_overlap'] = np.array(question_overlap)\n",
    "\n",
    "# compute mean of question_overlap\n",
    "df['question_overlap'].mean()"
   ]
  },
  {
   "cell_type": "code",
   "execution_count": 15,
   "id": "3c0ec53e-d0be-4c08-8d96-cf572a6c42e9",
   "metadata": {},
   "outputs": [
    {
     "name": "stdout",
     "output_type": "stream",
     "text": [
      "1.000000    135838\n",
      "0.970588         2\n",
      "0.969697         2\n",
      "0.968750         6\n",
      "0.967742         9\n",
      "             ...  \n",
      "0.142857        19\n",
      "0.125000        10\n",
      "0.111111         2\n",
      "0.000000      1032\n",
      "NaN            513\n",
      "Name: question_overlap, Length: 153, dtype: int64\n",
      "0.6749501183198114\n"
     ]
    }
   ],
   "source": [
    "# review distribution of question overlap columns\n",
    "print(df['question_overlap'].value_counts(dropna=False).sort_index(ascending=False))\n",
    "print((df['question_overlap'] == 1).sum() / df['question_overlap'].sum())"
   ]
  },
  {
   "cell_type": "markdown",
   "id": "d3dc3dbb-1612-4c48-9441-20615aa3a148",
   "metadata": {},
   "source": [
    "#### Findings (Recycled Questions):\n",
    "\n",
    "There do appear to have a high proportion of recycled questions (mean count of approximately 0.93). The interpretation is that there is a higher chance of success in the game by working out existing questions as questions tend to be repeated.\n",
    "\n",
    "In particularly, it would seems that 67% of the questions seem to be very similar to existing questions (evidenced by value of 1 among question overlap)."
   ]
  },
  {
   "cell_type": "markdown",
   "id": "7fa5600a-3a65-4f7c-b5c1-b52a28634446",
   "metadata": {},
   "source": [
    "## 6) Low Value VS High Value Questions\n",
    "\n",
    "Provided by: [Dataquest.io](https://www.dataquest.io/)\n",
    "\n",
    "Let's say we only want to study questions that pertain to high value questions instead of low value questions. This will help to earn more money when playing Jeopardy.\n",
    "\n",
    "We can actually figure out which terms correspond to high-value questions using a chi-squared test. We can first narrow down the questions into two categories:\n",
    "- Low value -- Any row where **Value** is less than **800**.\n",
    "- High value -- Any row where **Value** is greater than **800**.\n",
    "\n",
    "\n",
    "We would then be able to loop through each of the terms in the set we created previously, **'terms_used'**, and:\n",
    "- Find the number of low value questions the word occurs in.\n",
    "- Find the number of high value questions the word occurs in.\n",
    "- Find the percentage of questions the word occurs in.\n",
    "- Based on the percentage of questions the word occurs in, find expected counts.\n",
    "- Compute the chi squared value based on the expected counts and the observed counts for high and low value questions.\n",
    "\n",
    "We can then find the words with the biggest differences in usage between high and low value questions, by selecting the words with the highest associated chi-squared values. \n",
    "\n",
    "Doing this for all of the words would take a very long time, so we'll just do it for a small sample now."
   ]
  },
  {
   "cell_type": "code",
   "execution_count": 16,
   "id": "09e05430-e1dc-46bc-8f41-0a03a721686e",
   "metadata": {},
   "outputs": [
    {
     "data": {
      "text/plain": [
       "0    155508\n",
       "1     61422\n",
       "Name: high_value, dtype: int64"
      ]
     },
     "execution_count": 16,
     "metadata": {},
     "output_type": "execute_result"
    }
   ],
   "source": [
    "# Create a function that takes in a row from a Dataframe and categorise between high/low value\n",
    "def categorise_value_row(row):\n",
    "    if row['clean_value'] > 800:\n",
    "        value = 1\n",
    "    else:\n",
    "        value = 0\n",
    "    return value\n",
    "\n",
    "# Create new column - determine which questions are high and low value\n",
    "df['high_value'] = df.apply(categorise_value_row, axis=1)\n",
    "\n",
    "# review transformation\n",
    "df['high_value'].value_counts(dropna=False)"
   ]
  },
  {
   "cell_type": "code",
   "execution_count": 17,
   "id": "b5c768c9-8105-40ba-b6f5-d8f982a0b914",
   "metadata": {},
   "outputs": [
    {
     "data": {
      "text/plain": [
       "[(2, 1),\n",
       " (1, 0),\n",
       " (0, 2),\n",
       " (1, 0),\n",
       " (15, 29),\n",
       " (1, 0),\n",
       " (0, 1),\n",
       " (0, 1),\n",
       " (0, 1),\n",
       " (1, 0)]"
      ]
     },
     "execution_count": 17,
     "metadata": {},
     "output_type": "execute_result"
    }
   ],
   "source": [
    "# Create a function that takes in a word, then count number of times that word appeared in separate categories - high value or low value questions\n",
    "# Dataquest suggested using iterrows for this custom function, but do note that iterrows have performance issue (ie. slow), hence it would be preferable to perform vectorisation (most preferred) or df.apply functions whenever possible to optimise the execution speed and capacity\n",
    "def categorise_value_word(word):\n",
    "    low_count = 0\n",
    "    high_count = 0\n",
    "    for index, row in df.iterrows():\n",
    "        # split over whitespace since unspecified argument\n",
    "        clean_question = row['clean_question'].split()\n",
    "        if word in clean_question:\n",
    "            if row['high_value'] == 1:\n",
    "                high_count += 1 \n",
    "            else:\n",
    "                low_count += 1\n",
    "    return high_count, low_count  # returns a tuple\n",
    "\n",
    "\n",
    "# Randomly pick ten elements of terms_used and append them to a list 'comparison_terms'\n",
    "import random\n",
    "comparision_terms = random.sample(terms_used, 10)\n",
    "\n",
    "# initiate empty list - 'observed_expected'\n",
    "observed_expected = []\n",
    "\n",
    "# Loop through each term in 'comparison_terms' and get the high/low value count by executing the custom function, then append the result to the list - 'observed_expected'\n",
    "for word in comparision_terms:\n",
    "    observed_expected.append(categorise_value_word(word))\n",
    "\n",
    "# review transformation\n",
    "observed_expected"
   ]
  },
  {
   "cell_type": "markdown",
   "id": "9ba5f31a-b2df-471d-a69d-df247dbe6202",
   "metadata": {},
   "source": [
    "## 7) Applying The Chi-Squared Test\n",
    "\n",
    "Now that we have found the observed counts for a few terms, we can compute the expected counts and the chi-squared value."
   ]
  },
  {
   "cell_type": "code",
   "execution_count": 27,
   "id": "1947087a-5805-4aab-a8aa-810a93706b42",
   "metadata": {},
   "outputs": [
    {
     "data": {
      "image/png": "[encoded data removed]",
      "text/plain": [
       "<Figure size 432x288 with 1 Axes>"
      ]
     },
     "metadata": {
      "needs_background": "light"
     },
     "output_type": "display_data"
    },
    {
     "data": {
      "image/png": "[encoded data removed]",
      "text/plain": [
       "<Figure size 432x288 with 1 Axes>"
      ]
     },
     "metadata": {
      "needs_background": "light"
     },
     "output_type": "display_data"
    },
    {
     "data": {
      "text/plain": [
       "[0.08903022665047575,\n",
       " 0.09339047859424233,\n",
       " 0.4517393239670726,\n",
       " 0.09339047859424233,\n",
       " 0.017633404914900765,\n",
       " 0.09339047859424233,\n",
       " 0.5946491771067005,\n",
       " 0.5946491771067005,\n",
       " 0.5946491771067005,\n",
       " 0.09339047859424233]"
      ]
     },
     "execution_count": 27,
     "metadata": {},
     "output_type": "execute_result"
    }
   ],
   "source": [
    "# proceed with computation of chi-square and p-value to apply the test\n",
    "\n",
    "# chisquare(observed, expected)\n",
    "from scipy.stats import chisquare\n",
    "\n",
    "\n",
    "# no. of rows categorised as high value and low value\n",
    "high_value_count = df['high_value'].sum()\n",
    "low_value_count = len(df['high_value'] == 0)\n",
    "\n",
    "# initiate empty list\n",
    "chi_squared = []\n",
    "p_values = []\n",
    "\n",
    "# Loop through each tuple pair in observed_expected which is in format of (high_count, low_count)\n",
    "for tup in observed_expected:\n",
    "    total = sum(tup)  # get total count of high + low\n",
    "    total_prop = total / df.shape[0]  # get proportion for each word in comparision_terms for comparability between words (since each count means found in 1 row, hence proportion denominator is total number of rows in dataset)\n",
    "    expected_high_value_count = total_prop * high_value_count\n",
    "    expected_low_value_count = total_prop * low_value_count\n",
    "    \n",
    "    # since only 2 categories, ddof in function = 0\n",
    "    chisquare_value, pvalue = chisquare(tup, (expected_high_value_count, expected_low_value_count))\n",
    "    chi_squared.append(chisquare_value)\n",
    "    p_values.append(pvalue)\n",
    "                   \n",
    "# review chi-square and p-values\n",
    "import matplotlib.pyplot as plt\n",
    "\n",
    "plt.hist(chi_squared)\n",
    "plt.title('chi_square distribution for 10 sample comparision words')\n",
    "plt.show()\n",
    "plt.hist(p_values)\n",
    "plt.title('p_value distribution for 10 sample comparision words')\n",
    "plt.show()\n",
    "p_values"
   ]
  },
  {
   "cell_type": "markdown",
   "id": "5029e2f3-8f49-4d3f-bf4c-91c4d8b669f4",
   "metadata": {},
   "source": [
    "#### Findings (Applying The Chi-Squared Test):\n",
    "\n",
    "The chi-squared test enables us to quantify the difference between sets of observed andexpected categorical values to determine statistical significance.\n",
    "\n",
    "A p-value allows us to determine whether the difference between 2 values is due to chance, or due to an underlying difference.\n",
    "\n",
    "0.05 p-value is the typical threshold for statistical significance, and anything below it is considered significant.\n",
    "\n",
    "Remember the purpose of performing the chi-squared test in this project exercise is to identify the words with the biggest differences in usage between high and low value questions, by selecting the words with the highest associated chi-squared values (or low p-values).\n",
    "\n",
    "As such from our limited 10 samples, it would appear that most of the words do not have such distinction in statistical differences, though it can still be useful in focusing on those words that fulfill our criteria (high chi-squared values / low p-values), which can then be further investigated if it belongs mainly to high-value or low-value category, as a chi-squared test does not inform the direction of the classification.\n",
    "\n",
    "A larger sample size can also be conducted for production purposes to shortlist more candidates. However, the current code is slow when using df.iterrows(), hence see below conclusion for further discussion."
   ]
  },
  {
   "cell_type": "markdown",
   "id": "f5e117c5-d2a9-41b7-b19b-7d9f50418ba8",
   "metadata": {},
   "source": [
    "## 8) Conclusion:\n",
    "\n",
    "Key skills applied:\n",
    "\n",
    "- Applied a chi-square test to identify if any significant statistical differences in categorial data scoped in project.\n",
    "    - Processing and preparing the data to get the components of the test, before applying the formula.\n",
    "\n",
    "Potential next steps:\n",
    "- Find a better way to eliminate non-informative words than just removing words that are less than 6 characters long. Some ideas:\n",
    "    - Manually create a list of words to remove, like the, than, etc.\n",
    "    - Find a list of stopwords to remove.\n",
    "    - Remove words that occur in more than a certain percentage (like 5%) of questions.\n",
    "\n",
    "\n",
    "- Perform the chi-squared test across more terms to see what terms have larger differences. This is hard to do currently because the code is slow, but here are some ideas:\n",
    "    - Use the apply method to make the code that calculates frequencies more efficient.\n",
    "    - Only select terms that have high frequencies across the dataset, and ignore the others. \n",
    "\n",
    "\n",
    "- Look more into the Category column and see if any interesting analysis can be done with it. Some ideas:\n",
    "    - See which categories appear the most often.\n",
    "    - Find the probability of each category appearing in each round.\n",
    "\n",
    "\n",
    "- Use the whole Jeopardy dataset instead of the subset we used in this project exercise.\n",
    "\n",
    "- Use phrases instead of single words when seeing if there's overlap between questions. Single words don't capture the whole context of the question well."
   ]
  },
  {
   "cell_type": "code",
   "execution_count": null,
   "id": "bafa53d1-f82d-4ac7-892c-b373969cdf9f",
   "metadata": {},
   "outputs": [],
   "source": []
  }
 ],
 "metadata": {
  "kernelspec": {
   "display_name": "Python 3",
   "language": "python",
   "name": "python3"
  },
  "language_info": {
   "codemirror_mode": {
    "name": "ipython",
    "version": 3
   },
   "file_extension": ".py",
   "mimetype": "text/x-python",
   "name": "python",
   "nbconvert_exporter": "python",
   "pygments_lexer": "ipython3",
   "version": "3.8.8"
  }
 },
 "nbformat": 4,
 "nbformat_minor": 5
}
