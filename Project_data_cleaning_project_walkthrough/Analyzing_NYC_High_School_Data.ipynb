{
 "cells": [
  {
   "cell_type": "markdown",
   "id": "cddfdebf-1f00-412f-aa2b-5a46a3dc6981",
   "metadata": {},
   "source": [
    "# Dataquest - Data Cleaning Project Walkthrough <br/> <br/> Project Title: Analysing NYC High School Data"
   ]
  },
  {
   "cell_type": "markdown",
   "id": "59245bc3-274f-4c2d-8357-47e81df067c6",
   "metadata": {},
   "source": [
    "## 1) Introduction\n",
    "\n",
    "#### Background\n",
    "Provided by: [Dataquest.io](https://www.dataquest.io/)\n",
    "\n",
    "We have explored relationships between SAT scores and demographic factors in New York City public schools. For a brief bit of background, the SAT, or Scholastic Aptitude Test, is a test that high school seniors in the U.S. take every year. The SAT has three sections, each is worth 800 points. Colleges use the SAT to determine which students to admit. High average SAT scores are usually indicative of a good school.\n",
    "\n",
    "New York City has published data on [student SAT scores](https://data.cityofnewyork.us/Education/2012-SAT-Results/f9bf-2cp4) by high school, along with additional demographic datasets. \n",
    "\n",
    "We combined the following datasets from below into a single, clean pandas dataframe:\n",
    "\n",
    "- [SAT scores by school](https://data.cityofnewyork.us/Education/2012-SAT-Results/f9bf-2cp4) - SAT scores for each high school in New York City\n",
    "- [School attendance](https://data.cityofnewyork.us/Education/2010-2011-School-Attendance-and-Enrollment-Statist/7z8d-msnt) - Attendance information for each school in New York City\n",
    "- [Class size](https://data.cityofnewyork.us/Education/2010-2011-Class-Size-School-level-detail/urz7-pzb3) - Information on class size for each school\n",
    "- [AP test results](https://data.cityofnewyork.us/Education/2010-AP-College-Board-School-Level-Results/itfs-ms3e) - Advanced Placement (AP) exam results for each high school (passing an optional AP exam in a particular subject can earn a student college credit in that subject)\n",
    "- [Graduation outcomes](https://data.cityofnewyork.us/Education/2005-2010-Graduation-Outcomes-School-Level/vh2h-md7a) - The percentage of students who graduated and other outcome information\n",
    "- [Demographics](https://data.cityofnewyork.us/Education/2006-2012-School-Demographics-and-Accountability-S/ihfw-zy9j) - Demographic information for each school\n",
    "- [School survey](https://data.cityofnewyork.us/Education/2011-NYC-School-Survey/mnz3-dyi8) - Surveys of parents, teachers, and students at each school\n",
    "\n",
    "New York City has a significant immigrant population and is very diverse, so comparing demographic factors such as race, income, and gender with SAT scores is a good way to determine whether the SAT is a fair test. For example, if certain racial groups consistently perform better on the SAT, we would have some evidence that the SAT is unfair.\n",
    "\n",
    "We'll also perform some analysis."
   ]
  },
  {
   "cell_type": "code",
   "execution_count": 1,
   "id": "923151e2-c8a1-4961-90da-235e3d575613",
   "metadata": {},
   "outputs": [],
   "source": [
    "# Read in the data\n",
    "import pandas as pd\n",
    "import numpy\n",
    "import re\n",
    "\n",
    "data_files = [\n",
    "    \"ap_2010.csv\",\n",
    "    \"class_size.csv\",\n",
    "    \"demographics.csv\",\n",
    "    \"graduation.csv\",\n",
    "    \"hs_directory.csv\",\n",
    "    \"sat_results.csv\"\n",
    "]\n",
    "\n",
    "data = {}\n",
    "\n",
    "for f in data_files:\n",
    "    d = pd.read_csv(\"schools/{0}\".format(f))\n",
    "    data[f.replace(\".csv\", \"\")] = d"
   ]
  },
  {
   "cell_type": "code",
   "execution_count": 2,
   "id": "6b77a4e3-5507-434b-8f03-6c330b309f0d",
   "metadata": {},
   "outputs": [],
   "source": [
    "# Read in the surveys\n",
    "all_survey = pd.read_csv(\"schools/survey_all.txt\", delimiter=\"\\t\", encoding='windows-1252')\n",
    "d75_survey = pd.read_csv(\"schools/survey_d75.txt\", delimiter=\"\\t\", encoding='windows-1252')\n",
    "survey = pd.concat([all_survey, d75_survey], axis=0)\n",
    "\n",
    "survey[\"DBN\"] = survey[\"dbn\"]\n",
    "\n",
    "survey_fields = [\n",
    "    \"DBN\", \n",
    "    \"rr_s\", \n",
    "    \"rr_t\", \n",
    "    \"rr_p\", \n",
    "    \"N_s\", \n",
    "    \"N_t\", \n",
    "    \"N_p\", \n",
    "    \"saf_p_11\", \n",
    "    \"com_p_11\", \n",
    "    \"eng_p_11\", \n",
    "    \"aca_p_11\", \n",
    "    \"saf_t_11\", \n",
    "    \"com_t_11\", \n",
    "    \"eng_t_11\", \n",
    "    \"aca_t_11\", \n",
    "    \"saf_s_11\", \n",
    "    \"com_s_11\", \n",
    "    \"eng_s_11\", \n",
    "    \"aca_s_11\", \n",
    "    \"saf_tot_11\", \n",
    "    \"com_tot_11\", \n",
    "    \"eng_tot_11\", \n",
    "    \"aca_tot_11\",\n",
    "]\n",
    "survey = survey.loc[:,survey_fields]\n",
    "data[\"survey\"] = survey"
   ]
  },
  {
   "cell_type": "code",
   "execution_count": 3,
   "id": "cccf45c3-f34f-4374-8c3e-1d3ae4b03575",
   "metadata": {},
   "outputs": [],
   "source": [
    "# Add DBN columns\n",
    "data[\"hs_directory\"][\"DBN\"] = data[\"hs_directory\"][\"dbn\"]\n",
    "\n",
    "def pad_csd(num):\n",
    "    string_representation = str(num)\n",
    "    if len(string_representation) > 1:\n",
    "        return string_representation\n",
    "    else:\n",
    "        return \"0\" + string_representation\n",
    "    \n",
    "data[\"class_size\"][\"padded_csd\"] = data[\"class_size\"][\"CSD\"].apply(pad_csd)\n",
    "data[\"class_size\"][\"DBN\"] = data[\"class_size\"][\"padded_csd\"] + data[\"class_size\"][\"SCHOOL CODE\"]"
   ]
  },
  {
   "cell_type": "code",
   "execution_count": 4,
   "id": "9f3897e5-3650-493c-aa67-df46a45c78cf",
   "metadata": {},
   "outputs": [],
   "source": [
    "# Convert columns to numeric\n",
    "cols = ['SAT Math Avg. Score', 'SAT Critical Reading Avg. Score', 'SAT Writing Avg. Score']\n",
    "for c in cols:\n",
    "    data[\"sat_results\"][c] = pd.to_numeric(data[\"sat_results\"][c], errors=\"coerce\")\n",
    "\n",
    "data['sat_results']['sat_score'] = data['sat_results'][cols[0]] + data['sat_results'][cols[1]] + data['sat_results'][cols[2]]\n",
    "\n",
    "def find_lat(loc):\n",
    "    coords = re.findall(\"\\(.+, .+\\)\", loc)\n",
    "    lat = coords[0].split(\",\")[0].replace(\"(\", \"\")\n",
    "    return lat\n",
    "\n",
    "def find_lon(loc):\n",
    "    coords = re.findall(\"\\(.+, .+\\)\", loc)\n",
    "    lon = coords[0].split(\",\")[1].replace(\")\", \"\").strip()\n",
    "    return lon\n",
    "\n",
    "data[\"hs_directory\"][\"lat\"] = data[\"hs_directory\"][\"Location 1\"].apply(find_lat)\n",
    "data[\"hs_directory\"][\"lon\"] = data[\"hs_directory\"][\"Location 1\"].apply(find_lon)\n",
    "\n",
    "data[\"hs_directory\"][\"lat\"] = pd.to_numeric(data[\"hs_directory\"][\"lat\"], errors=\"coerce\")\n",
    "data[\"hs_directory\"][\"lon\"] = pd.to_numeric(data[\"hs_directory\"][\"lon\"], errors=\"coerce\")"
   ]
  },
  {
   "cell_type": "code",
   "execution_count": 5,
   "id": "9550f5df-0a7a-43f9-b29c-5fe44652bc05",
   "metadata": {},
   "outputs": [],
   "source": [
    "# Condense datasets\n",
    "class_size = data[\"class_size\"]\n",
    "class_size = class_size[class_size[\"GRADE \"] == \"09-12\"]\n",
    "class_size = class_size[class_size[\"PROGRAM TYPE\"] == \"GEN ED\"]\n",
    "\n",
    "class_size = class_size.groupby(\"DBN\").agg(numpy.mean)\n",
    "class_size.reset_index(inplace=True)\n",
    "data[\"class_size\"] = class_size\n",
    "\n",
    "data[\"demographics\"] = data[\"demographics\"][data[\"demographics\"][\"schoolyear\"] == 20112012]\n",
    "\n",
    "data[\"graduation\"] = data[\"graduation\"][data[\"graduation\"][\"Cohort\"] == \"2006\"]\n",
    "data[\"graduation\"] = data[\"graduation\"][data[\"graduation\"][\"Demographic\"] == \"Total Cohort\"]"
   ]
  },
  {
   "cell_type": "code",
   "execution_count": 6,
   "id": "0c0a822c-9c0b-4773-8385-823d9a0f48f5",
   "metadata": {},
   "outputs": [],
   "source": [
    "# Convert AP scores to numeric\n",
    "cols = ['AP Test Takers ', 'Total Exams Taken', 'Number of Exams with scores 3 4 or 5']\n",
    "\n",
    "for col in cols:\n",
    "    data[\"ap_2010\"][col] = pd.to_numeric(data[\"ap_2010\"][col], errors=\"coerce\")"
   ]
  },
  {
   "cell_type": "code",
   "execution_count": 7,
   "id": "78ce244a-9413-498f-b014-53e1bbf59ab3",
   "metadata": {},
   "outputs": [],
   "source": [
    "# Combine the datasets\n",
    "combined = data[\"sat_results\"]\n",
    "\n",
    "combined = combined.merge(data[\"ap_2010\"], on=\"DBN\", how=\"left\")\n",
    "combined = combined.merge(data[\"graduation\"], on=\"DBN\", how=\"left\")\n",
    "\n",
    "to_merge = [\"class_size\", \"demographics\", \"survey\", \"hs_directory\"]\n",
    "\n",
    "for m in to_merge:\n",
    "    combined = combined.merge(data[m], on=\"DBN\", how=\"inner\")\n",
    "\n",
    "combined = combined.fillna(combined.mean())\n",
    "combined = combined.fillna(0)"
   ]
  },
  {
   "cell_type": "code",
   "execution_count": 8,
   "id": "9f96d99d-6ba4-4067-95fd-ea73b73133b1",
   "metadata": {},
   "outputs": [],
   "source": [
    "# Add a school district column for mapping\n",
    "def get_first_two_chars(dbn):\n",
    "    return dbn[0:2]\n",
    "\n",
    "combined[\"school_dist\"] = combined[\"DBN\"].apply(get_first_two_chars)"
   ]
  },
  {
   "cell_type": "code",
   "execution_count": 9,
   "id": "06b458d8-2f87-4f8b-a10c-764b69b9f622",
   "metadata": {},
   "outputs": [
    {
     "name": "stdout",
     "output_type": "stream",
     "text": [
      "SAT Critical Reading Avg. Score    0.986820\n",
      "SAT Math Avg. Score                0.972643\n",
      "SAT Writing Avg. Score             0.987771\n",
      "sat_score                          1.000000\n",
      "AP Test Takers                     0.523140\n",
      "                                     ...   \n",
      "priority08                              NaN\n",
      "priority09                              NaN\n",
      "priority10                              NaN\n",
      "lat                               -0.121029\n",
      "lon                               -0.132222\n",
      "Name: sat_score, Length: 67, dtype: float64\n"
     ]
    }
   ],
   "source": [
    "# Find correlations\n",
    "correlations = combined.corr()\n",
    "correlations = correlations[\"sat_score\"]\n",
    "print(correlations)"
   ]
  },
  {
   "cell_type": "code",
   "execution_count": 10,
   "id": "a4340d07-194b-49b9-8e4b-16177d230a0f",
   "metadata": {},
   "outputs": [],
   "source": [
    "# Plotting survey correlations\n",
    "\n",
    "# Remove DBN since it's a unique identifier, not a useful numerical value for correlation.\n",
    "survey_fields.remove(\"DBN\")"
   ]
  },
  {
   "cell_type": "code",
   "execution_count": 18,
   "id": "f00e798b-81b7-49f0-bf93-9bbf16f43d6f",
   "metadata": {},
   "outputs": [
    {
     "data": {
      "image/png": "[encoded data removed]",
      "text/plain": [
       "<Figure size 640x480 with 1 Axes>"
      ]
     },
     "metadata": {
      "needs_background": "light"
     },
     "output_type": "display_data"
    }
   ],
   "source": [
    "# Enables Jupyter to display graphs\n",
    "%matplotlib inline\n",
    "\n",
    "import matplotlib.pyplot as plt\n",
    "\n",
    "\n",
    "# There are several fields in combined that originally came from a survey of parents, teachers, and students (ie. from 'survey_fields'). Make a bar plot of the correlations between these fields and sat_score.\n",
    "\n",
    "plt.figure(figsize=(8, 6), dpi=80)  # adjust plot figure size\n",
    "correlations[survey_fields].plot.bar()  # bar plots\n",
    "plt.show()"
   ]
  },
  {
   "cell_type": "markdown",
   "id": "8c58f8f1-8b1b-4d58-b6f5-13402907dad2",
   "metadata": {},
   "source": [
    "#### Findings (Introduction):\n",
    "From the above correlation barchart, we can review the strength of correlation between these factors, and SAT score.\n",
    "\n",
    "Some factors that seem to have higher strength on correlation would include:\n",
    "- Safety factors (eg. **saf_t_11** and **saf_s_11**)"
   ]
  },
  {
   "cell_type": "markdown",
   "id": "9e5908e3-ff1a-4b11-80e0-2bc4d532b3d6",
   "metadata": {},
   "source": [
    "## 2) Exploring Safety and SAT Scores\n",
    "\n",
    "Provided by: [Dataquest.io](https://www.dataquest.io/)\n",
    "\n",
    "It would appear that **saf_t_11** and **saf_s_11**, which measure how teachers and students perceive safety at school, correlated highly with **sat_score**.\n",
    "\n",
    "We'll dig into this relationship a bit more and try to figure out which schools have low safety scores."
   ]
  },
  {
   "cell_type": "code",
   "execution_count": 32,
   "id": "e175c498-78d2-4fdb-ad26-f455ab38579b",
   "metadata": {},
   "outputs": [
    {
     "data": {
      "image/png": "[encoded data removed]",
      "text/plain": [
       "<Figure size 576x432 with 1 Axes>"
      ]
     },
     "metadata": {
      "needs_background": "light"
     },
     "output_type": "display_data"
    }
   ],
   "source": [
    "# Investigate safety scores\n",
    "combined.plot(x='saf_s_11', y='sat_score', kind='scatter', figsize=(8, 6))  # scatterplot\n",
    "\n",
    "# find line of best fit\n",
    "# source: https://pythonguides.com/matplotlib-best-fit-line/\n",
    "# using np.polyfit() method\n",
    "import numpy as np\n",
    "\n",
    "x = combined['saf_s_11']\n",
    "y = combined['sat_score']\n",
    "\n",
    "theta = np.polyfit(x, y, 1)\n",
    "y_line = theta[1] + theta[0]*x  # representing best-fit line: y = mx + C\n",
    "\n",
    "# add line of best fit to plot\n",
    "plt.plot(x, y_line, color='red')\n",
    "\n",
    "# show plot\n",
    "plt.show();"
   ]
  },
  {
   "cell_type": "markdown",
   "id": "45888676-e094-4489-b537-6105cc270bdf",
   "metadata": {},
   "source": [
    "#### Findings (Exploring Safety And SAT Scores):\n",
    "\n",
    "It does appear from the scatterplot above that there is a positive correlation best-fit-line that trends gradually upwards, between safety scores and SAT scores."
   ]
  },
  {
   "cell_type": "markdown",
   "id": "77a3ae7d-8893-448d-9109-0191b39d1a1d",
   "metadata": {
    "tags": []
   },
   "source": [
    "## 3) Exploring Race And SAT Scores\n",
    "\n",
    "There are a few columns that indicate the percentage of each race at a given school:\n",
    "\n",
    "- **white_per**\n",
    "- **asian_per**\n",
    "- **black_per**\n",
    "- **hispanic_per**\n",
    "\n",
    "By plotting out the correlations between these columns and sat_score, we can determine whether there are any racial differences in SAT performance."
   ]
  },
  {
   "cell_type": "code",
   "execution_count": 78,
   "id": "1a174622-11cc-4f69-8127-760cc6bfe82e",
   "metadata": {},
   "outputs": [
    {
     "data": {
      "image/png": "[encoded data removed]",
      "text/plain": [
       "<Figure size 432x288 with 1 Axes>"
      ]
     },
     "metadata": {
      "needs_background": "light"
     },
     "output_type": "display_data"
    }
   ],
   "source": [
    "# Investigate racial differences in SAT scores.\n",
    "\n",
    "\n",
    "# Make a bar plot of the correlations between the columns above and sat_score.\n",
    "cols = ['white_per', 'asian_per', 'black_per', 'hispanic_per']\n",
    "\n",
    "correlations[cols].plot(kind='bar')  # bar plot\n",
    "plt.show()"
   ]
  },
  {
   "cell_type": "markdown",
   "id": "9428a83f-1ef1-437d-a364-57958856ecd6",
   "metadata": {},
   "source": [
    "#### Findings (Exploring Race And SAT Scores):\n",
    "There are interesting correlations between SAT Scores and races percentages.\n",
    "\n",
    "This could be an indication of racial disparity between SAT scores and races.\n",
    "\n",
    "Correlations with SAT scores:\n",
    "- Positive: **white_per, asian_per**\n",
    "- Negative: **black_per, hispanic_per**\n"
   ]
  },
  {
   "cell_type": "code",
   "execution_count": 83,
   "id": "7c5e0d15-b3ba-4de5-9c3b-8c339eb62553",
   "metadata": {},
   "outputs": [
    {
     "data": {
      "image/png": "[encoded data removed]",
      "text/plain": [
       "<Figure size 576x432 with 1 Axes>"
      ]
     },
     "metadata": {
      "needs_background": "light"
     },
     "output_type": "display_data"
    }
   ],
   "source": [
    "# Explore schools with low SAT scores and high values for hispanic_per.\n",
    "\n",
    "\n",
    "combined.plot(x='hispanic_per', y='sat_score', kind='scatter', figsize=(8, 6))  # scatterplot\n",
    "\n",
    "\n",
    "# find line of best fit\n",
    "# source: https://pythonguides.com/matplotlib-best-fit-line/\n",
    "# using np.polyfit() method\n",
    "x = combined['hispanic_per']\n",
    "y = combined['sat_score']\n",
    "\n",
    "theta = np.polyfit(x, y, 1)\n",
    "y_line = theta[1] + theta[0]*x  # representing best-fit line: y = mx + C\n",
    "\n",
    "# add line of best fit to plot\n",
    "plt.plot(x, y_line, color='red')\n",
    "\n",
    "plt.show()"
   ]
  },
  {
   "cell_type": "markdown",
   "id": "7edb34c1-55da-4b00-8fae-b9a3f218899d",
   "metadata": {},
   "source": [
    "#### Findings (Exploring Race And SAT Scores):\n",
    "\n",
    "We have confirmed with a scatterplot and line of best fit that there is a light but noticeable  negative correlation between SAT scores and hispanic students percentages."
   ]
  },
  {
   "cell_type": "code",
   "execution_count": 90,
   "id": "45e50fbd-d40e-4dfa-a8d1-bc2dc73a9a37",
   "metadata": {},
   "outputs": [
    {
     "data": {
      "text/plain": [
       "MULTICULTURAL HIGH SCHOOL                                   1\n",
       "INTERNATIONAL SCHOOL FOR LIBERAL ARTS                       1\n",
       "MANHATTAN BRIDGES HIGH SCHOOL                               1\n",
       "PAN AMERICAN INTERNATIONAL HIGH SCHOOL AT MONROE            1\n",
       "GREGORIO LUPERON HIGH SCHOOL FOR SCIENCE AND MATHEMATICS    1\n",
       "ACADEMY FOR LANGUAGE AND TECHNOLOGY                         1\n",
       "WASHINGTON HEIGHTS EXPEDITIONARY LEARNING SCHOOL            1\n",
       "PAN AMERICAN INTERNATIONAL HIGH SCHOOL                      1\n",
       "Name: SCHOOL NAME, dtype: int64"
      ]
     },
     "execution_count": 90,
     "metadata": {},
     "output_type": "execute_result"
    }
   ],
   "source": [
    "# Research any schools with a hispanic_per greater than 95%.\n",
    "combined[combined['hispanic_per'] > 95.0]['SCHOOL NAME'].value_counts()\n"
   ]
  },
  {
   "cell_type": "markdown",
   "id": "f25da0a7-f157-49d0-bf31-1d9cead32ab2",
   "metadata": {},
   "source": [
    "#### Findings (Exploring Race And SAT Scores):\n",
    "\n",
    "Based on general google desktop research, it would appear these schools seem to be international schools more focused on catering to non-native english speaking students.\n",
    "\n",
    "This may indicate a strong positive correlation between english language abilities and SAT scores."
   ]
  },
  {
   "cell_type": "code",
   "execution_count": 92,
   "id": "db206d44-3e6f-4c38-9832-149c6fce3cdc",
   "metadata": {},
   "outputs": [
    {
     "data": {
      "text/plain": [
       "BRONX HIGH SCHOOL OF SCIENCE                           1\n",
       "BROOKLYN TECHNICAL HIGH SCHOOL                         1\n",
       "QUEENS HIGH SCHOOL FOR THE SCIENCES AT YORK COLLEGE    1\n",
       "STUYVESANT HIGH SCHOOL                                 1\n",
       "STATEN ISLAND TECHNICAL HIGH SCHOOL                    1\n",
       "Name: SCHOOL NAME, dtype: int64"
      ]
     },
     "execution_count": 92,
     "metadata": {},
     "output_type": "execute_result"
    }
   ],
   "source": [
    "# Research any schools with a hispanic_per less than 10% and an average SAT score greater than 1800.\n",
    "\n",
    "combined[(combined['hispanic_per'] < 10.0) & (combined['sat_score'] > 1800)]['SCHOOL NAME'].value_counts()"
   ]
  },
  {
   "cell_type": "markdown",
   "id": "84d46051-6318-49cc-8696-1526d0ed1af8",
   "metadata": {},
   "source": [
    "#### Findings (Exploring Race And SAT Scores):\n",
    "\n",
    "Based on general google desktop research, it would appear these schools seem to be high competitive in terms of admissions, and also they tend to be involved in highly technical subjects such as STEM.\n",
    "\n",
    "The above guesses may potentially explain the indications of strong correlations with low population of hispanic people and high SAT scores in such schools."
   ]
  },
  {
   "cell_type": "markdown",
   "id": "a656a2cb-b1e8-4883-8ba5-69d455e83950",
   "metadata": {},
   "source": [
    "## 4) Exploring Gender And SAT Scores\n",
    "\n",
    "There are two columns that indicate the percentage of each gender at a school:\n",
    "\n",
    "- **male_per**\n",
    "- **female_per**\n",
    "\n",
    "We can plot out the correlations between each percentage and **sat_score**."
   ]
  },
  {
   "cell_type": "code",
   "execution_count": 97,
   "id": "60e497d3-ba0e-4977-bb25-617fa3641aae",
   "metadata": {},
   "outputs": [
    {
     "data": {
      "image/png": "[encoded data removed]",
      "text/plain": [
       "<Figure size 432x288 with 1 Axes>"
      ]
     },
     "metadata": {
      "needs_background": "light"
     },
     "output_type": "display_data"
    }
   ],
   "source": [
    "# Investigate gender differences in SAT scores.\n",
    "\n",
    "cols = ['male_per', 'female_per']\n",
    "correlations[cols].plot(kind='barh')\n",
    "plt.show()"
   ]
  },
  {
   "cell_type": "code",
   "execution_count": 98,
   "id": "d0198424-b949-4750-9a1d-fdc4148ab9b4",
   "metadata": {},
   "outputs": [
    {
     "data": {
      "text/html": [
       "<style>\n",
       "table {align:left;display:block}  # to align html tables to left\n",
       "</style>\n"
      ],
      "text/plain": [
       "<IPython.core.display.HTML object>"
      ]
     },
     "metadata": {},
     "output_type": "display_data"
    }
   ],
   "source": [
    "%%html\n",
    "<style>\n",
    "table {align:left;display:block}  # to align html tables to left\n",
    "</style>"
   ]
  },
  {
   "cell_type": "markdown",
   "id": "778527cd-918a-4857-969b-747f68aec452",
   "metadata": {},
   "source": [
    "#### Findings (Exploring Gender And SAT Scores):\n",
    "\n",
    "**Rule of thumb for interpreting the strength of a relationship based on its r value:**\n",
    "\n",
    "Absolute Value of r | Strength of Relationship\n",
    "--- | ---\n",
    "r < 0.3 | None or very weak\n",
    "0.3 < r <0.5 | Weak\n",
    "0.5 < r < 0.7 | Moderate\n",
    "r > 0.7 | Strong\n",
    "\n",
    "Based on the above, it does appear to have very weak correlations between gender and SAT scores in our dataset."
   ]
  },
  {
   "cell_type": "code",
   "execution_count": 100,
   "id": "02214891-9408-4964-959d-182297da05ad",
   "metadata": {},
   "outputs": [
    {
     "data": {
      "image/png": "[encoded data removed]",
      "text/plain": [
       "<Figure size 576x432 with 1 Axes>"
      ]
     },
     "metadata": {
      "needs_background": "light"
     },
     "output_type": "display_data"
    }
   ],
   "source": [
    "# Investigate schools with high SAT scores and a high female_per\n",
    "\n",
    "combined.plot(x='female_per', y='sat_score', kind='scatter', figsize=(8, 6))  # scatterplot\n",
    "\n",
    "\n",
    "# find line of best fit\n",
    "# source: https://pythonguides.com/matplotlib-best-fit-line/\n",
    "# using np.polyfit() method\n",
    "x = combined['female_per']\n",
    "y = combined['sat_score']\n",
    "\n",
    "theta = np.polyfit(x, y, 1)\n",
    "y_line = theta[1] + theta[0]*x  # representing best-fit line: y = mx + C\n",
    "\n",
    "# add line of best fit to plot\n",
    "plt.plot(x, y_line, color='red')\n",
    "\n",
    "plt.show()\n"
   ]
  },
  {
   "cell_type": "markdown",
   "id": "0db7ee39-9e64-47db-9787-a68e94715a22",
   "metadata": {},
   "source": [
    "#### Findings (Exploring Gender And SAT Scores):\n",
    "\n",
    "One interesting observation from the scatterplot above is that those schools with exceptional SAT scores come from schools with balanced gender proportions."
   ]
  },
  {
   "cell_type": "code",
   "execution_count": 112,
   "id": "4810c37a-f63d-4275-819e-b0ed74d6d42a",
   "metadata": {},
   "outputs": [
    {
     "data": {
      "text/plain": [
       "ELEANOR ROOSEVELT HIGH SCHOOL                                           1\n",
       "BEACON HIGH SCHOOL                                                      1\n",
       "BARD HIGH SCHOOL EARLY COLLEGE                                          1\n",
       "TOWNSEND HARRIS HIGH SCHOOL                                             1\n",
       "FIORELLO H. LAGUARDIA HIGH SCHOOL OF MUSIC & ART AND PERFORMING ARTS    1\n",
       "Name: SCHOOL NAME, dtype: int64"
      ]
     },
     "execution_count": 112,
     "metadata": {},
     "output_type": "execute_result"
    }
   ],
   "source": [
    "# Research any schools with a female_per greater than 60% and an average SAT score greater than 1700.\n",
    "\n",
    "mask_1 = combined['female_per'] > 60.0\n",
    "mask_2 = combined['sat_score'] > 1700\n",
    "\n",
    "combined[mask_1 & mask_2]['SCHOOL NAME'].value_counts()"
   ]
  },
  {
   "cell_type": "markdown",
   "id": "73e3b5c8-3e11-47b5-92b6-37b17ee3d085",
   "metadata": {},
   "source": [
    "#### Findings (Exploring Gender And SAT Scores):\n",
    "\n",
    "Based on general google desktop research, one interesting observation is that all of these schools are located in Manhattan. \n",
    "\n",
    "This prompt the question if good US high schools with higher female percentage tend to be located in Manhattan?"
   ]
  },
  {
   "cell_type": "markdown",
   "id": "70819e8e-4538-4b6c-b14a-f00c7782f054",
   "metadata": {},
   "source": [
    "## 5) Exploring AP Scores VS. SAT Scores\n",
    "\n",
    "In the U.S., high school students take [Advanced Placement (AP)](https://en.wikipedia.org/wiki/Advanced_Placement_exams) exams to earn college credit. There are AP exams for many different subjects.\n",
    "\n",
    "It makes sense that the number of students at a school who took AP exams would be highly correlated with the school's SAT scores. Let's explore this relationship. Because **total_enrollment** is highly correlated with **sat_score**, we don't want to lead to bias results. Instead, we'll look at the percentage of students in each school who took at least one AP exam."
   ]
  },
  {
   "cell_type": "code",
   "execution_count": 118,
   "id": "eabc5e7a-b2d2-482e-8e6b-02baa7dafd16",
   "metadata": {},
   "outputs": [],
   "source": [
    "# Calculate the percentage of students in each school that took an AP exam.\n",
    "\n",
    "combined['ap_per'] = round(combined['AP Test Takers '] / combined['total_enrollment'] * 100, 1)\n"
   ]
  },
  {
   "cell_type": "code",
   "execution_count": 133,
   "id": "371de4cb-a641-47c5-aa0c-54a3cc5c332f",
   "metadata": {},
   "outputs": [
    {
     "data": {
      "image/png": "[encoded data removed]",
      "text/plain": [
       "<Figure size 576x432 with 1 Axes>"
      ]
     },
     "metadata": {
      "needs_background": "light"
     },
     "output_type": "display_data"
    },
    {
     "name": "stdout",
     "output_type": "stream",
     "text": [
      "Correlation coefficient between sat score and percentage of people taking AP exams is 0.057224.\n"
     ]
    }
   ],
   "source": [
    "# Investigate the relationship between AP scores and SAT scores.\n",
    "\n",
    "combined.plot(x='ap_per', y='sat_score', kind='scatter', figsize=(8, 6))  # scatterplot\n",
    "\n",
    "\n",
    "# find line of best fit\n",
    "# source: https://pythonguides.com/matplotlib-best-fit-line/\n",
    "# using np.polyfit() method\n",
    "x = combined['ap_per']\n",
    "y = combined['sat_score']\n",
    "\n",
    "theta = np.polyfit(x, y, 1)\n",
    "y_line = theta[1] + theta[0]*x  # representing best-fit line: y = mx + C\n",
    "\n",
    "# add line of best fit to plot\n",
    "plt.plot(x, y_line, color='red')\n",
    "\n",
    "plt.show()\n",
    "\n",
    "print('Correlation coefficient between sat score and percentage of people taking AP exams is {:1f}.'.format(combined.corr()['sat_score']['ap_per']))"
   ]
  },
  {
   "cell_type": "markdown",
   "id": "08b06d74-a0cc-4ff1-afe1-cc73bd417835",
   "metadata": {},
   "source": [
    "#### Findings (Exploring AP Scores VS. SAT Scores): \n",
    "\n",
    "It does appear to have no strong correlation between AP exam takers and SAT scores, although the highest SAT scorers seem to be around the 50% range of AP exam takers.\n",
    "\n",
    "Another potential area to investigate could be the correlation between AP exam scores itself (instead of AP exam takers) and SAT scores."
   ]
  },
  {
   "cell_type": "markdown",
   "id": "6facb75e-1622-4db0-8d08-3d78fbe102b3",
   "metadata": {},
   "source": [
    "## 6) Conclusion\n",
    "\n",
    "#### Key skills applied in project:\n",
    "- Investigation into relationships between demographics and SAT scores.\n",
    "- Combined multiple datasets into a single, clean pandas dataframe using various joins technique (eg. df.merge(), left joins and inner joins)\n",
    "- Performed various data cleaning techniques to prepare data before proceed with analysis.\n",
    "- Identified correlations based on combinations of statistical computation and charting with scatterplot and line of best fit.\n",
    "- Performed desktop research to suggest potential explanations on identified correlations/trends.\n",
    "\n",
    "#### Potential next steps:\n",
    "- Determe whether there's a correlation between class size and SAT scores\n",
    "- Figure out which neighborhoods have the best schools\n",
    "  - If we combine this information with a dataset containing property values, we could find the least expensive neighborhoods that have good schools.\n",
    "- Investigate the differences between parent, teacher, and student responses to surveys.\n",
    "- Assign scores to schools based on **sat_score** and other attributes."
   ]
  },
  {
   "cell_type": "code",
   "execution_count": null,
   "id": "1e72ac5b-87e6-4648-9da8-3fb4edb6ee90",
   "metadata": {},
   "outputs": [],
   "source": []
  }
 ],
 "metadata": {
  "kernelspec": {
   "display_name": "Python 3",
   "language": "python",
   "name": "python3"
  },
  "language_info": {
   "codemirror_mode": {
    "name": "ipython",
    "version": 3
   },
   "file_extension": ".py",
   "mimetype": "text/x-python",
   "name": "python",
   "nbconvert_exporter": "python",
   "pygments_lexer": "ipython3",
   "version": "3.8.8"
  }
 },
 "nbformat": 4,
 "nbformat_minor": 5
}
