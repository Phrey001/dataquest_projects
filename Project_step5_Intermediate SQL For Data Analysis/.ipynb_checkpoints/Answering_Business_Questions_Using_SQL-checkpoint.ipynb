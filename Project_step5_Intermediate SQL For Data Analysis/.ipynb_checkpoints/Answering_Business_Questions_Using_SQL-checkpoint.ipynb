{
 "cells": [
  {
   "cell_type": "code",
   "execution_count": 1,
   "id": "c04a5b8c-b40c-4db5-9e29-2fbffac73982",
   "metadata": {},
   "outputs": [],
   "source": [
    "# import libraries\n",
    "\n",
    "import sqlite3  # for working with sqlite3 in jupyter python script\n",
    "from IPython.display import Image  # for displaying images in markdown cells"
   ]
  },
  {
   "cell_type": "code",
   "execution_count": 2,
   "id": "d2e98037-4524-4820-ace6-c0556fe56103",
   "metadata": {},
   "outputs": [
    {
     "data": {
      "text/html": [
       "<style>\n",
       "table {align:left;display:block}  # to align html tables to left\n",
       "</style> \n"
      ],
      "text/plain": [
       "<IPython.core.display.HTML object>"
      ]
     },
     "metadata": {},
     "output_type": "display_data"
    }
   ],
   "source": [
    "%%html\n",
    "<style>\n",
    "table {align:left;display:block}  # to align html tables to left\n",
    "</style> "
   ]
  },
  {
   "cell_type": "markdown",
   "id": "59eaa8b2-3160-42ac-aaf1-23ca39cb91e5",
   "metadata": {},
   "source": [
    "# Dataquest - Intermediate SQL For Data Analysis <br/> <br/> Project Title: Answering Business Questions Using SQL"
   ]
  },
  {
   "cell_type": "markdown",
   "id": "6e4bd063-5983-4242-9667-af06b54730d9",
   "metadata": {},
   "source": [
    "## 1) Introduction and Schema Diagram\n",
    "\n",
    "Provided by: [Dataquest.io](https://www.dataquest.io/)\n",
    "\n",
    "In this guided project, we're going to practice using our SQL skills to answer business questions.\n",
    "\n",
    "We'll use the Chinook database, provided as a SQLite database file called chinook.db. A copy of the database schema is below.\n",
    "\n",
    "![title](chinook-schema.svg)\n",
    "\n",
    "In the case where the working database **'chinook.db'** has unwanted modification when exploring this exercise, a backup database **'chinook-unmodified.db'** file is also located in this github directory folder that can be copied over the chinook.db to restore it back to its initial state.\n",
    "\n",
    "We'll use the following code to connect our Jupyter Notebook to our database file:"
   ]
  },
  {
   "cell_type": "code",
   "execution_count": 3,
   "id": "73bad8a2-35ca-4c8b-9122-85a79a5ae3b1",
   "metadata": {},
   "outputs": [],
   "source": [
    "%%capture\n",
    "%load_ext sql\n",
    "%sql sqlite:///chinook.db"
   ]
  },
  {
   "cell_type": "markdown",
   "id": "7eb09bff-a199-427f-b6fa-bfc252d5a8e3",
   "metadata": {},
   "source": [
    "## 2) Overview Of The Data\n",
    "\n",
    "Let's start by getting familiar with our data. \n",
    "\n",
    "We can query the database to get a list of all tables and views in our database:"
   ]
  },
  {
   "cell_type": "code",
   "execution_count": 4,
   "id": "46cdd495-0342-47ad-aec7-747adfd726ea",
   "metadata": {},
   "outputs": [
    {
     "name": "stdout",
     "output_type": "stream",
     "text": [
      " * sqlite:///chinook.db\n",
      "Done.\n"
     ]
    },
    {
     "data": {
      "text/html": [
       "<table>\n",
       "    <thead>\n",
       "        <tr>\n",
       "            <th>name</th>\n",
       "            <th>type</th>\n",
       "        </tr>\n",
       "    </thead>\n",
       "    <tbody>\n",
       "        <tr>\n",
       "            <td>album</td>\n",
       "            <td>table</td>\n",
       "        </tr>\n",
       "        <tr>\n",
       "            <td>artist</td>\n",
       "            <td>table</td>\n",
       "        </tr>\n",
       "        <tr>\n",
       "            <td>customer</td>\n",
       "            <td>table</td>\n",
       "        </tr>\n",
       "        <tr>\n",
       "            <td>employee</td>\n",
       "            <td>table</td>\n",
       "        </tr>\n",
       "        <tr>\n",
       "            <td>genre</td>\n",
       "            <td>table</td>\n",
       "        </tr>\n",
       "        <tr>\n",
       "            <td>invoice</td>\n",
       "            <td>table</td>\n",
       "        </tr>\n",
       "        <tr>\n",
       "            <td>invoice_line</td>\n",
       "            <td>table</td>\n",
       "        </tr>\n",
       "        <tr>\n",
       "            <td>media_type</td>\n",
       "            <td>table</td>\n",
       "        </tr>\n",
       "        <tr>\n",
       "            <td>playlist</td>\n",
       "            <td>table</td>\n",
       "        </tr>\n",
       "        <tr>\n",
       "            <td>playlist_track</td>\n",
       "            <td>table</td>\n",
       "        </tr>\n",
       "        <tr>\n",
       "            <td>track</td>\n",
       "            <td>table</td>\n",
       "        </tr>\n",
       "    </tbody>\n",
       "</table>"
      ],
      "text/plain": [
       "[('album', 'table'),\n",
       " ('artist', 'table'),\n",
       " ('customer', 'table'),\n",
       " ('employee', 'table'),\n",
       " ('genre', 'table'),\n",
       " ('invoice', 'table'),\n",
       " ('invoice_line', 'table'),\n",
       " ('media_type', 'table'),\n",
       " ('playlist', 'table'),\n",
       " ('playlist_track', 'table'),\n",
       " ('track', 'table')]"
      ]
     },
     "execution_count": 4,
     "metadata": {},
     "output_type": "execute_result"
    }
   ],
   "source": [
    "%%sql\n",
    "/*\n",
    "Write a query to return information on the tables and views in the database.\n",
    "\n",
    "Write one or two queries to get familiar with the tables and to practice running SQL in this interface. Use the schema diagram on the previous screen for reference.\n",
    "*/\n",
    "\n",
    "SELECT\n",
    "    name,\n",
    "    type\n",
    "FROM sqlite_master\n",
    "WHERE type IN (\"table\",\"view\");"
   ]
  },
  {
   "cell_type": "markdown",
   "id": "500b7d04-26a4-4ba6-bef6-68093d2206d3",
   "metadata": {},
   "source": [
    "## 3) Selecting Albums To Purchase\n",
    "\n",
    "Provided by: [Dataquest.io](https://www.dataquest.io/)\n",
    "\n",
    "The Chinook record store has just signed a deal with a new record label, and you've been tasked with selecting the first three albums that will be added to the store, from a list of four. All four albums are by artists that don't have any tracks in the store right now - we have the artist names, and the genre of music they produce:\n",
    "\n",
    "---\n",
    "Artist Name | Genre|\n",
    "--- | --- |\n",
    "Regal | Hip-Hop |\n",
    "Red Tone | Punk |\n",
    "Meteor and the Girls | Pop |\n",
    "Slim Jim Bites | Blues |\n",
    "\n",
    "The record label specializes in artists from the USA, and they have given Chinook some money to advertise the new albums in the USA, **so we're interested in finding out which genres sell the best in the USA.**\n",
    "\n",
    "We need to write a query to find out which genres sell the most tracks in the USA, write up a summary of your findings, and make a recommendation for the three artists whose albums we should purchase for the store.\n"
   ]
  },
  {
   "cell_type": "code",
   "execution_count": 5,
   "id": "c5fb899d-2818-4754-a8c4-f0835484a87b",
   "metadata": {},
   "outputs": [
    {
     "name": "stdout",
     "output_type": "stream",
     "text": [
      " * sqlite:///chinook.db\n",
      "Done.\n"
     ]
    },
    {
     "data": {
      "text/html": [
       "<table>\n",
       "    <thead>\n",
       "        <tr>\n",
       "            <th>Country Sold</th>\n",
       "            <th>Number of tracks sold (qty)</th>\n",
       "            <th>Genre Name</th>\n",
       "        </tr>\n",
       "    </thead>\n",
       "    <tbody>\n",
       "        <tr>\n",
       "            <td>USA</td>\n",
       "            <td>130</td>\n",
       "            <td>Alternative &amp; Punk</td>\n",
       "        </tr>\n",
       "        <tr>\n",
       "            <td>USA</td>\n",
       "            <td>36</td>\n",
       "            <td>Blues</td>\n",
       "        </tr>\n",
       "        <tr>\n",
       "            <td>USA</td>\n",
       "            <td>22</td>\n",
       "            <td>Pop</td>\n",
       "        </tr>\n",
       "        <tr>\n",
       "            <td>USA</td>\n",
       "            <td>20</td>\n",
       "            <td>Hip Hop/Rap</td>\n",
       "        </tr>\n",
       "    </tbody>\n",
       "</table>"
      ],
      "text/plain": [
       "[('USA', 130, 'Alternative & Punk'),\n",
       " ('USA', 36, 'Blues'),\n",
       " ('USA', 22, 'Pop'),\n",
       " ('USA', 20, 'Hip Hop/Rap')]"
      ]
     },
     "execution_count": 5,
     "metadata": {},
     "output_type": "execute_result"
    }
   ],
   "source": [
    "%%sql\n",
    "/*\n",
    "Write a query that returns each genre, with the number of tracks sold in the USA:\n",
    "- in absolute numbers\n",
    "- in percentages.\n",
    "\n",
    "Write a paragraph that interprets the data and makes a recommendation for the three artists whose albums we should purchase for the store, based on sales of tracks from their genres.\n",
    "*/\n",
    "\n",
    "SELECT\n",
    "    inv.billing_country AS 'Country Sold',\n",
    "    SUM(il.quantity) AS 'Number of tracks sold (qty)',\n",
    "    gen.name AS 'Genre Name'\n",
    "FROM\n",
    "    invoice AS inv\n",
    "LEFT JOIN\n",
    "    invoice_line AS il\n",
    "    ON il.invoice_id = inv.invoice_id\n",
    "LEFT JOIN \n",
    "    track AS tra\n",
    "    ON tra.track_id = il.track_id\n",
    "LEFT JOIN\n",
    "    genre AS gen\n",
    "    ON gen.genre_id = tra.genre_id\n",
    "WHERE\n",
    "    inv.billing_country = 'USA'\n",
    "    AND\n",
    "    (gen.name LIKE '%hip%'\n",
    "     OR\n",
    "     gen.name LIKE '%punk%'\n",
    "     OR\n",
    "     gen.name LIKE '%pop%'\n",
    "     OR\n",
    "     gen.name LIKE '%blues%')\n",
    "GROUP BY\n",
    "    gen.name\n",
    "ORDER BY\n",
    "    2 DESC;"
   ]
  },
  {
   "cell_type": "markdown",
   "id": "b4dee759-b488-496c-b77c-b6f690084a65",
   "metadata": {},
   "source": [
    "#### Findings (Selecting Albums To Purchase):\n",
    "Based on the shortlisted findings above based on genre popularity measured by number of tracks sold, it would appear the below artist/genre are preferred in descending order, where **'Alternative & Punk' genre dominates the sales chart by far**, while the other genres have less of a difference among them.\n",
    "\n",
    "Rank |Artist Name | Artist Genre\n",
    "--- | --- | --- |\n",
    "1 | Red Tone | Punk | \n",
    "2 | Slim Jim Bites | Blues |\n",
    "3 | Meteor and the Girls | Pop | \n",
    "4 | Regal | Hip-Hop |"
   ]
  },
  {
   "cell_type": "markdown",
   "id": "d353e6d4-4a7c-48fa-b478-5c3a453ddf7d",
   "metadata": {},
   "source": [
    "## 4) Analysing Employee Sales Performance\n",
    "\n",
    "Provided by: [Dataquest.io](https://www.dataquest.io/)\n",
    "\n",
    "Each customer for the Chinook store gets assigned to a sales support agent within the company when they first make a purchase. You have been asked to analyze the purchases of customers belonging to each employee to see if any sales support agent is performing either better or worse than the others.\n",
    "\n",
    "You might like to consider whether any extra columns from the employee table explain any variance you see, or whether the variance might instead be indicative of employee performance."
   ]
  },
  {
   "cell_type": "code",
   "execution_count": 40,
   "id": "e54758ab-00ab-43bd-aebf-55aafba951aa",
   "metadata": {},
   "outputs": [
    {
     "name": "stdout",
     "output_type": "stream",
     "text": [
      " * sqlite:///chinook.db\n",
      "Done.\n"
     ]
    },
    {
     "data": {
      "text/html": [
       "<table>\n",
       "    <thead>\n",
       "        <tr>\n",
       "            <th>employee_name</th>\n",
       "            <th>invoice_total</th>\n",
       "            <th>employee_id</th>\n",
       "            <th>last_name</th>\n",
       "            <th>first_name</th>\n",
       "            <th>title</th>\n",
       "            <th>reports_to</th>\n",
       "            <th>birthdate</th>\n",
       "            <th>hire_date</th>\n",
       "            <th>address</th>\n",
       "            <th>city</th>\n",
       "            <th>state</th>\n",
       "            <th>country</th>\n",
       "            <th>postal_code</th>\n",
       "            <th>phone</th>\n",
       "            <th>fax</th>\n",
       "            <th>email</th>\n",
       "        </tr>\n",
       "    </thead>\n",
       "    <tbody>\n",
       "        <tr>\n",
       "            <td>Jane Peacock</td>\n",
       "            <td>165.32999999999998</td>\n",
       "            <td>3</td>\n",
       "            <td>Peacock</td>\n",
       "            <td>Jane</td>\n",
       "            <td>Sales Support Agent</td>\n",
       "            <td>2</td>\n",
       "            <td>1973-08-29 00:00:00</td>\n",
       "            <td>2017-04-01 00:00:00</td>\n",
       "            <td>1111 6 Ave SW</td>\n",
       "            <td>Calgary</td>\n",
       "            <td>AB</td>\n",
       "            <td>Canada</td>\n",
       "            <td>T2P 5M5</td>\n",
       "            <td>+1 (403) 262-3443</td>\n",
       "            <td>+1 (403) 262-6712</td>\n",
       "            <td>jane@chinookcorp.com</td>\n",
       "        </tr>\n",
       "        <tr>\n",
       "            <td>Margaret Park</td>\n",
       "            <td>155.43</td>\n",
       "            <td>4</td>\n",
       "            <td>Park</td>\n",
       "            <td>Margaret</td>\n",
       "            <td>Sales Support Agent</td>\n",
       "            <td>2</td>\n",
       "            <td>1947-09-19 00:00:00</td>\n",
       "            <td>2017-05-03 00:00:00</td>\n",
       "            <td>683 10 Street SW</td>\n",
       "            <td>Calgary</td>\n",
       "            <td>AB</td>\n",
       "            <td>Canada</td>\n",
       "            <td>T2P 5G3</td>\n",
       "            <td>+1 (403) 263-4423</td>\n",
       "            <td>+1 (403) 263-4289</td>\n",
       "            <td>margaret@chinookcorp.com</td>\n",
       "        </tr>\n",
       "        <tr>\n",
       "            <td>Steve Johnson</td>\n",
       "            <td>143.55</td>\n",
       "            <td>5</td>\n",
       "            <td>Johnson</td>\n",
       "            <td>Steve</td>\n",
       "            <td>Sales Support Agent</td>\n",
       "            <td>2</td>\n",
       "            <td>1965-03-03 00:00:00</td>\n",
       "            <td>2017-10-17 00:00:00</td>\n",
       "            <td>7727B 41 Ave</td>\n",
       "            <td>Calgary</td>\n",
       "            <td>AB</td>\n",
       "            <td>Canada</td>\n",
       "            <td>T3B 1Y7</td>\n",
       "            <td>1 (780) 836-9987</td>\n",
       "            <td>1 (780) 836-9543</td>\n",
       "            <td>steve@chinookcorp.com</td>\n",
       "        </tr>\n",
       "    </tbody>\n",
       "</table>"
      ],
      "text/plain": [
       "[('Jane Peacock', 165.32999999999998, 3, 'Peacock', 'Jane', 'Sales Support Agent', 2, '1973-08-29 00:00:00', '2017-04-01 00:00:00', '1111 6 Ave SW', 'Calgary', 'AB', 'Canada', 'T2P 5M5', '+1 (403) 262-3443', '+1 (403) 262-6712', 'jane@chinookcorp.com'),\n",
       " ('Margaret Park', 155.43, 4, 'Park', 'Margaret', 'Sales Support Agent', 2, '1947-09-19 00:00:00', '2017-05-03 00:00:00', '683 10 Street SW', 'Calgary', 'AB', 'Canada', 'T2P 5G3', '+1 (403) 263-4423', '+1 (403) 263-4289', 'margaret@chinookcorp.com'),\n",
       " ('Steve Johnson', 143.55, 5, 'Johnson', 'Steve', 'Sales Support Agent', 2, '1965-03-03 00:00:00', '2017-10-17 00:00:00', '7727B 41 Ave', 'Calgary', 'AB', 'Canada', 'T3B 1Y7', '1 (780) 836-9987', '1 (780) 836-9543', 'steve@chinookcorp.com')]"
      ]
     },
     "execution_count": 40,
     "metadata": {},
     "output_type": "execute_result"
    }
   ],
   "source": [
    "%%sql\n",
    "/*\n",
    "Write a query that finds the total dollar amount of sales assigned to each sales support agent within the company. Add any extra attributes for that employee that you find are relevant to the analysis.\n",
    "\n",
    "Write a short statement describing your results, and providing a possible interpretation.\n",
    "*/\n",
    "\n",
    "SELECT\n",
    "    emp.first_name || ' ' || emp.last_name AS employee_name,\n",
    "    SUM(inv.total) AS invoice_total,\n",
    "    emp.*\n",
    "FROM\n",
    "    employee AS emp\n",
    "LEFT JOIN\n",
    "    customer AS cus\n",
    "    ON cus.support_rep_id = emp.employee_id\n",
    "LEFT JOIN\n",
    "    invoice AS inv\n",
    "    ON inv.invoice_id= cus.customer_id\n",
    "WHERE\n",
    "    emp.title = 'Sales Support Agent'\n",
    "GROUP BY\n",
    "    emp.employee_id\n",
    "ORDER BY\n",
    "    invoice_total DESC;"
   ]
  },
  {
   "cell_type": "markdown",
   "id": "1b4ee56a-65d1-4d8f-add6-051ee0f12259",
   "metadata": {},
   "source": [
    "#### Findings (Analysing Employee Sales Performance):\n",
    "The top rankings in terms of employee sales as such.\n",
    "\n",
    "There do not seem to have any observable trends within the employee data itself that differentiates their sales performance.\n",
    "\n",
    "As such, the sales performance could be due to other factors such as:\n",
    "- genre of tracks (could each sales representative specialise in certain genre?)\n",
    "- country where tracks are sold (could each sales representative specialise in customers or outlets from specific countries?)\n",
    "- single track or tracks in albums (could each sales representative specialise in singles / album tracks?)\n",
    "\n",
    "Rank |employee_name | invoice_total\n",
    "--- | --- | --- |\n",
    "1 | Jane Peacock | 165.33 | \n",
    "2 | Margaret Park | 155.43 |\n",
    "3 | Steve Johnson | 143.55 | "
   ]
  },
  {
   "cell_type": "markdown",
   "id": "6c54d317-df2d-4d27-8bef-e6f4d8a8acd0",
   "metadata": {},
   "source": [
    "## 5) Analysing Sales By Country\n",
    "\n",
    "Provided by: [Dataquest.io](https://www.dataquest.io/)\n",
    "\n",
    "Your next task is to analyze the sales data for customers from each different country. You have been given guidance to use the country value from the customers table, and ignore the country from the billing address in the invoice table.\n",
    "\n",
    "In particular, you have been directed to calculate data, for each country, on the:\n",
    "- total number of customers\n",
    "- total value of sales\n",
    "- average value of sales per customer\n",
    "- average order value\n",
    "\n",
    "Because there are a number of countries with only one customer, you should group these customers as \"Other\" in your analysis.\n",
    "\n",
    "---\n",
    "**Tip:**\n",
    "You can use the following 'trick' to force the ordering of \"Other\" to last in your analysis.\n",
    "\n",
    "If there is a particular value that you would like to force to the top or bottom of results, you can implement a sorting feature in a subquery:\n",
    "- Put what would normally be your most outer query in a subquery with a case statement that adds a numeric column, and then in the outer query sort by that column."
   ]
  },
  {
   "cell_type": "code",
   "execution_count": null,
   "id": "740207e9-7463-41e4-b2cd-2f8e117e1a0a",
   "metadata": {},
   "outputs": [],
   "source": [
    "%%sql\n",
    "/*\n",
    "Write a query that collates data on purchases from different countries.\n",
    "\n",
    "- Where a country has only one customer, collect them into an \"Other\" group.\n",
    "\n",
    "- The results should be sorted by the total sales from highest to lowest, with the \"Other\" group at the very bottom.\n",
    "\n",
    "- For each country, include:\n",
    "    - total number of customers\n",
    "    - total value of sales\n",
    "    - average value of sales per customer\n",
    "    - average order value\n",
    "*/\n",
    "\n",
    "\n"
   ]
  },
  {
   "cell_type": "code",
   "execution_count": null,
   "id": "e55cef02-f794-4410-b343-564bd55fd230",
   "metadata": {},
   "outputs": [],
   "source": []
  }
 ],
 "metadata": {
  "kernelspec": {
   "display_name": "Python 3",
   "language": "python",
   "name": "python3"
  },
  "language_info": {
   "codemirror_mode": {
    "name": "ipython",
    "version": 3
   },
   "file_extension": ".py",
   "mimetype": "text/x-python",
   "name": "python",
   "nbconvert_exporter": "python",
   "pygments_lexer": "ipython3",
   "version": "3.8.8"
  }
 },
 "nbformat": 4,
 "nbformat_minor": 5
}
