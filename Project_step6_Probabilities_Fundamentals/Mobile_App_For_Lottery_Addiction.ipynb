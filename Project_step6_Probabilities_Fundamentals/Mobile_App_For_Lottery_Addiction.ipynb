{
 "cells": [
  {
   "cell_type": "code",
   "execution_count": 2,
   "id": "13fb78c9-fa03-4966-9a20-7b1b945d0783",
   "metadata": {},
   "outputs": [
    {
     "data": {
      "text/html": [
       "<style>\n",
       "table {align:left;display:block}  # to align html tables to left\n",
       "</style>\n"
      ],
      "text/plain": [
       "<IPython.core.display.HTML object>"
      ]
     },
     "metadata": {},
     "output_type": "display_data"
    }
   ],
   "source": [
    "%%html\n",
    "<style>\n",
    "table {align:left;display:block}  # to align html tables to left\n",
    "</style>"
   ]
  },
  {
   "cell_type": "code",
   "execution_count": 3,
   "id": "5ae5d661-a55f-4750-aa20-b38fa36ee2a5",
   "metadata": {},
   "outputs": [],
   "source": [
    "# import libraries\n",
    "from IPython.display import Image  # for displaying images in markdown cells\n",
    "import pandas as pd  # Dataframe manipulation\n",
    "import matplotlib.pyplot as plt  # Plot charts\n",
    "import matplotlib.style as style  # Inherit styles\n",
    "from matplotlib.pyplot import figure  # to adjust plot figure size\n",
    "import numpy as np  # Arrays manipulation \n",
    "from numpy import mean, std  # mean, standard deviation\n",
    "\n",
    "# Enables Jupyter to display graphs\n",
    "%matplotlib inline"
   ]
  },
  {
   "cell_type": "markdown",
   "id": "eb05e2d3-eb82-4c27-bbbc-7ab5bf9eb0df",
   "metadata": {},
   "source": [
    "# Dataquest - Probabilities: Fundamentals <br/> <br/> Project Title: Mobile App For Lottery Addiction"
   ]
  },
  {
   "cell_type": "markdown",
   "id": "ef8146a5-e8b1-4915-b6bd-0c347a868369",
   "metadata": {},
   "source": [
    "## 1) Introduction\n",
    "\n",
    "#### Key skills applied in project:\n",
    "- How to calculate theoretical and empirical probabilities\n",
    "- How to use probability rules to solve probability problems\n",
    "- How to use combinations and permutations\n",
    "\n",
    "#### Background\n",
    "Provided by: [Dataquest.io](https://www.dataquest.io/)\n",
    "\n",
    "Many people start playing the lottery for fun, but for some this activity turns into a habit which eventually escalates into addiction. Like other compulsive gamblers, lottery addicts soon begin spending from their savings and loans, they start to accumulate debts, and eventually engage in desperate behaviors like theft.\n",
    "\n",
    "A medical institute that aims to prevent and treat gambling addictions wants to build a dedicated mobile app to help lottery addicts better estimate their chances of winning. The institute has a team of engineers that will build the app, but they need us to create the logical core of the app and calculate probabilities.\n",
    "\n",
    "For the first version of the app, they want us to focus on the [6/49 lottery](https://en.wikipedia.org/wiki/Lotto_6/49) and build functions that enable users to answer questions like:\n",
    "- What is the probability of winning the big prize with a single ticket?\n",
    "- What is the probability of winning the big prize if we play 40 different tickets (or any other number)?\n",
    "- What is the probability of having at least five (or four, or three, or two) winning numbers on a single ticket?\n",
    "\n",
    "The institute also wants us to consider historical data coming from the national 6/49 lottery game in Canada. [The data set](https://www.kaggle.com/datascienceai/lottery-dataset) has data for 3,665 drawings, dating from 1982 to 2018.\n",
    "\n",
    "The scenario we're following throughout this project is fictional — the main purpose is to practice applying the concepts we learned in a setting that simulates a real-world scenario."
   ]
  },
  {
   "cell_type": "markdown",
   "id": "d797603b-db2a-49ed-81ee-8110bd2a18fd",
   "metadata": {},
   "source": [
    "## 2) Core Functions\n",
    "\n",
    "Throughout the project, we'll need to calculate repeatedly probabilities and combinations. As a consequence, we'll start by writing two functions that we'll use often:\n",
    "\n",
    "A function that calculates factorials; and\n",
    "A function that calculates combinations.\n",
    "To calculate factorials, this is the formula we learned we need to use:\n",
    "\n",
    "\\begin{equation}\n",
    "n! = n \\times (n - 1) \\times (n - 2) \\times ... \\times 2 \\times 1\n",
    "\\end{equation}\n",
    "\n",
    "In the 6/49 lottery, six numbers are drawn from a set of 49 numbers that range from 1 to 49. The drawing is done without replacement, which means once a number is drawn, it's not put back in the set.\n",
    "\n",
    "To find the number of combinations when we're sampling without replacement and taking only k objects from a group of n objects, we can use the formula:\n",
    "\n",
    "\\begin{equation}\n",
    "_nC_k = {n \\choose k} =  \\frac{n!}{k!(n-k)!}\n",
    "\\end{equation}\n"
   ]
  },
  {
   "cell_type": "code",
   "execution_count": 31,
   "id": "302b4c2f-8dff-43d8-9752-f3326cdee203",
   "metadata": {},
   "outputs": [
    {
     "name": "stdout",
     "output_type": "stream",
     "text": [
      "120\n",
      "20.0\n"
     ]
    }
   ],
   "source": [
    "# Write a function named factorial() which takes as input a number n and computes the factorial of that number n.\n",
    "\n",
    "# Write a function named combinations() which takes in two inputs (n and k) and outputs the number of combinations when we're taking only k objects from a group of n objects.\n",
    "\n",
    "def factorial(n):\n",
    "    x = 0\n",
    "    for i in range(n, 1, -1):\n",
    "        if x == 0:\n",
    "            x = n * (i - 1)\n",
    "        elif x > 0:\n",
    "            x = x * (i - 1)\n",
    "    return x\n",
    "\n",
    "def combinations(n, k):\n",
    "    numerator = factorial(n)\n",
    "    denominator = factorial(k) * factorial(n - k)\n",
    "    x = numerator / denominator\n",
    "    return x\n",
    "\n",
    "# test function\n",
    "print(factorial(5))\n",
    "print(combinations(6, 3))"
   ]
  },
  {
   "cell_type": "markdown",
   "id": "9ed62077-90a0-4625-ae26-8bac4dce9010",
   "metadata": {},
   "source": [
    "## 3) One-ticket Probability\n",
    "\n",
    "Provided by: [Dataquest.io](https://www.dataquest.io/)\n",
    "\n",
    "We focus on writing a function that calculates the probability of winning the big prize.\n",
    "\n",
    "In the 6/49 lottery, six numbers are drawn from a set of 49 numbers that range from 1 to 49. A player wins the big prize if the six numbers on their tickets match all the six numbers drawn. If a player has a ticket with the numbers {13, 22, 24, 27, 42, 44}, he only wins the big prize if the numbers drawn are {13, 22, 24, 27, 42, 44}. If only one number differs, he doesn't win.\n",
    "\n",
    "For the first version of the app, we want players to be able to calculate the probability of winning the big prize with the various numbers they play on a single ticket (for each ticket a player chooses six numbers out of 49). So, we'll start by building a function that calculates the probability of winning the big prize for any given ticket.\n",
    "\n",
    "We discussed with the engineering team of the medical institute, and they told us we need to be aware of the following details when we write the function:\n",
    "\n",
    "- Inside the app, the user inputs six different numbers from 1 to 49.\n",
    "- Under the hood, the six numbers will come as a Python list, which will serve as the single input to our function.\n",
    "- The engineering team wants the function to print the probability value in a friendly way — in a way that people without any probability training are able to understand."
   ]
  },
  {
   "cell_type": "code",
   "execution_count": 141,
   "id": "e3a23e14-1454-46fa-b4b9-24f1c5b330cd",
   "metadata": {},
   "outputs": [
    {
     "name": "stdout",
     "output_type": "stream",
     "text": [
      "[22, 16, 24, 9, 21, 47]\n",
      "7.151123842018516e-08\n"
     ]
    }
   ],
   "source": [
    "# Write a function named one_ticket_probability(), which takes in a list of six unique numbers and prints the probability of winning in a way that's easy to understand.\n",
    "\n",
    "# Start by calculating the total number of possible outcomes — this is total number of combinations for a six-number lottery ticket. There are 49 possible numbers, and six numbers are sampled without replacement. Use the combinations() function.\n",
    "\n",
    "# The user inputs just one combination, which means the number of successful outcomes is 1.\n",
    "\n",
    "# Use the number of successful outcomes and the total number of possible outcomes to calculate the probability for one ticket.\n",
    "\n",
    "# The function should print the probability in a way that's easy to understand. Egs.\n",
    "# Print the probability as a percentage.\n",
    "# Use the str.format() method to make the printed message more personalized with respect to what the user inputs.\n",
    "\n",
    "# compute number of outcomes in a pair ranging from 1 to 49\n",
    "# assuming sample without replacement and have to get 6 correct pairs to win \n",
    "def one_ticket_probability(unique_list):\n",
    "    p = 1 / combinations(49, 6)\n",
    "    return p \n",
    "\n",
    "# generate random unique list for testing function\n",
    "import random\n",
    "\n",
    "unique_list = random.sample(range(1, 50, 1), 6)\n",
    "\n",
    "# test functions\n",
    "print(unique_list)\n",
    "print(one_ticket_probability(unique_list))"
   ]
  },
  {
   "cell_type": "code",
   "execution_count": null,
   "id": "a77d4d44-068d-4c4d-bc68-41c7b2eb9ede",
   "metadata": {},
   "outputs": [],
   "source": []
  },
  {
   "cell_type": "code",
   "execution_count": null,
   "id": "936a643a-a1d5-49e0-a173-8c693f136d0f",
   "metadata": {},
   "outputs": [],
   "source": []
  },
  {
   "cell_type": "code",
   "execution_count": null,
   "id": "093aff09-1ef8-4dea-9a33-b5a787b888c0",
   "metadata": {},
   "outputs": [],
   "source": []
  }
 ],
 "metadata": {
  "kernelspec": {
   "display_name": "Python 3",
   "language": "python",
   "name": "python3"
  },
  "language_info": {
   "codemirror_mode": {
    "name": "ipython",
    "version": 3
   },
   "file_extension": ".py",
   "mimetype": "text/x-python",
   "name": "python",
   "nbconvert_exporter": "python",
   "pygments_lexer": "ipython3",
   "version": "3.8.8"
  }
 },
 "nbformat": 4,
 "nbformat_minor": 5
}
