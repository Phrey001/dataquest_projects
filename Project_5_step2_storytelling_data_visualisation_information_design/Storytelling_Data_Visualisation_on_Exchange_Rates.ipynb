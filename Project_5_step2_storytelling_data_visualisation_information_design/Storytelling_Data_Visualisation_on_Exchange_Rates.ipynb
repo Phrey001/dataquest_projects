{
 "cells": [
  {
   "cell_type": "code",
   "execution_count": 1,
   "id": "8ec3923c-63fe-4313-9556-b374b55f496b",
   "metadata": {},
   "outputs": [
    {
     "data": {
      "text/html": [
       "<style>\n",
       "table {align:left;display:block}  # to align html tables to left\n",
       "</style>\n"
      ],
      "text/plain": [
       "<IPython.core.display.HTML object>"
      ]
     },
     "metadata": {},
     "output_type": "display_data"
    }
   ],
   "source": [
    "%%html\n",
    "<style>\n",
    "table {align:left;display:block}  # to align html tables to left\n",
    "</style>"
   ]
  },
  {
   "cell_type": "markdown",
   "id": "77baa285-8da0-4c60-9705-869c6d830769",
   "metadata": {},
   "source": []
  },
  {
   "cell_type": "code",
   "execution_count": null,
   "id": "ac137846-90c6-4bdd-aee0-7127f398d206",
   "metadata": {},
   "outputs": [],
   "source": []
  }
 ],
 "metadata": {
  "kernelspec": {
   "display_name": "Python 3",
   "language": "python",
   "name": "python3"
  },
  "language_info": {
   "codemirror_mode": {
    "name": "ipython",
    "version": 3
   },
   "file_extension": ".py",
   "mimetype": "text/x-python",
   "name": "python",
   "nbconvert_exporter": "python",
   "pygments_lexer": "ipython3",
   "version": "3.8.8"
  }
 },
 "nbformat": 4,
 "nbformat_minor": 5
}
