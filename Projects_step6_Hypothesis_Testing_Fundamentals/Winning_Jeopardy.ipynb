{
 "cells": [
  {
   "cell_type": "code",
   "execution_count": 1,
   "id": "553010d6-3b00-44cc-9f78-92b32f4a6ad4",
   "metadata": {},
   "outputs": [],
   "source": [
    "# import libraries\n",
    "from IPython.display import Image  # for displaying images in markdown cells\n",
    "import pandas as pd  # Dataframe manipulation\n",
    "import numpy as np  # Arrays manipulation\n"
   ]
  },
  {
   "cell_type": "code",
   "execution_count": 2,
   "id": "e2b2c934-be07-4d8c-a120-ea4aba861bbe",
   "metadata": {},
   "outputs": [
    {
     "data": {
      "text/html": [
       "<style>\n",
       "table {align:left;display:block}  # to align html tables to left\n",
       "</style> \n"
      ],
      "text/plain": [
       "<IPython.core.display.HTML object>"
      ]
     },
     "metadata": {},
     "output_type": "display_data"
    }
   ],
   "source": [
    "%%html\n",
    "<style>\n",
    "table {align:left;display:block}  # to align html tables to left\n",
    "</style> "
   ]
  },
  {
   "cell_type": "markdown",
   "id": "11755744-7945-4aff-9d2f-170c6aae808e",
   "metadata": {},
   "source": [
    "# Dataquest | Hypothesis Testing: Fundamentals <br/> <br/> Project Title: Winning Jeopardy"
   ]
  },
  {
   "cell_type": "markdown",
   "id": "6de734fd-d504-4d61-a690-598570d398fc",
   "metadata": {},
   "source": [
    "## 1) Introduction / Jeopardy Questions\n",
    "\n",
    "#### Background:\n",
    "\n",
    "Provided by: [Dataquest.io](https://www.dataquest.io/)\n",
    "\n",
    "Jeopardy is a popular TV show in the US where participants answer questions to win money. It's been running for many years, and is a major force in popular culture.\n",
    "\n",
    "Imagine that you want to compete on Jeopardy, and you're looking for any way to win. In this project, you'll work with a dataset of Jeopardy questions to figure out some patterns in the questions that could help you win.\n",
    "\n",
    "The dataset is named **jeopardy.csv**, and contains **20000** rows from the beginning of a full dataset of Jeopardy questions, which you can download [here](https://www.reddit.com/r/datasets/comments/1uyd0t/200000_jeopardy_questions_in_a_json_file/).\n",
    "\n",
    "As you can see, each row in the dataset represents a single question on a single episode of Jeopardy. Here are explanations of each column:\n",
    "\n",
    "Columns | Description\n",
    "--- | ---\n",
    "Show Number | the Jeopardy episode number\n",
    "Air Date | the date the episode aired\n",
    "Round | the round of Jeopardy\n",
    "Category | the category of the question\n",
    "Value | the number of dollars the correct answer is worth\n",
    "Question | the text of the question\n",
    "Answer | the text of the answer\n"
   ]
  },
  {
   "cell_type": "code",
   "execution_count": 3,
   "id": "9207ee5b-aab9-426c-a4ea-5ffb37f71892",
   "metadata": {},
   "outputs": [
    {
     "name": "stdout",
     "output_type": "stream",
     "text": [
      "Index(['Show Number', ' Air Date', ' Round', ' Category', ' Value',\n",
      "       ' Question', ' Answer'],\n",
      "      dtype='object') \n",
      "\n"
     ]
    },
    {
     "data": {
      "text/html": [
       "<div>\n",
       "<style scoped>\n",
       "    .dataframe tbody tr th:only-of-type {\n",
       "        vertical-align: middle;\n",
       "    }\n",
       "\n",
       "    .dataframe tbody tr th {\n",
       "        vertical-align: top;\n",
       "    }\n",
       "\n",
       "    .dataframe thead th {\n",
       "        text-align: right;\n",
       "    }\n",
       "</style>\n",
       "<table border=\"1\" class=\"dataframe\">\n",
       "  <thead>\n",
       "    <tr style=\"text-align: right;\">\n",
       "      <th></th>\n",
       "      <th>Show Number</th>\n",
       "      <th>Air Date</th>\n",
       "      <th>Round</th>\n",
       "      <th>Category</th>\n",
       "      <th>Value</th>\n",
       "      <th>Question</th>\n",
       "      <th>Answer</th>\n",
       "    </tr>\n",
       "  </thead>\n",
       "  <tbody>\n",
       "    <tr>\n",
       "      <th>0</th>\n",
       "      <td>4680</td>\n",
       "      <td>2004-12-31</td>\n",
       "      <td>Jeopardy!</td>\n",
       "      <td>HISTORY</td>\n",
       "      <td>$200</td>\n",
       "      <td>For the last 8 years of his life, Galileo was ...</td>\n",
       "      <td>Copernicus</td>\n",
       "    </tr>\n",
       "    <tr>\n",
       "      <th>1</th>\n",
       "      <td>4680</td>\n",
       "      <td>2004-12-31</td>\n",
       "      <td>Jeopardy!</td>\n",
       "      <td>ESPN's TOP 10 ALL-TIME ATHLETES</td>\n",
       "      <td>$200</td>\n",
       "      <td>No. 2: 1912 Olympian; football star at Carlisl...</td>\n",
       "      <td>Jim Thorpe</td>\n",
       "    </tr>\n",
       "    <tr>\n",
       "      <th>2</th>\n",
       "      <td>4680</td>\n",
       "      <td>2004-12-31</td>\n",
       "      <td>Jeopardy!</td>\n",
       "      <td>EVERYBODY TALKS ABOUT IT...</td>\n",
       "      <td>$200</td>\n",
       "      <td>The city of Yuma in this state has a record av...</td>\n",
       "      <td>Arizona</td>\n",
       "    </tr>\n",
       "    <tr>\n",
       "      <th>3</th>\n",
       "      <td>4680</td>\n",
       "      <td>2004-12-31</td>\n",
       "      <td>Jeopardy!</td>\n",
       "      <td>THE COMPANY LINE</td>\n",
       "      <td>$200</td>\n",
       "      <td>In 1963, live on \"The Art Linkletter Show\", th...</td>\n",
       "      <td>McDonald's</td>\n",
       "    </tr>\n",
       "    <tr>\n",
       "      <th>4</th>\n",
       "      <td>4680</td>\n",
       "      <td>2004-12-31</td>\n",
       "      <td>Jeopardy!</td>\n",
       "      <td>EPITAPHS &amp; TRIBUTES</td>\n",
       "      <td>$200</td>\n",
       "      <td>Signer of the Dec. of Indep., framer of the Co...</td>\n",
       "      <td>John Adams</td>\n",
       "    </tr>\n",
       "  </tbody>\n",
       "</table>\n",
       "</div>"
      ],
      "text/plain": [
       "   Show Number    Air Date      Round                         Category  Value  \\\n",
       "0         4680  2004-12-31  Jeopardy!                          HISTORY   $200   \n",
       "1         4680  2004-12-31  Jeopardy!  ESPN's TOP 10 ALL-TIME ATHLETES   $200   \n",
       "2         4680  2004-12-31  Jeopardy!      EVERYBODY TALKS ABOUT IT...   $200   \n",
       "3         4680  2004-12-31  Jeopardy!                 THE COMPANY LINE   $200   \n",
       "4         4680  2004-12-31  Jeopardy!              EPITAPHS & TRIBUTES   $200   \n",
       "\n",
       "                                            Question      Answer  \n",
       "0  For the last 8 years of his life, Galileo was ...  Copernicus  \n",
       "1  No. 2: 1912 Olympian; football star at Carlisl...  Jim Thorpe  \n",
       "2  The city of Yuma in this state has a record av...     Arizona  \n",
       "3  In 1963, live on \"The Art Linkletter Show\", th...  McDonald's  \n",
       "4  Signer of the Dec. of Indep., framer of the Co...  John Adams  "
      ]
     },
     "execution_count": 3,
     "metadata": {},
     "output_type": "execute_result"
    }
   ],
   "source": [
    "# read the file into dataframe\n",
    "df = pd.read_csv('JEOPARDY_CSV.csv')\n",
    "\n",
    "# review file\n",
    "print(df.columns,'\\n')\n",
    "df.head()"
   ]
  },
  {
   "cell_type": "code",
   "execution_count": 4,
   "id": "5f955d76-93d1-421b-b662-eb2d70b05cc7",
   "metadata": {},
   "outputs": [
    {
     "name": "stdout",
     "output_type": "stream",
     "text": [
      "Index(['Show Number', 'Air Date', 'Round', 'Category', 'Value', 'Question',\n",
      "       'Answer'],\n",
      "      dtype='object')\n"
     ]
    }
   ],
   "source": [
    "# Remove the spaces from columns\n",
    "df.columns = df.columns.str.strip()\n",
    "\n",
    "# review transformation\n",
    "print(df.columns)"
   ]
  },
  {
   "cell_type": "markdown",
   "id": "79a81077-1c56-4e8e-b12b-6ffa17104cc4",
   "metadata": {},
   "source": [
    "## 2) Normalising Text\n",
    "\n",
    "Provided by: [Dataquest.io](https://www.dataquest.io/)\n",
    "\n",
    "Before starting analysis on the Jeopardy questions, need to normalize all of the text columns (the **Question** and **Answer** columns).\n",
    "\n",
    "The idea is to put words in lowercase and remove punctuation for comparability."
   ]
  },
  {
   "cell_type": "code",
   "execution_count": 5,
   "id": "24f6d302-5b1d-4549-85d1-67431d532686",
   "metadata": {},
   "outputs": [],
   "source": [
    "# Write a function to normalize questions and answers.\n",
    "\n",
    "import re  # to work with regex\n",
    "\n",
    "def normalise_string(sentence):\n",
    "    sentence_new = str(sentence).lower()\n",
    "    sentence_new = re.sub(r'[^A-Za-z0-9_\\s]', '', sentence_new, flags=re.I)\n",
    "    return sentence_new"
   ]
  },
  {
   "cell_type": "code",
   "execution_count": 6,
   "id": "3f2ac01f-7bbb-40d6-9cfe-3d789a327a69",
   "metadata": {},
   "outputs": [
    {
     "name": "stdout",
     "output_type": "stream",
     "text": [
      "for the last 8 years of his life galileo was under house arrest for espousing this mans theory \n",
      "\n",
      "For the last 8 years of his life, Galileo was under house arrest for espousing this man's theory \n",
      "\n"
     ]
    },
    {
     "data": {
      "text/plain": [
       "0    for the last 8 years of his life galileo was u...\n",
       "1    no 2 1912 olympian football star at carlisle i...\n",
       "2    the city of yuma in this state has a record av...\n",
       "3    in 1963 live on the art linkletter show this c...\n",
       "4    signer of the dec of indep framer of the const...\n",
       "Name: clean_question, dtype: object"
      ]
     },
     "execution_count": 6,
     "metadata": {},
     "output_type": "execute_result"
    }
   ],
   "source": [
    "# Normalize the 'Question' column.\n",
    "df['clean_question'] = df['Question'].apply(normalise_string)\n",
    "\n",
    "# review transformation\n",
    "print(df['clean_question'][0], '\\n')\n",
    "print(df['Question'][0], '\\n')\n",
    "df['clean_question'].head()\n"
   ]
  },
  {
   "cell_type": "code",
   "execution_count": 7,
   "id": "0e065dd3-8e39-4cca-9fef-c9c75accd282",
   "metadata": {},
   "outputs": [
    {
     "name": "stdout",
     "output_type": "stream",
     "text": [
      "copernicus \n",
      "\n",
      "Copernicus \n",
      "\n"
     ]
    },
    {
     "data": {
      "text/plain": [
       "0    copernicus\n",
       "1    jim thorpe\n",
       "2       arizona\n",
       "3     mcdonalds\n",
       "4    john adams\n",
       "Name: clean_answer, dtype: object"
      ]
     },
     "execution_count": 7,
     "metadata": {},
     "output_type": "execute_result"
    }
   ],
   "source": [
    "# Normalize the 'Answer' column.\n",
    "df['clean_answer'] = df['Answer'].apply(normalise_string)\n",
    "\n",
    "# review transformation\n",
    "print(df['clean_answer'][0], '\\n')\n",
    "print(df['Answer'][0], '\\n')\n",
    "df['clean_answer'].head()\n"
   ]
  },
  {
   "cell_type": "markdown",
   "id": "000c741f-b25d-490d-9e89-17b9951d734e",
   "metadata": {},
   "source": [
    "## 3) Normalising Columns\n",
    "\n",
    "Provided by: [Dataquest.io](https://www.dataquest.io/)\n",
    "\n",
    "There are also some other columns to normalise.\n",
    "\n",
    "The **Value** column should be numeric, to allow easier manipulation. Need to remove the dollar sign from the beginning of each value and convert the column from text to numeric.\n",
    "\n",
    "The **Air Date** column should also be a datetime, not a string, to enable to work it easier."
   ]
  },
  {
   "cell_type": "code",
   "execution_count": 8,
   "id": "a2f7499e-fb2d-4947-ad02-5132d662a9dc",
   "metadata": {},
   "outputs": [],
   "source": [
    "# Write a function to normalize dollar values.\n",
    "# Also assign 0 instead if the conversion has an error.\n",
    "\n",
    "\n"
   ]
  },
  {
   "cell_type": "code",
   "execution_count": null,
   "id": "25949dda-b502-477a-bfcc-18578da985f1",
   "metadata": {},
   "outputs": [],
   "source": []
  },
  {
   "cell_type": "code",
   "execution_count": null,
   "id": "994e5f16-00c5-45fa-9e26-adb88741b582",
   "metadata": {},
   "outputs": [],
   "source": []
  },
  {
   "cell_type": "code",
   "execution_count": null,
   "id": "38c1f476-8151-4ee9-a66b-fb8946043095",
   "metadata": {},
   "outputs": [],
   "source": []
  },
  {
   "cell_type": "code",
   "execution_count": null,
   "id": "b5f84397-9b16-4728-b2e5-4522f5771f04",
   "metadata": {},
   "outputs": [],
   "source": []
  }
 ],
 "metadata": {
  "kernelspec": {
   "display_name": "Python 3",
   "language": "python",
   "name": "python3"
  },
  "language_info": {
   "codemirror_mode": {
    "name": "ipython",
    "version": 3
   },
   "file_extension": ".py",
   "mimetype": "text/x-python",
   "name": "python",
   "nbconvert_exporter": "python",
   "pygments_lexer": "ipython3",
   "version": "3.8.8"
  }
 },
 "nbformat": 4,
 "nbformat_minor": 5
}
