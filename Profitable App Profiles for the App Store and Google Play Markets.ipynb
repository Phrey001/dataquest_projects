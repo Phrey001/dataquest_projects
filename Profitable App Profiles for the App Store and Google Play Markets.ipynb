{
 "cells": [
  {
   "cell_type": "code",
   "execution_count": 1,
   "id": "de79e10e",
   "metadata": {},
   "outputs": [
    {
     "data": {
      "text/html": [
       "<style>\n",
       "table {align:left;display:block}\n",
       "</style>\n",
       "\n",
       "# to align html tables to left\n"
      ],
      "text/plain": [
       "<IPython.core.display.HTML object>"
      ]
     },
     "metadata": {},
     "output_type": "display_data"
    }
   ],
   "source": [
    "%%html\n",
    "<style>\n",
    "table {align:left;display:block}\n",
    "</style>\n",
    "\n",
    "# to align html tables to left"
   ]
  },
  {
   "cell_type": "markdown",
   "id": "098be97c",
   "metadata": {},
   "source": [
    "# Profitable App Profiles for the App Store and Google Play Markets\n",
    "\n",
    "## Introduction\n",
    "\n",
    "For this project, we'll pretend we're working as data analysts for a company that builds Android and iOS mobile apps. We make our apps available on Google Play and in the App Store.\n",
    "\n",
    "We only build apps that are free to download and install, and our main source of revenue consists of in-app ads. This means that the number of users of our apps determines our revenue for any given app — the more users who see and engage with the ads, the better. Our goal for this project is to analyze data to help our developers understand what type of apps are likely to attract more users.\n",
    "\n",
    "### googleplaystore.csv\n",
    "\n",
    "#### Description\n",
    "A dataset containing data about approximately 10,000 Android apps from Google Play; the data was collected in August 2018.\n",
    "\n",
    "#### Metadata\n",
    "Dataset source: [Link](https://www.kaggle.com/lava18/google-play-store-apps?select=googleplaystore.csv)\n",
    "\n",
    "| Column | Description |\n",
    "| --- | --- |\n",
    "| App | Application name |\n",
    "| Category | Category the app belongs to |\n",
    "| Rating | Overall user rating of the app (as when scraped) |\n",
    "| Reviews | Number of user reviews for the app (as when scraped) |\n",
    "| Size | Size of the app (as when scraped) |\n",
    "| Installs | Number of user downloads/installs for the app (as when scraped) |\n",
    "| Types | Paid or Free |\n",
    "| Price | Price of the app (as when scraped) |\n",
    "| Content Rating | Age group the app is targeted at - Children / Mature 21+ / Adult |\n",
    "| Genres | An app can belong to multiple genres (apart from its main category). For eg, a musical family game will belong to |\n",
    "| Last Updated | Date when the app was last updated on Play Store (as when scraped) |\n",
    "| Current Ver | Current version of the app available on Play Store (as when scraped) |\n",
    "| Android Ver | Min required Android version (as when scraped) |\n",
    "\n",
    "### AppleStore.csv\n",
    "\n",
    "#### Description\n",
    "A dataset containing data about approximately 7,000 iOS apps from the App Store; the data was collected in July 2017.\n",
    "\n",
    "#### Metadata\n",
    "Dataset source: [Link](https://www.kaggle.com/ramamet4/app-store-apple-data-set-10k-apps?select=AppleStore.csv)\n",
    "\n",
    "Dimension of the data set;\n",
    "7197 rows and 16 columns\n",
    "\n",
    "| Column | Description |\n",
    "| :--- | --- |\n",
    "| id | App ID |\n",
    "| track_name | App Name |\n",
    "| size_bytes | Size (in Bytes) |\n",
    "| currency | Currency Type |\n",
    "| price | Price amount |\n",
    "| ratingcounttot | User Rating counts (for all version) |\n",
    "| ratingcountver | User Rating counts (for current version) |\n",
    "| user_rating | Average User Rating value (for all version) |\n",
    "| user_ratingver | Average User Rating value (for current version) |\n",
    "| ver | Latest version code |\n",
    "| cont_rating | Content Rating |\n",
    "| prime_genre | Primary Genre |\n",
    "| sup_devices.num | Number of supporting devices |\n",
    "| ipadSc_urls.num | Number of screenshots showed for display |\n",
    "| lang.num | Number of supported languages |\n",
    "| vpp_lic | Vpp Device Based Licensing Enabled |"
   ]
  },
  {
   "cell_type": "markdown",
   "id": "e3fa66e7",
   "metadata": {},
   "source": [
    "## Prepare: Load, open, explore datasets"
   ]
  },
  {
   "cell_type": "code",
   "execution_count": 2,
   "id": "283d32f6",
   "metadata": {},
   "outputs": [
    {
     "name": "stdout",
     "output_type": "stream",
     "text": [
      "['Photo Editor & Candy Camera & Grid & ScrapBook', 'ART_AND_DESIGN', '4.1', '159', '19M', '10,000+', 'Free', '0', 'Everyone', 'Art & Design', 'January 7, 2018', '1.0.0', '4.0.3 and up']\n",
      "\n",
      "\n",
      "['Coloring book moana', 'ART_AND_DESIGN', '3.9', '967', '14M', '500,000+', 'Free', '0', 'Everyone', 'Art & Design;Pretend Play', 'January 15, 2018', '2.0.0', '4.0.3 and up']\n",
      "\n",
      "\n",
      "Number of rows: 10841\n",
      "Number of columns: 13\n"
     ]
    }
   ],
   "source": [
    "def explore_data(dataset, start, end, rows_and_columns=False):\n",
    "    dataset_slice = dataset[start:end]    \n",
    "    for row in dataset_slice:\n",
    "        print(row)\n",
    "        print('\\n') # adds a new (empty) line after each row\n",
    "\n",
    "    if rows_and_columns:\n",
    "        print('Number of rows:', len(dataset))\n",
    "        print('Number of columns:', len(dataset[0]))\n",
    "\n",
    "        \n",
    "def open_file(file_name, header=True):\n",
    "    opened_file = open(file_name)\n",
    "    from csv import reader\n",
    "    read_file = reader(opened_file)\n",
    "    data = list(read_file)\n",
    "    if header == True:\n",
    "        data = data[1:]\n",
    "        return data\n",
    "    elif header != True:\n",
    "        return data\n",
    "\n",
    "google_df = open_file(file_name='googleplaystore.csv', header=True)\n",
    "\n",
    "explore_data(dataset=google_df, start=0, end=2, rows_and_columns=True)\n"
   ]
  },
  {
   "cell_type": "code",
   "execution_count": 3,
   "id": "5080d659",
   "metadata": {},
   "outputs": [
    {
     "name": "stdout",
     "output_type": "stream",
     "text": [
      "['284882215', 'Facebook', '389879808', 'USD', '0.0', '2974676', '212', '3.5', '3.5', '95.0', '4+', 'Social Networking', '37', '1', '29', '1']\n",
      "\n",
      "\n",
      "['389801252', 'Instagram', '113954816', 'USD', '0.0', '2161558', '1289', '4.5', '4.0', '10.23', '12+', 'Photo & Video', '37', '0', '29', '1']\n",
      "\n",
      "\n",
      "Number of rows: 7197\n",
      "Number of columns: 16\n"
     ]
    }
   ],
   "source": [
    "apple_df = open_file(file_name='AppleStore.csv', header=True)\n",
    "\n",
    "explore_data(dataset=apple_df, start=0, end=2, rows_and_columns=True)"
   ]
  },
  {
   "cell_type": "markdown",
   "id": "ffcbb088",
   "metadata": {},
   "source": [
    "## Process: Identify and remove inaccurate data"
   ]
  },
  {
   "cell_type": "code",
   "execution_count": 4,
   "id": "d3e117c9",
   "metadata": {},
   "outputs": [
    {
     "name": "stdout",
     "output_type": "stream",
     "text": [
      "['Life Made WI-Fi Touchscreen Photo Frame', '1.9', '19', '3.0M', '1,000+', 'Free', '0', 'Everyone', '', 'February 11, 2018', '1.0.19', '4.0 and up']\n",
      "\n",
      "\n",
      "Number of rows: 10841\n",
      "Number of columns: 13\n",
      "['App', 'Category', 'Rating', 'Reviews', 'Size', 'Installs', 'Type', 'Price', 'Content Rating', 'Genres', 'Last Updated', 'Current Ver', 'Android Ver']\n",
      "\n",
      "\n"
     ]
    }
   ],
   "source": [
    "# From Kaggle discussion forum, there is a row with missing column data below\n",
    "# index of row with error is entry 10472 (without including header)\n",
    "# there is no data for the 'Category' attribute\n",
    "explore_data(dataset=google_df, start=10472, end=10473, rows_and_columns=True)\n",
    "\n",
    "# redefine google_df to contain header for ease of review of header\n",
    "google_df = open_file(file_name='googleplaystore.csv', header=False)\n",
    "explore_data(dataset=google_df, start=0, end=1, rows_and_columns=False)\n",
    "\n",
    "# redefine google_df to not contain header for ease of data manipulation\n",
    "google_df = open_file(file_name='googleplaystore.csv', header=True)"
   ]
  },
  {
   "cell_type": "code",
   "execution_count": 5,
   "id": "224d43f7",
   "metadata": {},
   "outputs": [],
   "source": [
    "# use del statement function to delete unwanted data row\n",
    "del google_df[10472]"
   ]
  },
  {
   "cell_type": "markdown",
   "id": "7448ec17",
   "metadata": {},
   "source": [
    "## Process: Identify and remove duplicate data rows"
   ]
  },
  {
   "cell_type": "code",
   "execution_count": 6,
   "id": "cf43ea2d",
   "metadata": {},
   "outputs": [
    {
     "name": "stdout",
     "output_type": "stream",
     "text": [
      "Number of duplicate apps 1181\n",
      "\n",
      "\n",
      "Examples of duplicate apps: ['Quick PDF Scanner + OCR FREE', 'Box']\n"
     ]
    }
   ],
   "source": [
    "# there are also instances with duplicate app entries\n",
    "# created 2 lists: - duplicate and unique app names\n",
    "\n",
    "duplicate_apps = []\n",
    "unique_apps = []\n",
    "\n",
    "for row in google_df:\n",
    "    name = row[0]\n",
    "    if name in unique_apps:\n",
    "        duplicate_apps.append(name)\n",
    "    else:\n",
    "        unique_apps.append(name)\n",
    "        \n",
    "print('Number of duplicate apps', len(duplicate_apps))\n",
    "print('\\n')\n",
    "print('Examples of duplicate apps:', duplicate_apps[:2])"
   ]
  },
  {
   "cell_type": "code",
   "execution_count": 7,
   "id": "8f12ae06",
   "metadata": {},
   "outputs": [
    {
     "data": {
      "text/plain": [
       "9659"
      ]
     },
     "execution_count": 7,
     "metadata": {},
     "output_type": "execute_result"
    }
   ],
   "source": [
    "# one possible approach to choosing which duplicate data rows to remove\n",
    "# (instead of random) is to retain data row with highest number \n",
    "# of reviews as it should be indicative of being the most recent data\n",
    "\n",
    "# Create a dictionary, where each dictionary key is a unique app name \n",
    "# and the corresponding dictionary value is the highest number of reviews \n",
    "# of that app.\n",
    "\n",
    "# Use the information stored in the dictionary and create a new dataset,\n",
    "# which will have only one entry per app (and for each app,\n",
    "# we'll only select the entry with the highest number of reviews).\n",
    "\n",
    "# reate a dictionary where each key is a unique app name\n",
    "# and the corresponding dictionary value is the highest\n",
    "# number of reviews of that app.\n",
    "reviews_max = {}  # create empty dictionary\n",
    "for row in google_df:  #iterate each row in dataset\n",
    "    name = row[0]  # assign value to variable\n",
    "    n_reviews = float(row[3])  # assign value to variable\n",
    "    if name in reviews_max and reviews_max[name] < n_reviews:\n",
    "        reviews_max[name] = n_reviews  # update value to latest higher value\n",
    "    elif name not in reviews_max:\n",
    "        reviews_max[name] = n_reviews  # assign variable (value) to key\n",
    "\n",
    "reviews_max  # review reviews_max, should be dictionary with key-value pairs\n",
    "len(reviews_max)  # check number of key-value pairs in dictionary"
   ]
  },
  {
   "cell_type": "code",
   "execution_count": 8,
   "id": "bae4dc42",
   "metadata": {},
   "outputs": [
    {
     "data": {
      "text/plain": [
       "[['Photo Editor & Candy Camera & Grid & ScrapBook',\n",
       "  'ART_AND_DESIGN',\n",
       "  '4.1',\n",
       "  '159',\n",
       "  '19M',\n",
       "  '10,000+',\n",
       "  'Free',\n",
       "  '0',\n",
       "  'Everyone',\n",
       "  'Art & Design',\n",
       "  'January 7, 2018',\n",
       "  '1.0.0',\n",
       "  '4.0.3 and up']]"
      ]
     },
     "execution_count": 8,
     "metadata": {},
     "output_type": "execute_result"
    }
   ],
   "source": [
    "# Use the dictionary created above to remove the duplicate rows\n",
    "\n",
    "# create 2 empty lists\n",
    "android_clean = []  \n",
    "already_added = []\n",
    "\n",
    "for row in google_df:  # iterate google dataset (list of list); should exclude header row already\n",
    "    name = row[0]  # assign value to variable from data row\n",
    "    n_reviews = float(row[3])  # assign value to variable from data row\n",
    "    if name in reviews_max:\n",
    "        max_n_review = reviews_max[name]  # locate max review number of this app\n",
    "    if name not in already_added and n_reviews == max_n_review:\n",
    "        android_clean.append(row)  # to append correct row to new cleaned dataset\n",
    "        already_added.append(name)  # to keep track of app name already appended\n",
    "\n",
    "android_clean[0:1]  # review android_clean; should be a cleaned list"
   ]
  },
  {
   "cell_type": "code",
   "execution_count": 9,
   "id": "f775ee9f",
   "metadata": {},
   "outputs": [
    {
     "data": {
      "text/plain": [
       "9659"
      ]
     },
     "execution_count": 9,
     "metadata": {},
     "output_type": "execute_result"
    }
   ],
   "source": [
    "# review cleaned dataset, \n",
    "# should have 9659 unique rows, consistent with reviews_max\n",
    "len(android_clean)"
   ]
  },
  {
   "cell_type": "code",
   "execution_count": 10,
   "id": "a189be3f",
   "metadata": {},
   "outputs": [
    {
     "name": "stdout",
     "output_type": "stream",
     "text": [
      "Number of duplicate apps for Apple dataset 0\n",
      "\n",
      "\n",
      "Examples of duplicate apps for Apple dataset: []\n"
     ]
    }
   ],
   "source": [
    "# Check any duplicate app entries for Apple store data\n",
    "# checking method: see if any duplicate id\n",
    "# Based on below results, there are no duplicate apps for apple dataset\n",
    "\n",
    "duplicate_apps_apple = []\n",
    "unique_apps_apple = []\n",
    "\n",
    "for row in apple_df:\n",
    "    app_id = row[0]\n",
    "    if app_id in unique_apps_apple:\n",
    "        duplicate_apps_apple.append(name)\n",
    "    else:\n",
    "        unique_apps_apple.append(name)\n",
    "        \n",
    "print('Number of duplicate apps for Apple dataset', len(duplicate_apps_apple))\n",
    "print('\\n')\n",
    "print('Examples of duplicate apps for Apple dataset:', duplicate_apps_apple[:2])"
   ]
  },
  {
   "cell_type": "markdown",
   "id": "2588ad17",
   "metadata": {},
   "source": [
    "## Process: Identify and remove apps with non-english names"
   ]
  },
  {
   "cell_type": "markdown",
   "id": "b85ae007",
   "metadata": {},
   "source": [
    "The numbers corresponding to the characters we commonly use in an English text are all in the range 0 to 127, according to the [ASCII](https://en.wikipedia.org/wiki/ASCII) (American Standard Code for Information Interchange) system. \n",
    "\n",
    "Based on this number range, we can build a function that detects whether a character belongs to the set of common English characters or not. \n",
    "\n",
    "If the number is equal to or less than 127, then the character belongs to the set of common English characters. \n",
    "\n",
    "If an app name contains a character that is greater than 127, then it probably means that the app has a non-English name."
   ]
  },
  {
   "cell_type": "code",
   "execution_count": 11,
   "id": "cc947e5f",
   "metadata": {},
   "outputs": [],
   "source": [
    "# return True if all char has ASCI number of less than 127\n",
    "# ; ie. english characters\n",
    "# ord() function returns an integer representing the Unicode character.\n",
    "\n",
    "# to include emojis (which would have ASCI > 127) and limit useful data loss,\n",
    "# function is modified to return false only if >3 char from input string\n",
    "# trigger the ASCI > 127 flag t\n",
    "def check_eng(test_string):\n",
    "    count = 0\n",
    "    for char in test_string:\n",
    "        if ord(char) > 127:\n",
    "            count += 1 \n",
    "        elif ord(char) <= 127:\n",
    "            pass\n",
    "    if count > 3:\n",
    "        return False  # return False if triggered > 3 times\n",
    "    elif count <= 3:\n",
    "        return True  # return True if else"
   ]
  },
  {
   "cell_type": "code",
   "execution_count": 12,
   "id": "5d6dcf3b",
   "metadata": {},
   "outputs": [
    {
     "data": {
      "text/plain": [
       "True"
      ]
     },
     "execution_count": 12,
     "metadata": {},
     "output_type": "execute_result"
    }
   ],
   "source": [
    "check_eng('Instagram')  # test function: check_eng"
   ]
  },
  {
   "cell_type": "code",
   "execution_count": 13,
   "id": "de59180a",
   "metadata": {},
   "outputs": [
    {
     "data": {
      "text/plain": [
       "False"
      ]
     },
     "execution_count": 13,
     "metadata": {},
     "output_type": "execute_result"
    }
   ],
   "source": [
    "check_eng('爱奇艺PPS -《欢乐颂2》电视剧热播')  # test function: check_eng"
   ]
  },
  {
   "cell_type": "code",
   "execution_count": 14,
   "id": "49a83e9c",
   "metadata": {},
   "outputs": [
    {
     "data": {
      "text/plain": [
       "True"
      ]
     },
     "execution_count": 14,
     "metadata": {},
     "output_type": "execute_result"
    }
   ],
   "source": [
    "check_eng('Docs To Go™ Free Office Suite')  # test function: check_eng"
   ]
  },
  {
   "cell_type": "code",
   "execution_count": 15,
   "id": "9d70e938",
   "metadata": {},
   "outputs": [
    {
     "data": {
      "text/plain": [
       "True"
      ]
     },
     "execution_count": 15,
     "metadata": {},
     "output_type": "execute_result"
    }
   ],
   "source": [
    "check_eng('Instachat 😜')  # test function: check_eng"
   ]
  },
  {
   "cell_type": "code",
   "execution_count": 16,
   "id": "38381d38",
   "metadata": {},
   "outputs": [
    {
     "data": {
      "text/plain": [
       "[['Photo Editor & Candy Camera & Grid & ScrapBook',\n",
       "  'ART_AND_DESIGN',\n",
       "  '4.1',\n",
       "  '159',\n",
       "  '19M',\n",
       "  '10,000+',\n",
       "  'Free',\n",
       "  '0',\n",
       "  'Everyone',\n",
       "  'Art & Design',\n",
       "  'January 7, 2018',\n",
       "  '1.0.0',\n",
       "  '4.0.3 and up']]"
      ]
     },
     "execution_count": 16,
     "metadata": {},
     "output_type": "execute_result"
    }
   ],
   "source": [
    "# now apply function to cleaned dataset to remove non-english apps\n",
    "\n",
    "android_clean_v2 = []  # create separate new empty list for cleaned data\n",
    "for row in android_clean:\n",
    "    name = row[0]\n",
    "    if check_eng(name) == True:  # append row if defined as english name\n",
    "        android_clean_v2.append(row)\n",
    "    else:\n",
    "        pass\n",
    "\n",
    "android_clean_v2[0:1]  # review cleaned dataset"
   ]
  },
  {
   "cell_type": "code",
   "execution_count": 17,
   "id": "18203741",
   "metadata": {},
   "outputs": [
    {
     "data": {
      "text/plain": [
       "9614"
      ]
     },
     "execution_count": 17,
     "metadata": {},
     "output_type": "execute_result"
    }
   ],
   "source": [
    "# check number of rows for google cleaned dataset;\n",
    "# should be lower if removed rows\n",
    "# previous number of rows is 9659\n",
    "len(android_clean_v2)"
   ]
  },
  {
   "cell_type": "code",
   "execution_count": 18,
   "id": "4c47abf7",
   "metadata": {},
   "outputs": [
    {
     "data": {
      "text/plain": [
       "[['284882215',\n",
       "  'Facebook',\n",
       "  '389879808',\n",
       "  'USD',\n",
       "  '0.0',\n",
       "  '2974676',\n",
       "  '212',\n",
       "  '3.5',\n",
       "  '3.5',\n",
       "  '95.0',\n",
       "  '4+',\n",
       "  'Social Networking',\n",
       "  '37',\n",
       "  '1',\n",
       "  '29',\n",
       "  '1']]"
      ]
     },
     "execution_count": 18,
     "metadata": {},
     "output_type": "execute_result"
    }
   ],
   "source": [
    "# now apply the same sequence to apple dataset\n",
    "apple_clean = [] # create separate new empty list for cleaned data\n",
    "for row in apple_df:\n",
    "    name = row[1]\n",
    "    if check_eng(name) == True:  # append row if defined as english name\n",
    "        apple_clean.append(row)\n",
    "    else:\n",
    "        pass\n",
    "\n",
    "apple_clean[0:1]  # review cleaned dataset"
   ]
  },
  {
   "cell_type": "code",
   "execution_count": 19,
   "id": "64a5921c",
   "metadata": {},
   "outputs": [
    {
     "data": {
      "text/plain": [
       "6183"
      ]
     },
     "execution_count": 19,
     "metadata": {},
     "output_type": "execute_result"
    }
   ],
   "source": [
    "# check number of rows for apple cleaned dataset;\n",
    "# should be lower if removed rows\n",
    "# previous number of rows is 7,197\n",
    "len(apple_clean)"
   ]
  },
  {
   "cell_type": "markdown",
   "id": "a1f9603d",
   "metadata": {},
   "source": [
    "## Process: Isolate free apps for analysis\n",
    "\n",
    "As mentioned in the introduction, we only build apps that are free to download and install, and our main source of revenue consists of in-app ads. Our datasets contain both free and non-free apps; we'll need to isolate only the free apps for our analysis."
   ]
  },
  {
   "cell_type": "code",
   "execution_count": 20,
   "id": "cb4d1c5b",
   "metadata": {},
   "outputs": [
    {
     "data": {
      "text/plain": [
       "[['Photo Editor & Candy Camera & Grid & ScrapBook',\n",
       "  'ART_AND_DESIGN',\n",
       "  '4.1',\n",
       "  '159',\n",
       "  '19M',\n",
       "  '10,000+',\n",
       "  'Free',\n",
       "  '0',\n",
       "  'Everyone',\n",
       "  'Art & Design',\n",
       "  'January 7, 2018',\n",
       "  '1.0.0',\n",
       "  '4.0.3 and up']]"
      ]
     },
     "execution_count": 20,
     "metadata": {},
     "output_type": "execute_result"
    }
   ],
   "source": [
    "android_clean_v3 = []\n",
    "for row in android_clean_v2:\n",
    "    types = row[6]\n",
    "    if types == 'Free':\n",
    "        android_clean_v3.append(row)\n",
    "\n",
    "android_clean_v3[0:1]  # review a few row to check result"
   ]
  },
  {
   "cell_type": "code",
   "execution_count": 21,
   "id": "b6f9ad47",
   "metadata": {},
   "outputs": [
    {
     "data": {
      "text/plain": [
       "8863"
      ]
     },
     "execution_count": 21,
     "metadata": {},
     "output_type": "execute_result"
    }
   ],
   "source": [
    "# review if any rows are removed\n",
    "# previous number of rows before clean is 9,614\n",
    "len(android_clean_v3)  "
   ]
  },
  {
   "cell_type": "code",
   "execution_count": 22,
   "id": "ba6edf10",
   "metadata": {},
   "outputs": [
    {
     "data": {
      "text/plain": [
       "[['284882215',\n",
       "  'Facebook',\n",
       "  '389879808',\n",
       "  'USD',\n",
       "  '0.0',\n",
       "  '2974676',\n",
       "  '212',\n",
       "  '3.5',\n",
       "  '3.5',\n",
       "  '95.0',\n",
       "  '4+',\n",
       "  'Social Networking',\n",
       "  '37',\n",
       "  '1',\n",
       "  '29',\n",
       "  '1']]"
      ]
     },
     "execution_count": 22,
     "metadata": {},
     "output_type": "execute_result"
    }
   ],
   "source": [
    "# perform similar sequence for apple cleaned data\n",
    "# to only let free apps remain\n",
    "apple_clean_v2 = []\n",
    "for row in apple_clean:\n",
    "    price = float(row[4])\n",
    "    if price == 0.0:\n",
    "        apple_clean_v2.append(row)\n",
    "\n",
    "apple_clean_v2[0:1]  # review a few row to check result"
   ]
  },
  {
   "cell_type": "code",
   "execution_count": 23,
   "id": "271b2375",
   "metadata": {},
   "outputs": [
    {
     "data": {
      "text/plain": [
       "3222"
      ]
     },
     "execution_count": 23,
     "metadata": {},
     "output_type": "execute_result"
    }
   ],
   "source": [
    "# review if any rows are removed\n",
    "# previous number of rows before clean is 6,183\n",
    "len(apple_clean_v2)"
   ]
  },
  {
   "cell_type": "markdown",
   "id": "1eef9130",
   "metadata": {},
   "source": [
    "## Analyse: Build a frequency table (transform the data)\n",
    "\n",
    "As we mentioned in the introduction, our goal is to determine the kinds of apps that are likely to attract more users because the number of people using our apps affect our revenue.\n",
    "\n",
    "Because our end goal is to add the app on both Google Play and the App Store, we need to find app profiles that are successful in both markets. For instance, a profile that works well for both markets might be a productivity app that makes use of gamification.\n",
    "\n",
    "Let's begin the analysis by determining the most common genres for each market. For this, we'll need to build frequency tables for a few columns in our datasets.\n",
    "\n"
   ]
  },
  {
   "cell_type": "code",
   "execution_count": 24,
   "id": "f5e95e3c",
   "metadata": {},
   "outputs": [
    {
     "data": {
      "text/plain": [
       "{'Art & Design': 53,\n",
       " 'Art & Design;Creativity': 6,\n",
       " 'Auto & Vehicles': 82,\n",
       " 'Beauty': 53,\n",
       " 'Books & Reference': 190,\n",
       " 'Business': 407,\n",
       " 'Comics': 54,\n",
       " 'Comics;Creativity': 1,\n",
       " 'Communication': 287,\n",
       " 'Dating': 165,\n",
       " 'Education': 474,\n",
       " 'Education;Creativity': 4,\n",
       " 'Education;Education': 30,\n",
       " 'Education;Pretend Play': 5,\n",
       " 'Education;Brain Games': 3,\n",
       " 'Entertainment': 538,\n",
       " 'Entertainment;Brain Games': 7,\n",
       " 'Entertainment;Creativity': 3,\n",
       " 'Entertainment;Music & Video': 15,\n",
       " 'Events': 63,\n",
       " 'Finance': 328,\n",
       " 'Food & Drink': 110,\n",
       " 'Health & Fitness': 273,\n",
       " 'House & Home': 73,\n",
       " 'Libraries & Demo': 83,\n",
       " 'Lifestyle': 345,\n",
       " 'Lifestyle;Pretend Play': 1,\n",
       " 'Card': 40,\n",
       " 'Arcade': 164,\n",
       " 'Puzzle': 100,\n",
       " 'Racing': 88,\n",
       " 'Sports': 307,\n",
       " 'Casual': 156,\n",
       " 'Simulation': 181,\n",
       " 'Adventure': 60,\n",
       " 'Trivia': 37,\n",
       " 'Action': 275,\n",
       " 'Word': 23,\n",
       " 'Role Playing': 83,\n",
       " 'Strategy': 80,\n",
       " 'Board': 34,\n",
       " 'Music': 18,\n",
       " 'Action;Action & Adventure': 9,\n",
       " 'Casual;Brain Games': 12,\n",
       " 'Educational;Creativity': 3,\n",
       " 'Puzzle;Brain Games': 15,\n",
       " 'Educational;Education': 35,\n",
       " 'Casual;Pretend Play': 21,\n",
       " 'Educational;Brain Games': 6,\n",
       " 'Art & Design;Pretend Play': 1,\n",
       " 'Educational;Pretend Play': 8,\n",
       " 'Entertainment;Education': 1,\n",
       " 'Casual;Education': 2,\n",
       " 'Casual;Creativity': 6,\n",
       " 'Casual;Action & Adventure': 12,\n",
       " 'Music;Music & Video': 2,\n",
       " 'Arcade;Pretend Play': 1,\n",
       " 'Adventure;Action & Adventure': 3,\n",
       " 'Role Playing;Action & Adventure': 3,\n",
       " 'Simulation;Pretend Play': 2,\n",
       " 'Puzzle;Creativity': 2,\n",
       " 'Simulation;Action & Adventure': 7,\n",
       " 'Racing;Action & Adventure': 15,\n",
       " 'Sports;Action & Adventure': 2,\n",
       " 'Educational;Action & Adventure': 3,\n",
       " 'Arcade;Action & Adventure': 11,\n",
       " 'Entertainment;Action & Adventure': 3,\n",
       " 'Art & Design;Action & Adventure': 1,\n",
       " 'Puzzle;Action & Adventure': 3,\n",
       " 'Education;Action & Adventure': 3,\n",
       " 'Strategy;Action & Adventure': 1,\n",
       " 'Music & Audio;Music & Video': 1,\n",
       " 'Health & Fitness;Education': 1,\n",
       " 'Board;Action & Adventure': 2,\n",
       " 'Board;Brain Games': 7,\n",
       " 'Casual;Music & Video': 1,\n",
       " 'Education;Music & Video': 3,\n",
       " 'Role Playing;Pretend Play': 4,\n",
       " 'Entertainment;Pretend Play': 2,\n",
       " 'Medical': 313,\n",
       " 'Social': 236,\n",
       " 'Shopping': 199,\n",
       " 'Photography': 261,\n",
       " 'Travel & Local': 206,\n",
       " 'Travel & Local;Action & Adventure': 1,\n",
       " 'Tools': 749,\n",
       " 'Tools;Education': 1,\n",
       " 'Personalization': 294,\n",
       " 'Productivity': 345,\n",
       " 'Parenting': 44,\n",
       " 'Parenting;Music & Video': 6,\n",
       " 'Parenting;Education': 7,\n",
       " 'Parenting;Brain Games': 1,\n",
       " 'Weather': 71,\n",
       " 'Video Players & Editors': 157,\n",
       " 'Video Players & Editors;Music & Video': 2,\n",
       " 'Video Players & Editors;Creativity': 1,\n",
       " 'News & Magazines': 248,\n",
       " 'Maps & Navigation': 124,\n",
       " 'Health & Fitness;Action & Adventure': 1,\n",
       " 'Educational': 33,\n",
       " 'Casino': 38,\n",
       " 'Trivia;Education': 1,\n",
       " 'Lifestyle;Education': 1,\n",
       " 'Card;Action & Adventure': 1,\n",
       " 'Books & Reference;Education': 1,\n",
       " 'Simulation;Education': 1,\n",
       " 'Puzzle;Education': 1,\n",
       " 'Adventure;Education': 1,\n",
       " 'Role Playing;Brain Games': 1,\n",
       " 'Strategy;Education': 1,\n",
       " 'Racing;Pretend Play': 1,\n",
       " 'Communication;Creativity': 1,\n",
       " 'Strategy;Creativity': 1}"
      ]
     },
     "execution_count": 24,
     "metadata": {},
     "output_type": "execute_result"
    }
   ],
   "source": [
    "# Generate frequency table for genre from Google dataset\n",
    "google_genre = {}\n",
    "for row in android_clean_v3:\n",
    "    genre = row[9]  # get genre from cleaned dataset\n",
    "    if genre not in google_genre:\n",
    "        google_genre[genre] = 1\n",
    "    elif genre in google_genre:\n",
    "        google_genre[genre] += 1\n",
    "\n",
    "google_genre  # review if ok"
   ]
  },
  {
   "cell_type": "code",
   "execution_count": 25,
   "id": "6b323c2f",
   "metadata": {},
   "outputs": [
    {
     "data": {
      "text/plain": [
       "{'Social Networking': 1,\n",
       " 'Photo & Video': 1,\n",
       " 'Games': 1,\n",
       " 'Music': 66,\n",
       " 'Reference': 1,\n",
       " 'Health & Fitness': 65,\n",
       " 'Weather': 28,\n",
       " 'Utilities': 1,\n",
       " 'Travel': 1,\n",
       " 'Shopping': 84,\n",
       " 'News': 1,\n",
       " 'Navigation': 1,\n",
       " 'Lifestyle': 51,\n",
       " 'Entertainment': 254,\n",
       " 'Food & Drink': 26,\n",
       " 'Sports': 69,\n",
       " 'Book': 1,\n",
       " 'Finance': 36,\n",
       " 'Education': 118,\n",
       " 'Productivity': 56,\n",
       " 'Business': 17,\n",
       " 'Catalogs': 1,\n",
       " 'Medical': 6}"
      ]
     },
     "execution_count": 25,
     "metadata": {},
     "output_type": "execute_result"
    }
   ],
   "source": [
    "# Generate frequency table for genre from Apple dataset\n",
    "apple_genre = {}\n",
    "for row in apple_clean_v2:\n",
    "    genre = row[11]  # get genre from cleaned dataset\n",
    "    if genre not in apple_genre:\n",
    "        apple_genre[genre] = 1\n",
    "    elif genre in google_genre:\n",
    "        apple_genre[genre] += 1\n",
    "\n",
    "apple_genre  # review if ok"
   ]
  },
  {
   "cell_type": "code",
   "execution_count": 26,
   "id": "a228f8a8",
   "metadata": {},
   "outputs": [
    {
     "data": {
      "text/plain": [
       "{'Art & Design': 0.6,\n",
       " 'Art & Design;Creativity': 0.07,\n",
       " 'Auto & Vehicles': 0.93,\n",
       " 'Beauty': 0.6,\n",
       " 'Books & Reference': 2.14,\n",
       " 'Business': 4.59,\n",
       " 'Comics': 0.61,\n",
       " 'Comics;Creativity': 0.01,\n",
       " 'Communication': 3.24,\n",
       " 'Dating': 1.86,\n",
       " 'Education': 5.35,\n",
       " 'Education;Creativity': 0.05,\n",
       " 'Education;Education': 0.34,\n",
       " 'Education;Pretend Play': 0.06,\n",
       " 'Education;Brain Games': 0.03,\n",
       " 'Entertainment': 6.07,\n",
       " 'Entertainment;Brain Games': 0.08,\n",
       " 'Entertainment;Creativity': 0.03,\n",
       " 'Entertainment;Music & Video': 0.17,\n",
       " 'Events': 0.71,\n",
       " 'Finance': 3.7,\n",
       " 'Food & Drink': 1.24,\n",
       " 'Health & Fitness': 3.08,\n",
       " 'House & Home': 0.82,\n",
       " 'Libraries & Demo': 0.94,\n",
       " 'Lifestyle': 3.89,\n",
       " 'Lifestyle;Pretend Play': 0.01,\n",
       " 'Card': 0.45,\n",
       " 'Arcade': 1.85,\n",
       " 'Puzzle': 1.13,\n",
       " 'Racing': 0.99,\n",
       " 'Sports': 3.46,\n",
       " 'Casual': 1.76,\n",
       " 'Simulation': 2.04,\n",
       " 'Adventure': 0.68,\n",
       " 'Trivia': 0.42,\n",
       " 'Action': 3.1,\n",
       " 'Word': 0.26,\n",
       " 'Role Playing': 0.94,\n",
       " 'Strategy': 0.9,\n",
       " 'Board': 0.38,\n",
       " 'Music': 0.2,\n",
       " 'Action;Action & Adventure': 0.1,\n",
       " 'Casual;Brain Games': 0.14,\n",
       " 'Educational;Creativity': 0.03,\n",
       " 'Puzzle;Brain Games': 0.17,\n",
       " 'Educational;Education': 0.39,\n",
       " 'Casual;Pretend Play': 0.24,\n",
       " 'Educational;Brain Games': 0.07,\n",
       " 'Art & Design;Pretend Play': 0.01,\n",
       " 'Educational;Pretend Play': 0.09,\n",
       " 'Entertainment;Education': 0.01,\n",
       " 'Casual;Education': 0.02,\n",
       " 'Casual;Creativity': 0.07,\n",
       " 'Casual;Action & Adventure': 0.14,\n",
       " 'Music;Music & Video': 0.02,\n",
       " 'Arcade;Pretend Play': 0.01,\n",
       " 'Adventure;Action & Adventure': 0.03,\n",
       " 'Role Playing;Action & Adventure': 0.03,\n",
       " 'Simulation;Pretend Play': 0.02,\n",
       " 'Puzzle;Creativity': 0.02,\n",
       " 'Simulation;Action & Adventure': 0.08,\n",
       " 'Racing;Action & Adventure': 0.17,\n",
       " 'Sports;Action & Adventure': 0.02,\n",
       " 'Educational;Action & Adventure': 0.03,\n",
       " 'Arcade;Action & Adventure': 0.12,\n",
       " 'Entertainment;Action & Adventure': 0.03,\n",
       " 'Art & Design;Action & Adventure': 0.01,\n",
       " 'Puzzle;Action & Adventure': 0.03,\n",
       " 'Education;Action & Adventure': 0.03,\n",
       " 'Strategy;Action & Adventure': 0.01,\n",
       " 'Music & Audio;Music & Video': 0.01,\n",
       " 'Health & Fitness;Education': 0.01,\n",
       " 'Board;Action & Adventure': 0.02,\n",
       " 'Board;Brain Games': 0.08,\n",
       " 'Casual;Music & Video': 0.01,\n",
       " 'Education;Music & Video': 0.03,\n",
       " 'Role Playing;Pretend Play': 0.05,\n",
       " 'Entertainment;Pretend Play': 0.02,\n",
       " 'Medical': 3.53,\n",
       " 'Social': 2.66,\n",
       " 'Shopping': 2.25,\n",
       " 'Photography': 2.94,\n",
       " 'Travel & Local': 2.32,\n",
       " 'Travel & Local;Action & Adventure': 0.01,\n",
       " 'Tools': 8.45,\n",
       " 'Tools;Education': 0.01,\n",
       " 'Personalization': 3.32,\n",
       " 'Productivity': 3.89,\n",
       " 'Parenting': 0.5,\n",
       " 'Parenting;Music & Video': 0.07,\n",
       " 'Parenting;Education': 0.08,\n",
       " 'Parenting;Brain Games': 0.01,\n",
       " 'Weather': 0.8,\n",
       " 'Video Players & Editors': 1.77,\n",
       " 'Video Players & Editors;Music & Video': 0.02,\n",
       " 'Video Players & Editors;Creativity': 0.01,\n",
       " 'News & Magazines': 2.8,\n",
       " 'Maps & Navigation': 1.4,\n",
       " 'Health & Fitness;Action & Adventure': 0.01,\n",
       " 'Educational': 0.37,\n",
       " 'Casino': 0.43,\n",
       " 'Trivia;Education': 0.01,\n",
       " 'Lifestyle;Education': 0.01,\n",
       " 'Card;Action & Adventure': 0.01,\n",
       " 'Books & Reference;Education': 0.01,\n",
       " 'Simulation;Education': 0.01,\n",
       " 'Puzzle;Education': 0.01,\n",
       " 'Adventure;Education': 0.01,\n",
       " 'Role Playing;Brain Games': 0.01,\n",
       " 'Strategy;Education': 0.01,\n",
       " 'Racing;Pretend Play': 0.01,\n",
       " 'Communication;Creativity': 0.01,\n",
       " 'Strategy;Creativity': 0.01}"
      ]
     },
     "execution_count": 26,
     "metadata": {},
     "output_type": "execute_result"
    }
   ],
   "source": [
    "# Generate google genre frequency table that shows percentages\n",
    "\n",
    "total_google = len(android_clean_v3)  # from number of rows in cleaned dataset\n",
    "\n",
    "google_genre_percent = {}\n",
    "for key in google_genre:\n",
    "    proportion = google_genre[key] / total_google\n",
    "    percentage = round(proportion * 100, 2)  # rounded to 2 decimal places\n",
    "    google_genre_percent[key] = percentage\n",
    "\n",
    "google_genre_percent  # review results"
   ]
  },
  {
   "cell_type": "code",
   "execution_count": 27,
   "id": "79c21646",
   "metadata": {
    "scrolled": true
   },
   "outputs": [
    {
     "data": {
      "text/plain": [
       "{'Social Networking': 0.03,\n",
       " 'Photo & Video': 0.03,\n",
       " 'Games': 0.03,\n",
       " 'Music': 2.05,\n",
       " 'Reference': 0.03,\n",
       " 'Health & Fitness': 2.02,\n",
       " 'Weather': 0.87,\n",
       " 'Utilities': 0.03,\n",
       " 'Travel': 0.03,\n",
       " 'Shopping': 2.61,\n",
       " 'News': 0.03,\n",
       " 'Navigation': 0.03,\n",
       " 'Lifestyle': 1.58,\n",
       " 'Entertainment': 7.88,\n",
       " 'Food & Drink': 0.81,\n",
       " 'Sports': 2.14,\n",
       " 'Book': 0.03,\n",
       " 'Finance': 1.12,\n",
       " 'Education': 3.66,\n",
       " 'Productivity': 1.74,\n",
       " 'Business': 0.53,\n",
       " 'Catalogs': 0.03,\n",
       " 'Medical': 0.19}"
      ]
     },
     "execution_count": 27,
     "metadata": {},
     "output_type": "execute_result"
    }
   ],
   "source": [
    "# Generate google genre frequency table that shows percentages\n",
    "total_apple = len(apple_clean_v2)  # from number of rows in cleaned dataset\n",
    "\n",
    "apple_genre_percent = {}\n",
    "for key in apple_genre:\n",
    "    proportion = apple_genre[key] / total_apple\n",
    "    percentage = round(proportion * 100, 2)  # rounded to 2 decimal places\n",
    "    apple_genre_percent[key] = percentage\n",
    "\n",
    "apple_genre_percent  # review results"
   ]
  },
  {
   "cell_type": "code",
   "execution_count": 28,
   "id": "9df53fb1",
   "metadata": {},
   "outputs": [],
   "source": [
    "# alternatively, we can use helper functions to generate frequency table\n",
    "# write a helper function to generate frequency table\n",
    "# this function will be used by the helper function below 'display_table'\n",
    "def freq_table(dataset, index):\n",
    "    data_freq_table = {}\n",
    "    length_table = len(dataset)\n",
    "    for row in dataset:  # generate frequency table by counts\n",
    "        key = row[index]  # get index value from cleaned dataset\n",
    "        if key not in data_freq_table:\n",
    "            data_freq_table[key] = 1\n",
    "        elif key in data_freq_table:\n",
    "            data_freq_table[key] += 1\n",
    "    for key in data_freq_table:\n",
    "        proportion = data_freq_table[key] / length_table\n",
    "        percentage = round(proportion * 100, 2)  # rounded to 2 decimal places\n",
    "        data_freq_table[key] = percentage  # replace values with percentages\n",
    "    return data_freq_table"
   ]
  },
  {
   "cell_type": "code",
   "execution_count": 29,
   "id": "7340112f",
   "metadata": {},
   "outputs": [],
   "source": [
    "# write a helper function to sort a dictionary by values\n",
    "# in descending order\n",
    "def display_table(dataset, index):\n",
    "    table = freq_table(dataset, index)\n",
    "    table_display = []\n",
    "    for key in table:\n",
    "        key_val_as_tuple = (table[key], key)\n",
    "        table_display.append(key_val_as_tuple)\n",
    "\n",
    "    table_sorted = sorted(table_display, reverse = True)\n",
    "    for entry in table_sorted:\n",
    "        print(entry[1], ':', entry[0])"
   ]
  },
  {
   "cell_type": "code",
   "execution_count": 30,
   "id": "72d8e101",
   "metadata": {},
   "outputs": [
    {
     "name": "stdout",
     "output_type": "stream",
     "text": [
      "Tools : 8.45\n",
      "Entertainment : 6.07\n",
      "Education : 5.35\n",
      "Business : 4.59\n",
      "Productivity : 3.89\n",
      "Lifestyle : 3.89\n",
      "Finance : 3.7\n",
      "Medical : 3.53\n",
      "Sports : 3.46\n",
      "Personalization : 3.32\n",
      "Communication : 3.24\n",
      "Action : 3.1\n",
      "Health & Fitness : 3.08\n",
      "Photography : 2.94\n",
      "News & Magazines : 2.8\n",
      "Social : 2.66\n",
      "Travel & Local : 2.32\n",
      "Shopping : 2.25\n",
      "Books & Reference : 2.14\n",
      "Simulation : 2.04\n",
      "Dating : 1.86\n",
      "Arcade : 1.85\n",
      "Video Players & Editors : 1.77\n",
      "Casual : 1.76\n",
      "Maps & Navigation : 1.4\n",
      "Food & Drink : 1.24\n",
      "Puzzle : 1.13\n",
      "Racing : 0.99\n",
      "Role Playing : 0.94\n",
      "Libraries & Demo : 0.94\n",
      "Auto & Vehicles : 0.93\n",
      "Strategy : 0.9\n",
      "House & Home : 0.82\n",
      "Weather : 0.8\n",
      "Events : 0.71\n",
      "Adventure : 0.68\n",
      "Comics : 0.61\n",
      "Beauty : 0.6\n",
      "Art & Design : 0.6\n",
      "Parenting : 0.5\n",
      "Card : 0.45\n",
      "Casino : 0.43\n",
      "Trivia : 0.42\n",
      "Educational;Education : 0.39\n",
      "Board : 0.38\n",
      "Educational : 0.37\n",
      "Education;Education : 0.34\n",
      "Word : 0.26\n",
      "Casual;Pretend Play : 0.24\n",
      "Music : 0.2\n",
      "Racing;Action & Adventure : 0.17\n",
      "Puzzle;Brain Games : 0.17\n",
      "Entertainment;Music & Video : 0.17\n",
      "Casual;Brain Games : 0.14\n",
      "Casual;Action & Adventure : 0.14\n",
      "Arcade;Action & Adventure : 0.12\n",
      "Action;Action & Adventure : 0.1\n",
      "Educational;Pretend Play : 0.09\n",
      "Simulation;Action & Adventure : 0.08\n",
      "Parenting;Education : 0.08\n",
      "Entertainment;Brain Games : 0.08\n",
      "Board;Brain Games : 0.08\n",
      "Parenting;Music & Video : 0.07\n",
      "Educational;Brain Games : 0.07\n",
      "Casual;Creativity : 0.07\n",
      "Art & Design;Creativity : 0.07\n",
      "Education;Pretend Play : 0.06\n",
      "Role Playing;Pretend Play : 0.05\n",
      "Education;Creativity : 0.05\n",
      "Role Playing;Action & Adventure : 0.03\n",
      "Puzzle;Action & Adventure : 0.03\n",
      "Entertainment;Creativity : 0.03\n",
      "Entertainment;Action & Adventure : 0.03\n",
      "Educational;Creativity : 0.03\n",
      "Educational;Action & Adventure : 0.03\n",
      "Education;Music & Video : 0.03\n",
      "Education;Brain Games : 0.03\n",
      "Education;Action & Adventure : 0.03\n",
      "Adventure;Action & Adventure : 0.03\n",
      "Video Players & Editors;Music & Video : 0.02\n",
      "Sports;Action & Adventure : 0.02\n",
      "Simulation;Pretend Play : 0.02\n",
      "Puzzle;Creativity : 0.02\n",
      "Music;Music & Video : 0.02\n",
      "Entertainment;Pretend Play : 0.02\n",
      "Casual;Education : 0.02\n",
      "Board;Action & Adventure : 0.02\n",
      "Video Players & Editors;Creativity : 0.01\n",
      "Trivia;Education : 0.01\n",
      "Travel & Local;Action & Adventure : 0.01\n",
      "Tools;Education : 0.01\n",
      "Strategy;Education : 0.01\n",
      "Strategy;Creativity : 0.01\n",
      "Strategy;Action & Adventure : 0.01\n",
      "Simulation;Education : 0.01\n",
      "Role Playing;Brain Games : 0.01\n",
      "Racing;Pretend Play : 0.01\n",
      "Puzzle;Education : 0.01\n",
      "Parenting;Brain Games : 0.01\n",
      "Music & Audio;Music & Video : 0.01\n",
      "Lifestyle;Pretend Play : 0.01\n",
      "Lifestyle;Education : 0.01\n",
      "Health & Fitness;Education : 0.01\n",
      "Health & Fitness;Action & Adventure : 0.01\n",
      "Entertainment;Education : 0.01\n",
      "Communication;Creativity : 0.01\n",
      "Comics;Creativity : 0.01\n",
      "Casual;Music & Video : 0.01\n",
      "Card;Action & Adventure : 0.01\n",
      "Books & Reference;Education : 0.01\n",
      "Art & Design;Pretend Play : 0.01\n",
      "Art & Design;Action & Adventure : 0.01\n",
      "Arcade;Pretend Play : 0.01\n",
      "Adventure;Education : 0.01\n"
     ]
    }
   ],
   "source": [
    "# test the helper function 'display_table'\n",
    "# use it on google cleaned dataset\n",
    "display_table(android_clean_v3, 9)  # index 9 is genre for google dataset"
   ]
  },
  {
   "cell_type": "code",
   "execution_count": 31,
   "id": "029664f9",
   "metadata": {},
   "outputs": [
    {
     "name": "stdout",
     "output_type": "stream",
     "text": [
      "FAMILY : 18.9\n",
      "GAME : 9.73\n",
      "TOOLS : 8.46\n",
      "BUSINESS : 4.59\n",
      "LIFESTYLE : 3.9\n",
      "PRODUCTIVITY : 3.89\n",
      "FINANCE : 3.7\n",
      "MEDICAL : 3.53\n",
      "SPORTS : 3.4\n",
      "PERSONALIZATION : 3.32\n",
      "COMMUNICATION : 3.24\n",
      "HEALTH_AND_FITNESS : 3.08\n",
      "PHOTOGRAPHY : 2.94\n",
      "NEWS_AND_MAGAZINES : 2.8\n",
      "SOCIAL : 2.66\n",
      "TRAVEL_AND_LOCAL : 2.34\n",
      "SHOPPING : 2.25\n",
      "BOOKS_AND_REFERENCE : 2.14\n",
      "DATING : 1.86\n",
      "VIDEO_PLAYERS : 1.79\n",
      "MAPS_AND_NAVIGATION : 1.4\n",
      "FOOD_AND_DRINK : 1.24\n",
      "EDUCATION : 1.16\n",
      "ENTERTAINMENT : 0.96\n",
      "LIBRARIES_AND_DEMO : 0.94\n",
      "AUTO_AND_VEHICLES : 0.93\n",
      "HOUSE_AND_HOME : 0.82\n",
      "WEATHER : 0.8\n",
      "EVENTS : 0.71\n",
      "PARENTING : 0.65\n",
      "ART_AND_DESIGN : 0.64\n",
      "COMICS : 0.62\n",
      "BEAUTY : 0.6\n"
     ]
    }
   ],
   "source": [
    "# test the helper function 'display_table'\n",
    "# use it on google cleaned dataset\n",
    "display_table(android_clean_v3, 1)  # index 1 is category for google dataset"
   ]
  },
  {
   "cell_type": "code",
   "execution_count": 32,
   "id": "9cbaba00",
   "metadata": {},
   "outputs": [
    {
     "name": "stdout",
     "output_type": "stream",
     "text": [
      "Games : 58.16\n",
      "Entertainment : 7.88\n",
      "Photo & Video : 4.97\n",
      "Education : 3.66\n",
      "Social Networking : 3.29\n",
      "Shopping : 2.61\n",
      "Utilities : 2.51\n",
      "Sports : 2.14\n",
      "Music : 2.05\n",
      "Health & Fitness : 2.02\n",
      "Productivity : 1.74\n",
      "Lifestyle : 1.58\n",
      "News : 1.33\n",
      "Travel : 1.24\n",
      "Finance : 1.12\n",
      "Weather : 0.87\n",
      "Food & Drink : 0.81\n",
      "Reference : 0.56\n",
      "Business : 0.53\n",
      "Book : 0.43\n",
      "Navigation : 0.19\n",
      "Medical : 0.19\n",
      "Catalogs : 0.12\n"
     ]
    }
   ],
   "source": [
    "# test the helper function 'display_table'\n",
    "# use it on google cleaned dataset\n",
    "display_table(apple_clean_v2, 11)  # index 11 is genre for apple dataset"
   ]
  },
  {
   "cell_type": "markdown",
   "id": "c87bf630",
   "metadata": {},
   "source": [
    "## Analyse / Share: Most common genre/category\n",
    "\n",
    "Google dataset:\n",
    "- Most common genre: Tools at 8.45% (not that high)\n",
    "- 2nd common genre: Entertainment at 6.07%\n",
    "- 3rd common genre: Education at 5.35%\n",
    "- Most common category: Family at 18.9% (slightly higher)\n",
    "- 2nd common category: Game at 9.73%\n",
    "- 3rd common category: Tools at 8.46%\n",
    "\n",
    "Apple dataset:\n",
    "- Most common genre: Games at 58.16% (More than half!)\n",
    "- 2nd common genre: Entertainment at 7.88%\n",
    "- 3rd common genre: Photo & Video at 4.97%\n",
    "\n",
    "\n",
    "It would appear that:\n",
    "- Practical/entertainment apps are more balanced in Google apps stores\n",
    "- Entertainment/game apps are much more popular in Apple apps store\n",
    "    - More than half of the samples observed.\n",
    "    \n",
    "This does reveal that game apps would perform disproportionally more effective in the Apple Apps environment."
   ]
  },
  {
   "cell_type": "markdown",
   "id": "5794c9d8",
   "metadata": {},
   "source": [
    "## Analyse / Share:  Apple Apps Store - Alternative metric for popularity (rating count)\n",
    "\n",
    "However, we can also consider alternative metrics to measure popularity. The most common apps measured by category/genre in our earlier metric is based on the supply of the apps market place.\n",
    "\n",
    "However, by measuring the popularity from the users/demand side, we may come to a different insights, and some may say measuring demand is more important, if not more important, than measuring supply, in terms of determining commercial viability."
   ]
  },
  {
   "cell_type": "code",
   "execution_count": 33,
   "id": "0f1af83a",
   "metadata": {},
   "outputs": [
    {
     "name": "stdout",
     "output_type": "stream",
     "text": [
      "App genre:  Social Networking \n",
      " Average users based on rating counts:  71548.0 \n",
      "\n",
      "App genre:  Photo & Video \n",
      " Average users based on rating counts:  28442.0 \n",
      "\n",
      "App genre:  Games \n",
      " Average users based on rating counts:  22789.0 \n",
      "\n",
      "App genre:  Music \n",
      " Average users based on rating counts:  57327.0 \n",
      "\n",
      "App genre:  Reference \n",
      " Average users based on rating counts:  74942.0 \n",
      "\n",
      "App genre:  Health & Fitness \n",
      " Average users based on rating counts:  23298.0 \n",
      "\n",
      "App genre:  Weather \n",
      " Average users based on rating counts:  52280.0 \n",
      "\n",
      "App genre:  Utilities \n",
      " Average users based on rating counts:  18684.0 \n",
      "\n",
      "App genre:  Travel \n",
      " Average users based on rating counts:  28244.0 \n",
      "\n",
      "App genre:  Shopping \n",
      " Average users based on rating counts:  26920.0 \n",
      "\n",
      "App genre:  News \n",
      " Average users based on rating counts:  21248.0 \n",
      "\n",
      "App genre:  Navigation \n",
      " Average users based on rating counts:  86090.0 \n",
      "\n",
      "App genre:  Lifestyle \n",
      " Average users based on rating counts:  16486.0 \n",
      "\n",
      "App genre:  Entertainment \n",
      " Average users based on rating counts:  14030.0 \n",
      "\n",
      "App genre:  Food & Drink \n",
      " Average users based on rating counts:  33334.0 \n",
      "\n",
      "App genre:  Sports \n",
      " Average users based on rating counts:  23009.0 \n",
      "\n",
      "App genre:  Book \n",
      " Average users based on rating counts:  39758.0 \n",
      "\n",
      "App genre:  Finance \n",
      " Average users based on rating counts:  31468.0 \n",
      "\n",
      "App genre:  Education \n",
      " Average users based on rating counts:  7004.0 \n",
      "\n",
      "App genre:  Productivity \n",
      " Average users based on rating counts:  21028.0 \n",
      "\n",
      "App genre:  Business \n",
      " Average users based on rating counts:  7491.0 \n",
      "\n",
      "App genre:  Catalogs \n",
      " Average users based on rating counts:  4004.0 \n",
      "\n",
      "App genre:  Medical \n",
      " Average users based on rating counts:  612.0 \n",
      "\n"
     ]
    }
   ],
   "source": [
    "# use helper function - freq_table written earlier,\n",
    "# to assist in generating frequency table\n",
    "apple_genre = freq_table(dataset=apple_clean_v2, index=11)  # index11: genre\n",
    "\n",
    "# initiate nested loops\n",
    "for genre in apple_genre:\n",
    "    total = 0  # Store sum of user ratings specific to each genre\n",
    "    len_genre = 0 # Store number of apps specific to each genre\n",
    "    genre_app = genre\n",
    "    for row in apple_clean_v2:\n",
    "        if row[11] == genre_app:  # index11: genre\n",
    "            rating_count = float(row[5])  # index5: user rating counts(all versions)\n",
    "            total += rating_count  # accumulate user rating sums for specific genre\n",
    "            len_genre += 1  # accumulate number of apps specific to genre\n",
    "    avg_user_numbers = round(total / len_genre, 0)  # compute avg user numbers each specific genre\n",
    "    print(\"App genre: \", genre, \"\\n\", \"Average users based on rating counts: \", avg_user_numbers, \"\\n\")\n",
    "    \n"
   ]
  },
  {
   "cell_type": "markdown",
   "id": "7f712fe7",
   "metadata": {},
   "source": [
    "### Findings (Apple Apps) - Alternative metric on popularity:\n",
    "\n",
    "Top 3 app genre based on number of user counts (derived by number of ratings):\n",
    "- Navigation: 86,090\n",
    "- References: 74,942\n",
    "- Social networking: 71,548\n",
    "\n",
    "As such, the above 3 apps in Apple Apps Stores are recommended to be explored for further commercial opportunities as well based on this alternative metric."
   ]
  },
  {
   "cell_type": "markdown",
   "id": "fec9e1c8",
   "metadata": {},
   "source": [
    "## Analyse / Share:  Google Apps Store - Alternative metric for popularity (installs count)"
   ]
  },
  {
   "cell_type": "code",
   "execution_count": 34,
   "id": "ed386006",
   "metadata": {},
   "outputs": [
    {
     "name": "stdout",
     "output_type": "stream",
     "text": [
      "1,000,000+ : 15.73\n",
      "100,000+ : 11.55\n",
      "10,000,000+ : 10.55\n",
      "10,000+ : 10.2\n",
      "1,000+ : 8.39\n",
      "100+ : 6.92\n",
      "5,000,000+ : 6.83\n",
      "500,000+ : 5.56\n",
      "50,000+ : 4.77\n",
      "5,000+ : 4.51\n",
      "10+ : 3.54\n",
      "500+ : 3.25\n",
      "50,000,000+ : 2.3\n",
      "100,000,000+ : 2.13\n",
      "50+ : 1.92\n",
      "5+ : 0.79\n",
      "1+ : 0.51\n",
      "500,000,000+ : 0.27\n",
      "1,000,000,000+ : 0.23\n",
      "0+ : 0.05\n"
     ]
    }
   ],
   "source": [
    "# view install count tables of Google play Store\n",
    "# we need to remove special characters to perform computations later\n",
    "# str.replace(old, new)\n",
    "display_table(android_clean_v3, 5)  #index5: Number of installs"
   ]
  },
  {
   "cell_type": "code",
   "execution_count": 40,
   "id": "49a2d44b",
   "metadata": {},
   "outputs": [
    {
     "name": "stdout",
     "output_type": "stream",
     "text": [
      "App category:  ART_AND_DESIGN \n",
      " Average users based on install counts:  1986335.0 \n",
      "\n",
      "App category:  AUTO_AND_VEHICLES \n",
      " Average users based on install counts:  647318.0 \n",
      "\n",
      "App category:  BEAUTY \n",
      " Average users based on install counts:  513152.0 \n",
      "\n",
      "App category:  BOOKS_AND_REFERENCE \n",
      " Average users based on install counts:  8767812.0 \n",
      "\n",
      "App category:  BUSINESS \n",
      " Average users based on install counts:  1712290.0 \n",
      "\n",
      "App category:  COMICS \n",
      " Average users based on install counts:  817657.0 \n",
      "\n",
      "App category:  COMMUNICATION \n",
      " Average users based on install counts:  38456119.0 \n",
      "\n",
      "App category:  DATING \n",
      " Average users based on install counts:  854029.0 \n",
      "\n",
      "App category:  EDUCATION \n",
      " Average users based on install counts:  1833495.0 \n",
      "\n",
      "App category:  ENTERTAINMENT \n",
      " Average users based on install counts:  11640706.0 \n",
      "\n",
      "App category:  EVENTS \n",
      " Average users based on install counts:  253542.0 \n",
      "\n",
      "App category:  FINANCE \n",
      " Average users based on install counts:  1387692.0 \n",
      "\n",
      "App category:  FOOD_AND_DRINK \n",
      " Average users based on install counts:  1924898.0 \n",
      "\n",
      "App category:  HEALTH_AND_FITNESS \n",
      " Average users based on install counts:  4188822.0 \n",
      "\n",
      "App category:  HOUSE_AND_HOME \n",
      " Average users based on install counts:  1331541.0 \n",
      "\n",
      "App category:  LIBRARIES_AND_DEMO \n",
      " Average users based on install counts:  638504.0 \n",
      "\n",
      "App category:  LIFESTYLE \n",
      " Average users based on install counts:  1437816.0 \n",
      "\n",
      "App category:  GAME \n",
      " Average users based on install counts:  15588016.0 \n",
      "\n",
      "App category:  FAMILY \n",
      " Average users based on install counts:  3697848.0 \n",
      "\n",
      "App category:  MEDICAL \n",
      " Average users based on install counts:  120551.0 \n",
      "\n",
      "App category:  SOCIAL \n",
      " Average users based on install counts:  23253652.0 \n",
      "\n",
      "App category:  SHOPPING \n",
      " Average users based on install counts:  7036877.0 \n",
      "\n",
      "App category:  PHOTOGRAPHY \n",
      " Average users based on install counts:  17840110.0 \n",
      "\n",
      "App category:  SPORTS \n",
      " Average users based on install counts:  3638640.0 \n",
      "\n",
      "App category:  TRAVEL_AND_LOCAL \n",
      " Average users based on install counts:  13984078.0 \n",
      "\n",
      "App category:  TOOLS \n",
      " Average users based on install counts:  10801391.0 \n",
      "\n",
      "App category:  PERSONALIZATION \n",
      " Average users based on install counts:  5201483.0 \n",
      "\n",
      "App category:  PRODUCTIVITY \n",
      " Average users based on install counts:  16787331.0 \n",
      "\n",
      "App category:  PARENTING \n",
      " Average users based on install counts:  542604.0 \n",
      "\n",
      "App category:  WEATHER \n",
      " Average users based on install counts:  5074486.0 \n",
      "\n",
      "App category:  VIDEO_PLAYERS \n",
      " Average users based on install counts:  24727872.0 \n",
      "\n",
      "App category:  NEWS_AND_MAGAZINES \n",
      " Average users based on install counts:  9549178.0 \n",
      "\n",
      "App category:  MAPS_AND_NAVIGATION \n",
      " Average users based on install counts:  4056942.0 \n",
      "\n"
     ]
    }
   ],
   "source": [
    "# generate frequency table for 'Category' column from Google cleaned dataset\n",
    "# use helper function - freq_table written earlier,\n",
    "# to assist in generating frequency table\n",
    "google_category = freq_table(dataset=android_clean_v3, index=1)  # index1: category\n",
    "\n",
    "# initiate nested loops\n",
    "for category in google_category:\n",
    "    total = 0  # Store sum of installs specific to each category\n",
    "    len_category = 0 # Store number of apps specific to each category\n",
    "    category_app = category\n",
    "    for row in android_clean_v3:\n",
    "        if row[1] == category_app:  # index1: category\n",
    "            install_count = row[5]  # index5: no. of installs for specific app\n",
    "            # str.replace(old, new)\n",
    "            install_count = install_count.replace('+', '')  # remove '+'\n",
    "            install_count = install_count.replace(',', '')  # remove ','\n",
    "            install_count = float(install_count)  # typecast str into float\n",
    "            total += install_count  # accumulate install counts sums for specific category\n",
    "            len_category += 1  # accumulate number of apps specific to category\n",
    "    avg_user_numbers = round(total / len_category, 0)  # compute avg user numbers each specific category\n",
    "    print(\"App category: \", category, \"\\n\", \"Average users based on install counts: \", avg_user_numbers, \"\\n\")\n",
    "    "
   ]
  },
  {
   "cell_type": "markdown",
   "id": "29b5a0ac",
   "metadata": {},
   "source": [
    "### Findings (Google Apps) - Alternative metric on popularity:\n",
    "\n",
    "Top app categories based on number of installs:\n",
    "- Communications: 38,456,119\n",
    "- Video players: 24,727,872\n",
    "- Social: 23,253,652\n",
    "- Photography: 17,840,110\n",
    "- Productivity: 16,787,331\n",
    "- Game: 15,588,016\n",
    "\n",
    "As such, the above apps in Google Apps Stores are recommended to be explored for further commercial opportunities as well based on this alternative metric."
   ]
  },
  {
   "cell_type": "markdown",
   "id": "bb19c746",
   "metadata": {},
   "source": [
    "## Act (Further internal discussion for opportunities)\n",
    "\n",
    "Further discussions can be conducted with the products and operations departments to see what specific app product features we can develop and push in respective apps environment, based on:\n",
    "- supply & demand of the marketplace (data-driven insights from data analytics project)\n",
    "- our internal development resources"
   ]
  },
  {
   "cell_type": "code",
   "execution_count": null,
   "id": "91bcf522",
   "metadata": {},
   "outputs": [],
   "source": []
  }
 ],
 "metadata": {
  "kernelspec": {
   "display_name": "Python 3",
   "language": "python",
   "name": "python3"
  },
  "language_info": {
   "codemirror_mode": {
    "name": "ipython",
    "version": 3
   },
   "file_extension": ".py",
   "mimetype": "text/x-python",
   "name": "python",
   "nbconvert_exporter": "python",
   "pygments_lexer": "ipython3",
   "version": "3.8.8"
  }
 },
 "nbformat": 4,
 "nbformat_minor": 5
}
