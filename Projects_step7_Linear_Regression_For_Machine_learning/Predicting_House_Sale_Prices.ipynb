{
 "cells": [
  {
   "cell_type": "markdown",
   "id": "c5b919be-ea8e-475a-a83c-21e6630c4ce9",
   "metadata": {},
   "source": [
    "# Dataquest | Linear Regression For Machine Learning<br/> <br/> Project Title: Predicting House Sales Prices"
   ]
  },
  {
   "cell_type": "markdown",
   "id": "2bb6070e-5d72-4bb2-a328-64c628c29239",
   "metadata": {},
   "source": [
    "## 1) Introduction\n",
    "\n",
    "#### Background:\n",
    "\n",
    "Provided by: [Dataquest.io](https://www.dataquest.io/)\n",
    "\n",
    "We'll practise linear regression techniques in this project.\n",
    "\n",
    "We'll work with housing data for the city of Ames, Iowa, United States from 2006 to 2010. We can read more about why the data was collected [here](https://www.tandfonline.com/doi/abs/10.1080/10691898.2011.11889627). We can also read about the different columns in the data [here](https://s3.amazonaws.com/dq-content/307/data_description.txt).\n",
    "\n",
    "The data was originally compiled by [Dean De Cock](https://www.truman.edu/faculty-staff/decock/) for the primary purpose of having a high quality dataset for regression. The data can be downloaded [here](https://dsserver-prod-resources-1.s3.amazonaws.com/235/AmesHousing.txt).\n",
    "\n",
    "This is the pipeline of functions that will let us quickly iterate on different functions on the dataset, to train and output the error terms for our comparisions on which linear regression models and inputs works better.\n",
    "- transform_features()\n",
    "- select features()\n",
    "- train_and_test()\n"
   ]
  },
  {
   "cell_type": "code",
   "execution_count": null,
   "id": "16034aec-bbcb-45e8-89b2-56354e0ec44b",
   "metadata": {},
   "outputs": [],
   "source": [
    "# import libraries\n",
    "import pandas as pd  # Dataframe manipulation\n",
    "import numpy as np  # Arrays manipulation\n",
    "import matplotlib.pyplot as plt\n",
    "\n",
    "df = pd.read_csv('AmesHousing.csv', sep='\\t')\n",
    "df.head()"
   ]
  },
  {
   "cell_type": "code",
   "execution_count": null,
   "id": "b33a4277-aa27-44b5-b99d-cb2bd0fb6639",
   "metadata": {},
   "outputs": [],
   "source": []
  },
  {
   "cell_type": "code",
   "execution_count": null,
   "id": "3b344938-452b-48f0-911e-ae689413a41c",
   "metadata": {},
   "outputs": [],
   "source": []
  }
 ],
 "metadata": {
  "kernelspec": {
   "display_name": "Python 3",
   "language": "python",
   "name": "python3"
  },
  "language_info": {
   "codemirror_mode": {
    "name": "ipython",
    "version": 3
   },
   "file_extension": ".py",
   "mimetype": "text/x-python",
   "name": "python",
   "nbconvert_exporter": "python",
   "pygments_lexer": "ipython3",
   "version": "3.8.8"
  }
 },
 "nbformat": 4,
 "nbformat_minor": 5
}
