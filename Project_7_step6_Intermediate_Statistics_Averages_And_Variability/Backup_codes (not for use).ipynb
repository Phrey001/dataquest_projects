{
 "cells": [
  {
   "cell_type": "code",
   "execution_count": null,
   "id": "c72a82dc-3fd1-453f-a04a-ee6dc60c17a6",
   "metadata": {},
   "outputs": [],
   "source": [
    "%%html\n",
    "<style>\n",
    "table {align:left;display:block}  # to align html tables to left\n",
    "</style>"
   ]
  },
  {
   "cell_type": "code",
   "execution_count": null,
   "id": "52a8cc4d-f17b-47d0-b8d0-df0fdcb19c8a",
   "metadata": {},
   "outputs": [],
   "source": [
    "# import libraries\n",
    "from IPython.display import Image  # for displaying images in markdown cells\n",
    "import pandas as pd  # Dataframe manipulation\n",
    "import matplotlib.pyplot as plt  # Plot charts\n",
    "import matplotlib.style as style  # Inherit styles\n",
    "from matplotlib.pyplot import figure  # to adjust plot figure size\n",
    "import numpy as np  # Arrays manipulation \n",
    "from numpy import mean, std  # mean, standard deviation\n",
    "\n",
    "# Enables Jupyter to display graphs\n",
    "%matplotlib inline"
   ]
  },
  {
   "cell_type": "markdown",
   "id": "23c88577-93a9-4b03-9bab-5b4ee1696e27",
   "metadata": {},
   "source": [
    "# Dataquest - Intermediate Statistics: Averages And Variability <br/> <br/> Project Title: Finding The Best Markets To Advertise In"
   ]
  },
  {
   "cell_type": "markdown",
   "id": "0698614d-402c-4ec5-a95c-538fc3de4523",
   "metadata": {},
   "source": [
    "## 1) Finding The Best Two Markets to Advertise In\n",
    "\n",
    "#### Key skills applied in project:\n",
    "- How to summarize distributions using the mean, the median, and the mode.\n",
    "- How to measure the variability of a distribution using the range, the mean absolute deviation, the variance, and the standard deviation.\n",
    "- How to locate any value in a distribution using z-scores.\n",
    "\n",
    "#### Background\n",
    "Provided by: [Dataquest.io](https://www.dataquest.io/)\n",
    "\n",
    "Let's assume that we're working for an an e-learning company that offers courses on programming. Most of our courses are on web and mobile development, but we also cover many other domains, like data science, game development, etc. We want to promote our product and we'd like to invest some money in advertisement. Our goal in this project is to find out the two best markets to advertise our product in."
   ]
  },
  {
   "cell_type": "markdown",
   "id": "a668e801-db5b-4d08-b37b-f086e40d1576",
   "metadata": {},
   "source": [
    "## 2) Understanding the Data \n",
    "Provided by: [Dataquest.io](https://www.dataquest.io/)\n",
    "\n",
    "To reach our goal, we could organize surveys for a couple of different markets to find out which would the best choices for advertising. This is very costly, however, and it's a good call to explore cheaper options first.\n",
    "\n",
    "We can try to search existing data that might be relevant for our purpose. One good candidate is the data from [freeCodeCamp's 2017 New Coder Survey](https://medium.freecodecamp.org/we-asked-20-000-people-who-they-are-and-how-theyre-learning-to-code-fff5d668969). [freeCodeCamp](https://www.freecodecamp.org/) is a free e-learning platform that offers courses on web development. Because they run a [popular Medium publication](https://medium.freecodecamp.org/) (over 400,000 followers), their survey attracted new coders with varying interests (not only web development), which is ideal for the purpose of our analysis.\n",
    "\n",
    "\n",
    "\n",
    "#### Metadata:\n",
    "**2017-fCC-New-Coders-Survey-Data.csv**\n",
    "- The survey data is publicly available in [this GitHub repository](https://github.com/freeCodeCamp/2017-new-coder-survey).\n",
    "- Metadata details in [Json file here](https://raw.githubusercontent.com/freeCodeCamp/2017-new-coder-survey/master/clean-data/datapackage.json)\n",
    "\n",
    "| Column | Title | Question Asked | Datatype context |\n",
    "| --- | --- | --- | --- |\n",
    "| Age | Age of Individual | How old are you? | integer |\n",
    "| AttendedBootcamp | Attended a Bootcamp | Have you attended a full time coding bootcamp? | boolean |\n",
    "| BootcampFinish | Finished a Bootcamp or Not | Have you finished [your coding bootcamp]? | boolean |\n",
    "| BootcampLoanYesNo | Bootcamp Loan Yes or No | Did you take out a loan to pay for the bootcamp? | boolean |\n",
    "| BootcampName | The film in question |\n",
    "| BootcampRecommend | The film in question |\n",
    "| ChildrenNumber | The film in question |\n",
    "| CityPopulation | The film in question |\n",
    "| CodeEventConferences | The film in question |\n",
    "| CodeEventDjangoGirls | The film in question |\n",
    "| CodeEventFCC | The film in question |\n",
    "| CodeEventGameJam | The film in question |\n",
    "| CodeEventGirlDev | The film in question |\n",
    "| CodeEventHackathons | The film in question |\n",
    "| CodeEventMeetup | The film in question |\n",
    "| CodeEventNodeSchool | The film in question |\n",
    "| CodeEventNone | The film in question |\n",
    "| CodeEventOther | The film in question |\n",
    "| CodeEventRailsBridge | The film in question |\n",
    "| CodeEventRailsGirls | The film in question |\n",
    "| CodeEventStartUpWknd | The film in question |\n",
    "| CodeEventWkdBootcamps | The film in question |\n",
    "| CodeEventWomenCode | The film in question |\n",
    "| CodeEventWorkshops | The film in question |\n",
    "| CommuteTime | The film in question |\n",
    "| CountryCitizen | The film in question |\n",
    "| CountryLive | The film in question |\n",
    "| EmploymentField | The film in question |\n",
    "| EmploymentFieldOther | The film in question |\n",
    "| EmploymentStatus | The film in question |\n",
    "| EmploymentStatusOther | The film in question |\n",
    "| ExpectedEarning | The film in question |\n",
    "| FinanciallySupporting | The film in question |\n",
    "| FirstDevJob | The film in question |\n",
    "| Gender | The film in question |\n",
    "| FILM | The film in question |\n",
    "| FILM | The film in question |\n",
    "| FILM | The film in question |\n",
    "| FILM | The film in question |\n",
    "| FILM | The film in question |\n",
    "| FILM | The film in question |\n",
    "| FILM | The film in question |\n",
    "| FILM | The film in question |\n",
    "| FILM | The film in question |\n",
    "| FILM | The film in question |\n",
    "| FILM | The film in question |\n",
    "| FILM | The film in question |\n",
    "| FILM | The film in question |\n",
    "| FILM | The film in question |\n",
    "| FILM | The film in question |\n",
    "| FILM | The film in question |\n",
    "| FILM | The film in question |\n",
    "| FILM | The film in question |\n",
    "| FILM | The film in question |\n",
    "| FILM | The film in question |\n",
    "| FILM | The film in question |\n",
    "| FILM | The film in question |\n",
    "| FILM | The film in question |\n",
    "| FILM | The film in question |\n",
    "| FILM | The film in question |\n",
    "| FILM | The film in question |\n",
    "| FILM | The film in question |\n",
    "| FILM | The film in question |\n",
    "| FILM | The film in question |\n"
   ]
  },
  {
   "cell_type": "code",
   "execution_count": null,
   "id": "9d25fcad-48ba-46ce-b879-d66a93c291a5",
   "metadata": {},
   "outputs": [],
   "source": [
    "# Alternative way to present metadata quickly\n",
    "# Python program to read\n",
    "# json file\n",
    "import json\n",
    "import pprint  # to print nice nested dictionaries\n",
    "\n",
    "# Opening JSON file\n",
    "with open('datapackage.json') as f:\n",
    "    data = json.load(f)\n",
    "    \n",
    "print(json.dumps(data, indent=1))"
   ]
  },
  {
   "cell_type": "markdown",
   "id": "a9fddeba-977a-4b1c-988e-8fad202fdd65",
   "metadata": {},
   "source": [
    "| Column | Title | Question Asked | Datatype context |\n",
    "| --- | --- | --- | --- |\n",
    "| Age | Age of Individual | How old are you? | integer |"
   ]
  },
  {
   "cell_type": "code",
   "execution_count": null,
   "id": "6aec494b-9cba-497a-bfd3-f277155e025d",
   "metadata": {},
   "outputs": [],
   "source": [
    "# Source: https://data-dive.com/jupyterlab-markdown-cells-include-variables\n",
    "# Instead of setting the cell to Markdown, create Markdown from withnin a code cell!\n",
    "# We can just use python variable replacement syntax to make the text dynamic\n",
    "#\n",
    "# Also to wrap lines: See instructions in above link to configure\n",
    "# settings in Jupyter Notebook\n",
    "#\n",
    "# More documentation to create html table using Ipython.display\n",
    "# https://www.cs.put.poznan.pl/wjaskowski/pub/teaching/kck/lectures/notebooks/ipython-notebook.html\n",
    "\n",
    "from IPython.display import Markdown as md\n",
    "\n",
    "md(\"The data consists of x observations. Bla, Bla, ....\")"
   ]
  },
  {
   "cell_type": "code",
   "execution_count": null,
   "id": "4e7ed76e-6983-43b2-8979-6f560a81647c",
   "metadata": {},
   "outputs": [],
   "source": [
    "# More documentation to create html table using Ipython.display\n",
    "# https://www.cs.put.poznan.pl/wjaskowski/pub/teaching/kck/lectures/notebooks/ipython-notebook.html\n",
    "from IPython.display import HTML\n",
    "s = \"\"\"<table>\n",
    "<tr>\n",
    "<th>Column</th>\n",
    "<th>Title</th>\n",
    "<th>Question Asked</th>\n",
    "<th>Datatype context</th>\n",
    "</tr>\n",
    "<!-- Comment: use Jinja to loop in html -->\n",
    "{% for row in dict %}\n",
    "<tr>\n",
    "<td>{{ row['name'] }}</td>\n",
    "<td>{{ row['title'] }}</td>\n",
    "<td>{{ row['description'] }}</td>\n",
    "<td>{{ row['type'] }}</td>\n",
    "</tr>\n",
    "{% endfor %}\n",
    "</table>\"\"\"\n",
    "h = HTML(s); h"
   ]
  },
  {
   "cell_type": "code",
   "execution_count": null,
   "id": "9e12df67-1d41-4a44-ab93-da0378d69b6b",
   "metadata": {},
   "outputs": [],
   "source": [
    "#for i, dict in zip(range(0, len(data['resources'][0]['schema']['fields'])), data['resources'][0]['schema']['fields']):\n",
    "#                   print(dict['name'], dict['title'], dict['description'], dict['type'])\n",
    "\n",
    "dict = data['resources'][0]['schema']['fields']\n",
    "dict"
   ]
  },
  {
   "cell_type": "code",
   "execution_count": null,
   "id": "3c6e2fdd-9f48-4d2c-a610-6b6e8cfeaa9f",
   "metadata": {},
   "outputs": [],
   "source": [
    "# read and load df\n",
    "df = pd.read_csv('2017-fCC-New-Coders-Survey-Data.txt', sep=',')\n",
    "\n",
    "# review df\n",
    "df"
   ]
  },
  {
   "cell_type": "code",
   "execution_count": null,
   "id": "564d0e2c-16e5-4b22-9fa3-41665f686c4b",
   "metadata": {},
   "outputs": [],
   "source": []
  },
  {
   "cell_type": "code",
   "execution_count": null,
   "id": "ec256273-b5ff-40f3-a4b2-8011f18bb43e",
   "metadata": {},
   "outputs": [],
   "source": []
  }
 ],
 "metadata": {
  "kernelspec": {
   "display_name": "Python 3",
   "language": "python",
   "name": "python3"
  },
  "language_info": {
   "codemirror_mode": {
    "name": "ipython",
    "version": 3
   },
   "file_extension": ".py",
   "mimetype": "text/x-python",
   "name": "python",
   "nbconvert_exporter": "python",
   "pygments_lexer": "ipython3",
   "version": "3.8.8"
  }
 },
 "nbformat": 4,
 "nbformat_minor": 5
}
