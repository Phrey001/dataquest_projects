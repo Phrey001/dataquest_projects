{
 "cells": [
  {
   "cell_type": "markdown",
   "id": "915433d3-bc67-41f1-99b2-2aee3a1024a1",
   "metadata": {},
   "source": [
    "# Dataquest - SQL Fundamentals <br/> <br/> Project Title: Analysing CIA FactBook Data Using SQL"
   ]
  },
  {
   "cell_type": "markdown",
   "id": "ccc81fa4-b9ad-4c89-818d-8420c4c17ba0",
   "metadata": {},
   "source": [
    "## 1) Introduction\n",
    "\n",
    "Provided by: [Dataquest.io](https://www.dataquest.io/)\n",
    "\n",
    "In this project, we'll work with data from the [CIA World Factbook](https://www.cia.gov/the-world-factbook/), a compendium of statistics about all of the countries on Earth. The Factbook contains demographic information like the following:\n",
    "\n",
    "- **population** — the global population.\n",
    "- **population_growth** — the annual population growth rate, as a percentage.\n",
    "- **area** — the total land and water area.\n",
    "\n",
    "We'll use the following code to connect our Jupyter Notebook to our database file:"
   ]
  },
  {
   "cell_type": "code",
   "execution_count": 1,
   "id": "1d9be610-562e-422a-a56b-93fd496dd8c6",
   "metadata": {},
   "outputs": [],
   "source": [
    "%%capture\n",
    "%load_ext sql\n",
    "%sql sqlite:///factbook.db"
   ]
  },
  {
   "cell_type": "code",
   "execution_count": 2,
   "id": "a9811225-9421-4d5f-90fb-0a27bb1fa00a",
   "metadata": {},
   "outputs": [
    {
     "name": "stdout",
     "output_type": "stream",
     "text": [
      " * sqlite:///factbook.db\n",
      "Done.\n"
     ]
    },
    {
     "data": {
      "text/html": [
       "<table>\n",
       "    <thead>\n",
       "        <tr>\n",
       "            <th>type</th>\n",
       "            <th>name</th>\n",
       "            <th>tbl_name</th>\n",
       "            <th>rootpage</th>\n",
       "            <th>sql</th>\n",
       "        </tr>\n",
       "    </thead>\n",
       "    <tbody>\n",
       "        <tr>\n",
       "            <td>table</td>\n",
       "            <td>sqlite_sequence</td>\n",
       "            <td>sqlite_sequence</td>\n",
       "            <td>3</td>\n",
       "            <td>CREATE TABLE sqlite_sequence(name,seq)</td>\n",
       "        </tr>\n",
       "        <tr>\n",
       "            <td>table</td>\n",
       "            <td>facts</td>\n",
       "            <td>facts</td>\n",
       "            <td>47</td>\n",
       "            <td>CREATE TABLE &quot;facts&quot; (&quot;id&quot; INTEGER PRIMARY KEY AUTOINCREMENT NOT NULL, &quot;code&quot; varchar(255) NOT NULL, &quot;name&quot; varchar(255) NOT NULL, &quot;area&quot; integer, &quot;area_land&quot; integer, &quot;area_water&quot; integer, &quot;population&quot; integer, &quot;population_growth&quot; float, &quot;birth_rate&quot; float, &quot;death_rate&quot; float, &quot;migration_rate&quot; float)</td>\n",
       "        </tr>\n",
       "    </tbody>\n",
       "</table>"
      ],
      "text/plain": [
       "[('table', 'sqlite_sequence', 'sqlite_sequence', 3, 'CREATE TABLE sqlite_sequence(name,seq)'),\n",
       " ('table', 'facts', 'facts', 47, 'CREATE TABLE \"facts\" (\"id\" INTEGER PRIMARY KEY AUTOINCREMENT NOT NULL, \"code\" varchar(255) NOT NULL, \"name\" varchar(255) NOT NULL, \"area\" integer, \"a ... (4 characters truncated) ... land\" integer, \"area_water\" integer, \"population\" integer, \"population_growth\" float, \"birth_rate\" float, \"death_rate\" float, \"migration_rate\" float)')]"
      ]
     },
     "execution_count": 2,
     "metadata": {},
     "output_type": "execute_result"
    }
   ],
   "source": [
    "%%sql\n",
    "/*\n",
    "Write a query to return information on the tables in the database.\n",
    "*/\n",
    "\n",
    "SELECT *\n",
    "  FROM sqlite_master\n",
    " WHERE type='table';"
   ]
  },
  {
   "cell_type": "code",
   "execution_count": 3,
   "id": "e66f0125-29c3-4351-8601-d428319c660e",
   "metadata": {},
   "outputs": [
    {
     "name": "stdout",
     "output_type": "stream",
     "text": [
      " * sqlite:///factbook.db\n",
      "Done.\n"
     ]
    },
    {
     "data": {
      "text/html": [
       "<table>\n",
       "    <thead>\n",
       "        <tr>\n",
       "            <th>id</th>\n",
       "            <th>code</th>\n",
       "            <th>name</th>\n",
       "            <th>area</th>\n",
       "            <th>area_land</th>\n",
       "            <th>area_water</th>\n",
       "            <th>population</th>\n",
       "            <th>population_growth</th>\n",
       "            <th>birth_rate</th>\n",
       "            <th>death_rate</th>\n",
       "            <th>migration_rate</th>\n",
       "        </tr>\n",
       "    </thead>\n",
       "    <tbody>\n",
       "        <tr>\n",
       "            <td>1</td>\n",
       "            <td>af</td>\n",
       "            <td>Afghanistan</td>\n",
       "            <td>652230</td>\n",
       "            <td>652230</td>\n",
       "            <td>0</td>\n",
       "            <td>32564342</td>\n",
       "            <td>2.32</td>\n",
       "            <td>38.57</td>\n",
       "            <td>13.89</td>\n",
       "            <td>1.51</td>\n",
       "        </tr>\n",
       "        <tr>\n",
       "            <td>2</td>\n",
       "            <td>al</td>\n",
       "            <td>Albania</td>\n",
       "            <td>28748</td>\n",
       "            <td>27398</td>\n",
       "            <td>1350</td>\n",
       "            <td>3029278</td>\n",
       "            <td>0.3</td>\n",
       "            <td>12.92</td>\n",
       "            <td>6.58</td>\n",
       "            <td>3.3</td>\n",
       "        </tr>\n",
       "        <tr>\n",
       "            <td>3</td>\n",
       "            <td>ag</td>\n",
       "            <td>Algeria</td>\n",
       "            <td>2381741</td>\n",
       "            <td>2381741</td>\n",
       "            <td>0</td>\n",
       "            <td>39542166</td>\n",
       "            <td>1.84</td>\n",
       "            <td>23.67</td>\n",
       "            <td>4.31</td>\n",
       "            <td>0.92</td>\n",
       "        </tr>\n",
       "        <tr>\n",
       "            <td>4</td>\n",
       "            <td>an</td>\n",
       "            <td>Andorra</td>\n",
       "            <td>468</td>\n",
       "            <td>468</td>\n",
       "            <td>0</td>\n",
       "            <td>85580</td>\n",
       "            <td>0.12</td>\n",
       "            <td>8.13</td>\n",
       "            <td>6.96</td>\n",
       "            <td>0.0</td>\n",
       "        </tr>\n",
       "        <tr>\n",
       "            <td>5</td>\n",
       "            <td>ao</td>\n",
       "            <td>Angola</td>\n",
       "            <td>1246700</td>\n",
       "            <td>1246700</td>\n",
       "            <td>0</td>\n",
       "            <td>19625353</td>\n",
       "            <td>2.78</td>\n",
       "            <td>38.78</td>\n",
       "            <td>11.49</td>\n",
       "            <td>0.46</td>\n",
       "        </tr>\n",
       "    </tbody>\n",
       "</table>"
      ],
      "text/plain": [
       "[(1, 'af', 'Afghanistan', 652230, 652230, 0, 32564342, 2.32, 38.57, 13.89, 1.51),\n",
       " (2, 'al', 'Albania', 28748, 27398, 1350, 3029278, 0.3, 12.92, 6.58, 3.3),\n",
       " (3, 'ag', 'Algeria', 2381741, 2381741, 0, 39542166, 1.84, 23.67, 4.31, 0.92),\n",
       " (4, 'an', 'Andorra', 468, 468, 0, 85580, 0.12, 8.13, 6.96, 0.0),\n",
       " (5, 'ao', 'Angola', 1246700, 1246700, 0, 19625353, 2.78, 38.78, 11.49, 0.46)]"
      ]
     },
     "execution_count": 3,
     "metadata": {},
     "output_type": "execute_result"
    }
   ],
   "source": [
    "%%sql\n",
    "/* \n",
    "In a different code cell, write and run another query that returns the first five rows of the facts table in the database. \n",
    "*/\n",
    "\n",
    "SELECT\n",
    "    *\n",
    "FROM\n",
    "    facts\n",
    "LIMIT\n",
    "    5;"
   ]
  },
  {
   "cell_type": "markdown",
   "id": "6bd03938-711c-448a-845b-adcf323e1b84",
   "metadata": {},
   "source": [
    "## 2) Summary Statistics\n",
    "\n",
    "Here are the descriptions for some of the columns:\n",
    "- **name** — the name of the country.\n",
    "- **area**— the country's total area (both land and water).\n",
    "- **area_land** — the country's land area in square kilometers.\n",
    "- **area_water** — the country's waterarea in square kilometers.\n",
    "- **population** — the country's population.\n",
    "- **population_growth**— the country's population growth as a percentage.\n",
    "- **birth_rate** — the country's birth rate, or the number of births per year per 1,000 people.\n",
    "- **death_rate** — the country's death rate, or the number of death per year per 1,000 people.\n",
    "\n",
    "Let's start by calculating some summary statistics and look for any outlier countries. "
   ]
  },
  {
   "cell_type": "code",
   "execution_count": 39,
   "id": "55e48e9d-ca26-49dc-b7f5-1a86a3d5ce5c",
   "metadata": {},
   "outputs": [
    {
     "name": "stdout",
     "output_type": "stream",
     "text": [
      " * sqlite:///factbook.db\n",
      "Done.\n"
     ]
    },
    {
     "data": {
      "text/html": [
       "<table>\n",
       "    <thead>\n",
       "        <tr>\n",
       "            <th>min_population</th>\n",
       "            <th>max_population</th>\n",
       "            <th>min_population_growth</th>\n",
       "            <th>max_population_growth</th>\n",
       "        </tr>\n",
       "    </thead>\n",
       "    <tbody>\n",
       "        <tr>\n",
       "            <td>0</td>\n",
       "            <td>7256490011</td>\n",
       "            <td>0.0</td>\n",
       "            <td>4.02</td>\n",
       "        </tr>\n",
       "    </tbody>\n",
       "</table>"
      ],
      "text/plain": [
       "[(0, 7256490011, 0.0, 4.02)]"
      ]
     },
     "execution_count": 39,
     "metadata": {},
     "output_type": "execute_result"
    }
   ],
   "source": [
    "%%sql\n",
    "/*\n",
    "Write a single query that returns the following:  \n",
    "- Minimum population\n",
    "- Maximum population\n",
    "- Minimum population growth\n",
    "- Maximum population growth\n",
    "*/\n",
    "\n",
    "SELECT\n",
    "    MIN(population) AS min_population,\n",
    "    MAX(population) AS max_population,\n",
    "    MIN(population_growth) AS min_population_growth,\n",
    "    MAX(population_growth) AS max_population_growth\n",
    "FROM\n",
    "    facts;"
   ]
  },
  {
   "cell_type": "markdown",
   "id": "51afc57d-3222-4a5c-b9e3-e2ddc1dc4e18",
   "metadata": {},
   "source": [
    "## 3) Exploring Outliers\n",
    "\n",
    "We see a few interesting things in the summary statistics on the previous screen:\n",
    "\n",
    "- There's a country with a population of 0\n",
    "- There's a country with a population of 7256490011 (or more than 7.2 billion people)\n",
    "\n",
    "Let's use subqueries to zoom in on just these countries without using the specific values."
   ]
  },
  {
   "cell_type": "code",
   "execution_count": 35,
   "id": "879b2923-0a00-4189-bad9-0b5890372805",
   "metadata": {},
   "outputs": [
    {
     "name": "stdout",
     "output_type": "stream",
     "text": [
      " * sqlite:///factbook.db\n",
      "Done.\n"
     ]
    },
    {
     "data": {
      "text/html": [
       "<table>\n",
       "    <thead>\n",
       "        <tr>\n",
       "            <th>name</th>\n",
       "            <th>population</th>\n",
       "        </tr>\n",
       "    </thead>\n",
       "    <tbody>\n",
       "        <tr>\n",
       "            <td>Antarctica</td>\n",
       "            <td>0</td>\n",
       "        </tr>\n",
       "        <tr>\n",
       "            <td>World</td>\n",
       "            <td>7256490011</td>\n",
       "        </tr>\n",
       "    </tbody>\n",
       "</table>"
      ],
      "text/plain": [
       "[('Antarctica', 0), ('World', 7256490011)]"
      ]
     },
     "execution_count": 35,
     "metadata": {},
     "output_type": "execute_result"
    }
   ],
   "source": [
    "%%sql\n",
    "/*\n",
    "Write a query that returns the countries with the minimum population.\n",
    "Write a query that returns the countries with the maximum population.\n",
    "*/\n",
    "\n",
    "\n",
    "SELECT\n",
    "    facts.name,\n",
    "    facts.population\n",
    "FROM\n",
    "    facts\n",
    "WHERE\n",
    "    facts.population =  (\n",
    "                        SELECT\n",
    "                            MIN(population) AS min_population\n",
    "                        FROM\n",
    "                            facts\n",
    "                        )\n",
    "    OR\n",
    "    facts.population =  (\n",
    "                        SELECT\n",
    "                            MAX(population) AS max_population\n",
    "                        FROM\n",
    "                            facts\n",
    "                        );"
   ]
  },
  {
   "cell_type": "markdown",
   "id": "10ae0597-b3a4-4c86-86e4-b09f447c8b95",
   "metadata": {},
   "source": [
    "## 4) Exploring Average Population And Area\n",
    "\n",
    "- It seems like the table contains a row for the whole world, which explains the population of over 7.2 billion. \n",
    "- It also seems like the table contains a row for Antarctica, which explains the population of 0.\n",
    "\n",
    "Now that we know this, we should recalculate the summary statistics we calculated earlier — this time excluding the row for the whole world."
   ]
  },
  {
   "cell_type": "code",
   "execution_count": 69,
   "id": "e30414f5-0594-4fce-89cd-77a1f5aaf59c",
   "metadata": {},
   "outputs": [
    {
     "name": "stdout",
     "output_type": "stream",
     "text": [
      " * sqlite:///factbook.db\n",
      "Done.\n"
     ]
    },
    {
     "data": {
      "text/html": [
       "<table>\n",
       "    <thead>\n",
       "        <tr>\n",
       "            <th>Minimum population</th>\n",
       "            <th>Maximum population</th>\n",
       "            <th>Minimum population growth</th>\n",
       "            <th>Maximum population growth</th>\n",
       "        </tr>\n",
       "    </thead>\n",
       "    <tbody>\n",
       "        <tr>\n",
       "            <td>0</td>\n",
       "            <td>1367485388</td>\n",
       "            <td>0.0</td>\n",
       "            <td>4.02</td>\n",
       "        </tr>\n",
       "    </tbody>\n",
       "</table>"
      ],
      "text/plain": [
       "[(0, 1367485388, 0.0, 4.02)]"
      ]
     },
     "execution_count": 69,
     "metadata": {},
     "output_type": "execute_result"
    }
   ],
   "source": [
    "%%sql\n",
    "/*\n",
    "Recompute the summary statistics you found earlier while excluding the row for the whole world. Include the following:\n",
    "- Minimum population\n",
    "- Maximum population\n",
    "- Minimum population growth\n",
    "- Maximum population growth  \n",
    "*/\n",
    "\n",
    "WITH sub AS (\n",
    "            SELECT\n",
    "                *\n",
    "            FROM\n",
    "                facts\n",
    "            Where\n",
    "                population <    (\n",
    "                                SELECT\n",
    "                                    MAX(population)\n",
    "                                FROM\n",
    "                                    facts\n",
    "                                )\n",
    "            )\n",
    "\n",
    "SELECT\n",
    "    MIN(population) AS 'Minimum population',\n",
    "    MAX(population) AS 'Maximum population',\n",
    "    MIN(population_growth) AS 'Minimum population growth',\n",
    "    MAX(population_growth) AS 'Maximum population growth'\n",
    "FROM\n",
    "    sub;"
   ]
  },
  {
   "cell_type": "code",
   "execution_count": 75,
   "id": "0f77920e-5b36-4001-b648-3937f563958c",
   "metadata": {},
   "outputs": [
    {
     "name": "stdout",
     "output_type": "stream",
     "text": [
      " * sqlite:///factbook.db\n",
      "Done.\n"
     ]
    },
    {
     "data": {
      "text/html": [
       "<table>\n",
       "    <thead>\n",
       "        <tr>\n",
       "            <th>AVG(population)</th>\n",
       "            <th>AVG(area)</th>\n",
       "        </tr>\n",
       "    </thead>\n",
       "    <tbody>\n",
       "        <tr>\n",
       "            <td>62094928.32231405</td>\n",
       "            <td>555093.546184739</td>\n",
       "        </tr>\n",
       "    </tbody>\n",
       "</table>"
      ],
      "text/plain": [
       "[(62094928.32231405, 555093.546184739)]"
      ]
     },
     "execution_count": 75,
     "metadata": {},
     "output_type": "execute_result"
    }
   ],
   "source": [
    "%%sql\n",
    "/*\n",
    "Calculate the average value for the following columns:\n",
    "- population\n",
    "- area\n",
    "*/\n",
    "\n",
    "SELECT\n",
    "    AVG(population),\n",
    "    AVG(area)\n",
    "FROM\n",
    "    facts;"
   ]
  },
  {
   "cell_type": "markdown",
   "id": "c6434e4d-db73-4ddc-a3d4-e5f1f651c2f6",
   "metadata": {},
   "source": [
    "## 5) Finding Densely Populated Countries\n",
    "\n",
    "To finish, we'll build on the query we wrote for the previous screen to find countries that are densely populated. We'll identify countries that have **both** the following:\n",
    "\n",
    "- Above-average values for population\n",
    "- Below-average values for area"
   ]
  },
  {
   "cell_type": "code",
   "execution_count": 82,
   "id": "730e8dc3-e814-4e8e-8c4c-c628d8308984",
   "metadata": {},
   "outputs": [
    {
     "name": "stdout",
     "output_type": "stream",
     "text": [
      " * sqlite:///factbook.db\n",
      "Done.\n"
     ]
    },
    {
     "data": {
      "text/html": [
       "<table>\n",
       "    <thead>\n",
       "        <tr>\n",
       "            <th>name</th>\n",
       "        </tr>\n",
       "    </thead>\n",
       "    <tbody>\n",
       "        <tr>\n",
       "            <td>Bangladesh</td>\n",
       "        </tr>\n",
       "        <tr>\n",
       "            <td>Germany</td>\n",
       "        </tr>\n",
       "        <tr>\n",
       "            <td>Japan</td>\n",
       "        </tr>\n",
       "        <tr>\n",
       "            <td>Philippines</td>\n",
       "        </tr>\n",
       "        <tr>\n",
       "            <td>Thailand</td>\n",
       "        </tr>\n",
       "        <tr>\n",
       "            <td>United Kingdom</td>\n",
       "        </tr>\n",
       "        <tr>\n",
       "            <td>Vietnam</td>\n",
       "        </tr>\n",
       "    </tbody>\n",
       "</table>"
      ],
      "text/plain": [
       "[('Bangladesh',),\n",
       " ('Germany',),\n",
       " ('Japan',),\n",
       " ('Philippines',),\n",
       " ('Thailand',),\n",
       " ('United Kingdom',),\n",
       " ('Vietnam',)]"
      ]
     },
     "execution_count": 82,
     "metadata": {},
     "output_type": "execute_result"
    }
   ],
   "source": [
    "%%sql\n",
    "/*\n",
    "Write a query that finds all countries meeting both of the following criteria:\n",
    "- The population is above average.\n",
    "- The area is below average.\n",
    "*/\n",
    "\n",
    "SELECT\n",
    "    name\n",
    "FROM\n",
    "    facts\n",
    "WHERE\n",
    "    population >    \n",
    "                (\n",
    "                SELECT\n",
    "                    AVG(population)\n",
    "                FROM\n",
    "                    facts\n",
    "                )\n",
    "                AND\n",
    "    area <  \n",
    "            (\n",
    "            SELECT\n",
    "                AVG(area)\n",
    "            FROM\n",
    "                facts\n",
    "            );"
   ]
  },
  {
   "cell_type": "markdown",
   "id": "9a21b2c3-0de8-4cbd-95f9-c0d740c85bf1",
   "metadata": {},
   "source": [
    "## 6) Conclusion\n",
    "\n",
    "#### Potential areas for further analysis\n",
    "- Which country has the most people? Which country has the highest growth rate?\n",
    "- Which countries have the highest ratios of water to land? Which countries have more water than land?\n",
    "- Which countries will add the most people to their populations next year?\n",
    "- Which countries have a higher death rate than birth rate?\n",
    "- Which countries have the highest **population/area** ratio, and how does it compare to list we found in the previous works?"
   ]
  },
  {
   "cell_type": "code",
   "execution_count": null,
   "id": "5b3a4e9d-0f89-4b44-bf29-614c37a40100",
   "metadata": {},
   "outputs": [],
   "source": []
  }
 ],
 "metadata": {
  "kernelspec": {
   "display_name": "Python 3",
   "language": "python",
   "name": "python3"
  },
  "language_info": {
   "codemirror_mode": {
    "name": "ipython",
    "version": 3
   },
   "file_extension": ".py",
   "mimetype": "text/x-python",
   "name": "python",
   "nbconvert_exporter": "python",
   "pygments_lexer": "ipython3",
   "version": "3.8.8"
  }
 },
 "nbformat": 4,
 "nbformat_minor": 5
}
