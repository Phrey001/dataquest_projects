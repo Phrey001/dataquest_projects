{
 "cells": [
  {
   "cell_type": "code",
   "execution_count": 33,
   "id": "58b004b1-3569-43b0-b895-8942989d7069",
   "metadata": {},
   "outputs": [
    {
     "data": {
      "text/html": [
       "<style>\n",
       "table {align:left;display:block}  # to align html tables to left\n",
       "</style> \n"
      ],
      "text/plain": [
       "<IPython.core.display.HTML object>"
      ]
     },
     "metadata": {},
     "output_type": "display_data"
    }
   ],
   "source": [
    "%%html\n",
    "<style>\n",
    "table {align:left;display:block}  # to align html tables to left\n",
    "</style> "
   ]
  },
  {
   "cell_type": "markdown",
   "id": "04548eca-164d-4719-9661-1ff0e8ac102d",
   "metadata": {},
   "source": [
    "# Dataquest - Python for Data Science: Intermediate <br/> <br/> Project Title: Exploring Hacker News Posts"
   ]
  },
  {
   "cell_type": "markdown",
   "id": "5dd05060-8b04-4671-bbdc-2024900fe052",
   "metadata": {},
   "source": [
    "## Introduction\n",
    "#### Metadata\n",
    "Dataset original source: [Link](https://www.kaggle.com/hacker-news/hacker-news-posts)\n",
    "\n",
    "However, for the purposes of this analysis, we are using the hacker_news.csv file provided by Dataquest instead (found in same folder directory as this Jupyter Notebook).\n",
    "\n",
    "Pre-treated dataset by Dataquest:\n",
    "Dataquest has reduced from almost 300,000 rows to approximately 20,000 rows by removing all submissions that didn't receive any comments and then randomly sampling from the remaining submissions. \n",
    "\n",
    "| Column | Description |\n",
    "| --- | --- |\n",
    "| id | the unique identifier from Hacker News for the post |\n",
    "| title | the title of the post |\n",
    "| url | the URL that the posts links to, if the post has a URL |\n",
    "| num_points | the number of points the post acquired, calculated as the total number of upvotes minus the total number of downvotes |\n",
    "| num_comments | the number of comments on the post |\n",
    "| author | the name of the account that made the post |\n",
    "| created_at | the date and time of the post's submission (time zone: Eastern Time in the US) |"
   ]
  },
  {
   "cell_type": "markdown",
   "id": "5e01209c-4975-44fd-990b-9fc413f1a3fe",
   "metadata": {},
   "source": [
    "## Ask: Background and questions\n",
    "\n",
    "#### Background\n",
    "We're specifically interested in posts with titles that begin with either Ask HN or Show HN. Users submit Ask HN posts to ask the Hacker News community a specific question.\n",
    "\n",
    "Egs:\n",
    "- Ask HN: How to improve my personal website?\n",
    "- Ask HN: Am I the only one outraged by Twitter shutting down share counts?\n",
    "- Ask HN: Aby recent changes to CSS that broke mobile?\n",
    "\n",
    "Likewise, users submit Show HN posts to show the Hacker News community a project, product, or just something interesting.\n",
    "\n",
    "Egs:\n",
    "- Show HN: Wio Link  ESP8266 Based Web of Things Hardware Development Platform'\n",
    "- Show HN: Something pointless I made\n",
    "- Show HN: Shanhu.io, a programming playground powered by e8vm\n",
    "\n",
    "#### Questions\n",
    "We'll compare these two types of posts to determine the following:\n",
    "\n",
    "- Do Ask HN or Show HN receive more comments on average?\n",
    "- Do posts created at a certain time receive more comments on average?"
   ]
  },
  {
   "cell_type": "markdown",
   "id": "cc6ab3ba-8ae1-4ac3-b443-7cf699fbace3",
   "metadata": {},
   "source": [
    "## Prepare: Load, open and explore datasets"
   ]
  },
  {
   "cell_type": "code",
   "execution_count": 34,
   "id": "118da8a0-4f45-49c1-831e-2aef0d6d2125",
   "metadata": {},
   "outputs": [],
   "source": [
    "# define helper functions to open file and explore dataset\n",
    "def explore_data(dataset, start, end, rows_and_columns=False):\n",
    "    dataset_slice = dataset[start:end]    \n",
    "    for row in dataset_slice:\n",
    "        print(row)\n",
    "        print('\\n') # adds a new (empty) line after each row\n",
    "\n",
    "    if rows_and_columns:\n",
    "        print('Number of rows:', len(dataset))\n",
    "        print('Number of columns:', len(dataset[0]))\n",
    "\n",
    "        \n",
    "def open_file(file_name, header=True):\n",
    "    opened_file = open(file_name)\n",
    "    from csv import reader\n",
    "    read_file = reader(opened_file)\n",
    "    data = list(read_file)\n",
    "    if header == True:\n",
    "        data = data[1:]\n",
    "        return data\n",
    "    elif header != True:\n",
    "        return data"
   ]
  },
  {
   "cell_type": "code",
   "execution_count": 35,
   "id": "8ca9d44d-2066-4d02-8666-4154803a465c",
   "metadata": {},
   "outputs": [
    {
     "data": {
      "text/plain": [
       "[['12224879',\n",
       "  'Interactive Dynamic Video',\n",
       "  'http://www.interactivedynamicvideo.com/',\n",
       "  '386',\n",
       "  '52',\n",
       "  'ne0phyte',\n",
       "  '8/4/2016 11:52'],\n",
       " ['10975351',\n",
       "  'How to Use Open Source and Shut the Fuck Up at the Same Time',\n",
       "  'http://hueniverse.com/2016/01/26/how-to-use-open-source-and-shut-the-fuck-up-at-the-same-time/',\n",
       "  '39',\n",
       "  '10',\n",
       "  'josep2',\n",
       "  '1/26/2016 19:30'],\n",
       " ['11964716',\n",
       "  \"Florida DJs May Face Felony for April Fools' Water Joke\",\n",
       "  'http://www.thewire.com/entertainment/2013/04/florida-djs-april-fools-water-joke/63798/',\n",
       "  '2',\n",
       "  '1',\n",
       "  'vezycash',\n",
       "  '6/23/2016 22:20'],\n",
       " ['11919867',\n",
       "  'Technology ventures: From Idea to Enterprise',\n",
       "  'https://www.amazon.com/Technology-Ventures-Enterprise-Thomas-Byers/dp/0073523429',\n",
       "  '3',\n",
       "  '1',\n",
       "  'hswarna',\n",
       "  '6/17/2016 0:01'],\n",
       " ['10301696',\n",
       "  'Note by Note: The Making of Steinway L1037 (2007)',\n",
       "  'http://www.nytimes.com/2007/11/07/movies/07stein.html?_r=0',\n",
       "  '8',\n",
       "  '2',\n",
       "  'walterbell',\n",
       "  '9/30/2015 4:12']]"
      ]
     },
     "execution_count": 35,
     "metadata": {},
     "output_type": "execute_result"
    }
   ],
   "source": [
    "# Read the hacker_news.csv file in as a list of lists.\n",
    "hn = open_file('hacker_news.csv', header=True)  # exclude header row in import\n",
    "\n",
    "hn[:5]  # read first 5 rows (have verified header row exists)"
   ]
  },
  {
   "cell_type": "markdown",
   "id": "79f88ed7-e910-42e4-874f-af8abebe61af",
   "metadata": {},
   "source": [
    "## Process: Separate dataset into types of posts for further analysis\n",
    "- Ask HN\n",
    "- Show HN\n",
    "- Others"
   ]
  },
  {
   "cell_type": "code",
   "execution_count": 52,
   "id": "1b28f3ce-8f25-4ca1-8c8f-299ecdb5e975",
   "metadata": {},
   "outputs": [
    {
     "data": {
      "text/plain": [
       "[['12296411',\n",
       "  'Ask HN: How to improve my personal website?',\n",
       "  '',\n",
       "  '2',\n",
       "  '6',\n",
       "  'ahmedbaracat',\n",
       "  '8/16/2016 9:55'],\n",
       " ['10610020',\n",
       "  'Ask HN: Am I the only one outraged by Twitter shutting down share counts?',\n",
       "  '',\n",
       "  '28',\n",
       "  '29',\n",
       "  'tkfx',\n",
       "  '11/22/2015 13:43']]"
      ]
     },
     "execution_count": 52,
     "metadata": {},
     "output_type": "execute_result"
    }
   ],
   "source": [
    "# Create 3 empty lists to filter analysis later\n",
    "ask_posts = []\n",
    "show_posts = []\n",
    "other_posts = []\n",
    "\n",
    "# Loop through each row in hn\n",
    "for row in hn:\n",
    "    title = str(row[1])  # assign title to variable as string\n",
    "    # transform to lowercase so capitalisation don't matter when checking\n",
    "    if title.lower().startswith('ask hn') == True:\n",
    "        ask_posts.append(row)\n",
    "    elif title.lower().startswith('show hn') == True:\n",
    "        show_posts.append(row)\n",
    "    else:\n",
    "        other_posts.append(row)\n",
    "        \n",
    "# test check that appended correctly to new lists\n",
    "ask_posts[:2]"
   ]
  },
  {
   "cell_type": "code",
   "execution_count": 53,
   "id": "912e04a2-f6e7-4eab-8bbf-d6ab546abf2f",
   "metadata": {},
   "outputs": [
    {
     "data": {
      "text/plain": [
       "1744"
      ]
     },
     "execution_count": 53,
     "metadata": {},
     "output_type": "execute_result"
    }
   ],
   "source": [
    "# check number of posts in each list\n",
    "# check ask hn posts\n",
    "len(ask_posts)"
   ]
  },
  {
   "cell_type": "code",
   "execution_count": 54,
   "id": "a2672b4c-a68b-48cd-bd7a-9ce07e424d44",
   "metadata": {},
   "outputs": [
    {
     "data": {
      "text/plain": [
       "1162"
      ]
     },
     "execution_count": 54,
     "metadata": {},
     "output_type": "execute_result"
    }
   ],
   "source": [
    "# check show hn posts\n",
    "len(show_posts)"
   ]
  },
  {
   "cell_type": "code",
   "execution_count": 55,
   "id": "27d60b29-1b60-4c32-ab6a-7bca907d0ac1",
   "metadata": {},
   "outputs": [
    {
     "data": {
      "text/plain": [
       "17194"
      ]
     },
     "execution_count": 55,
     "metadata": {},
     "output_type": "execute_result"
    }
   ],
   "source": [
    "# check other posts\n",
    "len(other_posts)"
   ]
  },
  {
   "cell_type": "markdown",
   "id": "2ce0fcd0-70de-449f-8711-e6eae2e9f9de",
   "metadata": {},
   "source": [
    "## Process / Analysis: Determine if which post type receive more comments on average"
   ]
  },
  {
   "cell_type": "code",
   "execution_count": 65,
   "id": "9c80bc2e-00a8-4233-a792-0263ec2a97db",
   "metadata": {},
   "outputs": [
    {
     "name": "stdout",
     "output_type": "stream",
     "text": [
      "The average number of comments received per 'Ask HN' post is 14.04.\n"
     ]
    }
   ],
   "source": [
    "# Find total number of comments in each post type\n",
    "\n",
    "# Processing / Analysing 'Ask HN' post type\n",
    "total_ask_comments = 0\n",
    "for row in ask_posts:\n",
    "    num_comments = row[4]  # get number of comments\n",
    "    num_comments = int(num_comments)  # typecast to int\n",
    "    total_ask_comments += num_comments  # accumulate total_ask_comments\n",
    "\n",
    "# compute average number of comments on ask posts    \n",
    "num_post_ask = len(ask_posts)  # get number of posts\n",
    "num_post_ask = int(num_post_ask)  # typecast to int\n",
    "avg_ask_comments = total_ask_comments / num_post_ask\n",
    "\n",
    "# transform and print output message\n",
    "template = \"The average number of comments received per 'Ask HN' post is {:.2f}.\"  # :.2f format numbers\n",
    "output = template.format(avg_ask_comments)\n",
    "print(output)"
   ]
  },
  {
   "cell_type": "code",
   "execution_count": 66,
   "id": "edc59b21-cbc9-4681-b94c-f6ff7b788067",
   "metadata": {},
   "outputs": [
    {
     "name": "stdout",
     "output_type": "stream",
     "text": [
      "The average number of comments received per 'Show HN' post is 10.32.\n"
     ]
    }
   ],
   "source": [
    "# Processing / Analysing 'Show HN' post type\n",
    "total_show_comments = 0\n",
    "for row in show_posts:\n",
    "    num_comments = row[4]  # get number of comments\n",
    "    num_comments = int(num_comments)  # typecast to int\n",
    "    total_show_comments += num_comments  # accumulate total_ask_comments\n",
    "\n",
    "# compute average number of comments on ask posts    \n",
    "num_post_show = len(show_posts)  # get number of posts\n",
    "num_post_show = int(num_post_show)  # typecast to int\n",
    "avg_show_comments = total_show_comments / num_post_show\n",
    "\n",
    "# transform and print output message\n",
    "template = \"The average number of comments received per 'Show HN' post is {:.2f}.\"  # :.2f format numbers\n",
    "output = template.format(avg_show_comments)\n",
    "print(output)"
   ]
  },
  {
   "cell_type": "markdown",
   "id": "6347b5fc-301d-4c4d-b6c6-53e4ac66a83e",
   "metadata": {},
   "source": [
    "### Findings:\n",
    "Based on the above findings, 'Ask HN' posts receive more comments on average as compared to 'Show HN' posts."
   ]
  },
  {
   "cell_type": "markdown",
   "id": "0b870a39-1d3a-4f9d-be22-dab23cfbcc26",
   "metadata": {},
   "source": [
    "## Process / Analysis: To find out if ask posts created at a certain time are more likely to attract comments.\n",
    "- On average, ask posts receive more comments than show posts.\n",
    "- Since ask posts are more likely to receive comments, we'll focus our remaining analysis just on these posts.\n",
    "\n",
    "Steps:\n",
    "1) Calculate the number of ask posts created in each hour of the day, along with the number of comments received.\n",
    "2) Calculate the average number of comments ask posts receive by hour created."
   ]
  },
  {
   "cell_type": "code",
   "execution_count": 70,
   "id": "a592e781-156e-4f2f-bb24-ab2bde257495",
   "metadata": {},
   "outputs": [],
   "source": [
    "# Approach: Build a freqency table where key = datetime by hour,\n",
    "# value = number of comments, post counts\n",
    "\n",
    "import datetime as dt  # import datetime to manipulate datetime object types\n",
    "\n",
    "result_list = []  # generate empty list of lists\n",
    "\n",
    "for row in ask_posts:\n",
    "    created_at = row[6]  # get datetime value of post creation (string type)\n",
    "    num_comments = row[4]  # get number of comments\n",
    "    num_comments = int(num_comments)  # typecast to int\n",
    "    result_sublist = [created_at, num_comments]\n",
    "    result_list.append(result_sublist)\n",
    "\n",
    "counts_by_hour = {}\n",
    "comments_by_hour = {}\n",
    "for row in result_list:\n",
    "    date_time = row[0]  # get datetime value (string data type, since not parsed to datetime yet)\n",
    "    date_time = dt.datetime.strptime(date_time, \"%m/%d/%Y %H:%M\")  # parse string to output datetime, specify input string's datetime format\n",
    "    hour = dt.datetime.strftime(date_time, \"%H\")  # format datetime to only display hour using strftime\n",
    "    if hour not in counts_by_hour:\n",
    "        counts_by_hour[hour] = 1  # set post count for each hour to 1\n",
    "        comments_by_hour[hour] = row[1]  # get number of comments from result_list for each key\n",
    "    elif hour in counts_by_hour:\n",
    "        counts_by_hour[hour] += 1  # increment post count for each hour by 1\n",
    "        comments_by_hour[hour] += row[1]  # increment by number of comments from result_list for each key"
   ]
  },
  {
   "cell_type": "code",
   "execution_count": 90,
   "id": "902f0924-8db5-484b-9e7a-d4d1d48793fe",
   "metadata": {},
   "outputs": [
    {
     "name": "stdout",
     "output_type": "stream",
     "text": [
      "00:55\n",
      "01:60\n",
      "02:58\n",
      "03:54\n",
      "04:47\n",
      "05:46\n",
      "06:44\n",
      "07:34\n",
      "08:48\n",
      "09:45\n",
      "10:59\n",
      "11:58\n",
      "12:73\n",
      "13:85\n",
      "14:107\n",
      "15:116\n",
      "16:108\n",
      "17:100\n",
      "18:109\n",
      "19:110\n",
      "20:80\n",
      "21:109\n",
      "22:71\n",
      "23:68\n"
     ]
    },
    {
     "data": {
      "text/plain": [
       "{'09': 45,\n",
       " '13': 85,\n",
       " '10': 59,\n",
       " '14': 107,\n",
       " '16': 108,\n",
       " '23': 68,\n",
       " '12': 73,\n",
       " '17': 100,\n",
       " '15': 116,\n",
       " '21': 109,\n",
       " '20': 80,\n",
       " '02': 58,\n",
       " '18': 109,\n",
       " '03': 54,\n",
       " '05': 46,\n",
       " '19': 110,\n",
       " '01': 60,\n",
       " '22': 71,\n",
       " '08': 48,\n",
       " '04': 47,\n",
       " '00': 55,\n",
       " '06': 44,\n",
       " '07': 34,\n",
       " '11': 58}"
      ]
     },
     "execution_count": 90,
     "metadata": {},
     "output_type": "execute_result"
    }
   ],
   "source": [
    "# check if above transformation is okay\n",
    "# use sort.items() and print(), template.format() to check dictionary\n",
    "sort = sorted(counts_by_hour.items())\n",
    "for i in sort:\n",
    "    print(\"{}:{}\".format(i[0], i[1]))\n",
    "\n",
    "# also check dictionary by itself\n",
    "counts_by_hour"
   ]
  },
  {
   "cell_type": "code",
   "execution_count": 91,
   "id": "2d464bfe-a5c7-4aef-a5dd-975283fba832",
   "metadata": {},
   "outputs": [
    {
     "name": "stdout",
     "output_type": "stream",
     "text": [
      "00:447\n",
      "01:683\n",
      "02:1381\n",
      "03:421\n",
      "04:337\n",
      "05:464\n",
      "06:397\n",
      "07:267\n",
      "08:492\n",
      "09:251\n",
      "10:793\n",
      "11:641\n",
      "12:687\n",
      "13:1253\n",
      "14:1416\n",
      "15:4477\n",
      "16:1814\n",
      "17:1146\n",
      "18:1439\n",
      "19:1188\n",
      "20:1722\n",
      "21:1745\n",
      "22:479\n",
      "23:543\n"
     ]
    },
    {
     "data": {
      "text/plain": [
       "{'09': 251,\n",
       " '13': 1253,\n",
       " '10': 793,\n",
       " '14': 1416,\n",
       " '16': 1814,\n",
       " '23': 543,\n",
       " '12': 687,\n",
       " '17': 1146,\n",
       " '15': 4477,\n",
       " '21': 1745,\n",
       " '20': 1722,\n",
       " '02': 1381,\n",
       " '18': 1439,\n",
       " '03': 421,\n",
       " '05': 464,\n",
       " '19': 1188,\n",
       " '01': 683,\n",
       " '22': 479,\n",
       " '08': 492,\n",
       " '04': 337,\n",
       " '00': 447,\n",
       " '06': 397,\n",
       " '07': 267,\n",
       " '11': 641}"
      ]
     },
     "execution_count": 91,
     "metadata": {},
     "output_type": "execute_result"
    }
   ],
   "source": [
    "# check if above transformation is okay\n",
    "# use sort.items() and print(), template.format() to check dictionary\n",
    "sort = sorted(comments_by_hour.items())\n",
    "for i in sort:\n",
    "    print(\"{}:{}\".format(i[0], i[1]))\n",
    "    \n",
    "# also check dictionary by itself\n",
    "comments_by_hour"
   ]
  },
  {
   "cell_type": "code",
   "execution_count": 103,
   "id": "9c23d696-9206-40ab-8ebc-b1b5d5ea7788",
   "metadata": {},
   "outputs": [
    {
     "data": {
      "text/plain": [
       "[['00', 8.13],\n",
       " ['01', 11.38],\n",
       " ['02', 23.81],\n",
       " ['03', 7.8],\n",
       " ['04', 7.17],\n",
       " ['05', 10.09],\n",
       " ['06', 9.02],\n",
       " ['07', 7.85],\n",
       " ['08', 10.25],\n",
       " ['09', 5.58],\n",
       " ['10', 13.44],\n",
       " ['11', 11.05],\n",
       " ['12', 9.41],\n",
       " ['13', 14.74],\n",
       " ['14', 13.23],\n",
       " ['15', 38.59],\n",
       " ['16', 16.8],\n",
       " ['17', 11.46],\n",
       " ['18', 13.2],\n",
       " ['19', 10.8],\n",
       " ['20', 21.52],\n",
       " ['21', 16.01],\n",
       " ['22', 6.75],\n",
       " ['23', 7.99]]"
      ]
     },
     "execution_count": 103,
     "metadata": {},
     "output_type": "execute_result"
    }
   ],
   "source": [
    "# generate list of list to display average number of comments, categorised by hour\n",
    "# average number of comments = total comments / number of post for each hour\n",
    "\n",
    "avg_by_hour = []  # empty list of list\n",
    "for key in comments_by_hour:\n",
    "    value_comments = comments_by_hour[key]  # get value from each dict pair (comments)\n",
    "    value_counts = counts_by_hour[key]  # get value from each dict pair (counts)\n",
    "    avg_value = value_comments / value_counts  # get avg value\n",
    "    avg_value = round(avg_value, 2)  # round to 2 decimal places for presentability\n",
    "    row_list = [key, avg_value]  # ready list for each row to be append later\n",
    "    avg_by_hour.append(row_list)  # append each row of list, to the specified list of list\n",
    "\n",
    "avg_by_hour = sorted(avg_by_hour)  # sort the list of list by first element\n",
    "avg_by_hour  # check if code output is okay"
   ]
  },
  {
   "cell_type": "code",
   "execution_count": 117,
   "id": "9d610775-7bc4-4921-9653-ba5b439ff6d3",
   "metadata": {},
   "outputs": [
    {
     "name": "stdout",
     "output_type": "stream",
     "text": [
      "Top 5 Hours for Ask Posts Comments\n",
      "15:00: 38.59 average comments per post\n",
      "02:00: 23.81 average comments per post\n",
      "20:00: 21.52 average comments per post\n",
      "16:00: 16.80 average comments per post\n",
      "21:00: 16.01 average comments per post\n"
     ]
    }
   ],
   "source": [
    "# to sort list by value - swap the 1st and 2nd element when sorting list of list\n",
    "swap_avg_by_hour = []\n",
    "for row in avg_by_hour:\n",
    "    swap_row = [row[1], row[0]]  # create new list to append later, with swapped elements\n",
    "    swap_avg_by_hour.append(swap_row)  # append each swapped row to new list of lists\n",
    "\n",
    "sorted_swap = sorted(swap_avg_by_hour, reverse=True)  # 'reverse=True' sorts the list in descending order\n",
    "\n",
    "print(\"Top 5 Hours for Ask Posts Comments\")\n",
    "for row in sorted_swap[0:5]:  # iterate but only limited to 1st 5 rows (already sorted)\n",
    "    template = \"{hour}:00: {avg_comment:.2f} average comments per post\"  # :.2f specifies display 2 decimal places\n",
    "    hour = row[1] # get hour element from each row\n",
    "    avg_comment = row[0]  # get avg_comment element from each row\n",
    "    print(template.format(hour=hour, avg_comment=avg_comment))"
   ]
  },
  {
   "cell_type": "markdown",
   "id": "8241f9fe-268d-441a-8419-30c20c84a8c8",
   "metadata": {},
   "source": [
    "### Findings (Top 5 Hours for Ask Posts Comments):\n",
    "Qns: During which hours should you create a post to have a higher chance of receiving comments?\n",
    "\n",
    "Ans: Please refer to above findings - where Time zone is Eastern Time in the US."
   ]
  },
  {
   "cell_type": "markdown",
   "id": "8d1cdd83-c562-4566-9cec-a82839a5c64a",
   "metadata": {},
   "source": [
    "### Potential areas for further analysis:\n",
    "- Determine if show or ask posts receive more points on average.\n",
    "- Determine if posts created at a certain time are more likely to receive more points.\n",
    "- Compare results to the average number of comments and points other posts receive.\n",
    "- Consider any other notebook design stylistic choice."
   ]
  },
  {
   "cell_type": "code",
   "execution_count": null,
   "id": "38f75ffa-9291-4023-81bf-73833934b709",
   "metadata": {},
   "outputs": [],
   "source": []
  }
 ],
 "metadata": {
  "kernelspec": {
   "display_name": "Python 3",
   "language": "python",
   "name": "python3"
  },
  "language_info": {
   "codemirror_mode": {
    "name": "ipython",
    "version": 3
   },
   "file_extension": ".py",
   "mimetype": "text/x-python",
   "name": "python",
   "nbconvert_exporter": "python",
   "pygments_lexer": "ipython3",
   "version": "3.8.8"
  }
 },
 "nbformat": 4,
 "nbformat_minor": 5
}
