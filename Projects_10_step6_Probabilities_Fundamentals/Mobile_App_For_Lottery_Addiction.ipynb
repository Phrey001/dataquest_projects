{
 "cells": [
  {
   "cell_type": "code",
   "execution_count": 14,
   "id": "5ae5d661-a55f-4750-aa20-b38fa36ee2a5",
   "metadata": {},
   "outputs": [],
   "source": [
    "# import libraries\n",
    "from IPython.display import Image  # for displaying images in markdown cells\n",
    "import pandas as pd  # Dataframe manipulation\n",
    "import numpy as np  # Arrays manipulation "
   ]
  },
  {
   "cell_type": "markdown",
   "id": "eb05e2d3-eb82-4c27-bbbc-7ab5bf9eb0df",
   "metadata": {},
   "source": [
    "# Dataquest - Probabilities: Fundamentals <br/> <br/> Project Title: Mobile App For Lottery Addiction"
   ]
  },
  {
   "cell_type": "markdown",
   "id": "ef8146a5-e8b1-4915-b6bd-0c347a868369",
   "metadata": {},
   "source": [
    "## 1) Introduction\n",
    "\n",
    "#### Key skills applied in project:\n",
    "- How to calculate theoretical probabilities (empirical probabilities don't apply in this project)\n",
    "- How to use probability rules to solve probability problems\n",
    "- How to use combinations (permutations don't apply to this project)\n",
    "\n",
    "#### Background\n",
    "Provided by: [Dataquest.io](https://www.dataquest.io/)\n",
    "\n",
    "Many people start playing the lottery for fun, but for some this activity turns into a habit which eventually escalates into addiction. Like other compulsive gamblers, lottery addicts soon begin spending from their savings and loans, they start to accumulate debts, and eventually engage in desperate behaviors like theft.\n",
    "\n",
    "A medical institute that aims to prevent and treat gambling addictions wants to build a dedicated mobile app to help lottery addicts better estimate their chances of winning. The institute has a team of engineers that will build the app, but they need us to create the logical core of the app and calculate probabilities.\n",
    "\n",
    "For the first version of the app, they want us to focus on the [6/49 lottery](https://en.wikipedia.org/wiki/Lotto_6/49) and build functions that enable users to answer questions like:\n",
    "- What is the probability of winning the big prize with a single ticket?\n",
    "- What is the probability of winning the big prize if we play 40 different tickets (or any other number)?\n",
    "- What is the probability of having at least five (or four, or three, or two) winning numbers on a single ticket?\n",
    "\n",
    "The institute also wants us to consider historical data coming from the national 6/49 lottery game in Canada. [The data set](https://www.kaggle.com/datascienceai/lottery-dataset) has data for 3,665 drawings, dating from 1982 to 2018.\n",
    "\n",
    "The scenario we're following throughout this project is fictional — the main purpose is to practice applying the concepts we learned in a setting that simulates a real-world scenario."
   ]
  },
  {
   "cell_type": "markdown",
   "id": "d797603b-db2a-49ed-81ee-8110bd2a18fd",
   "metadata": {},
   "source": [
    "## 2) Core Functions\n",
    "\n",
    "Throughout the project, we'll need to calculate repeatedly probabilities and combinations. As a consequence, we'll start by writing two functions that we'll use often:\n",
    "\n",
    "A function that calculates factorials; and\n",
    "A function that calculates combinations.\n",
    "To calculate factorials, this is the formula we learned we need to use:\n",
    "\n",
    "\\begin{equation}\n",
    "n! = n \\times (n - 1) \\times (n - 2) \\times ... \\times 2 \\times 1\n",
    "\\end{equation}\n",
    "\n",
    "In the 6/49 lottery, six numbers are drawn from a set of 49 numbers that range from 1 to 49. The drawing is done without replacement, which means once a number is drawn, it's not put back in the set.\n",
    "\n",
    "To find the number of combinations when we're sampling without replacement and taking only k objects from a group of n objects, we can use the formula:\n",
    "\n",
    "\\begin{equation}\n",
    "_nC_k = {n \\choose k} =  \\frac{n!}{k!(n-k)!}\n",
    "\\end{equation}\n"
   ]
  },
  {
   "cell_type": "code",
   "execution_count": 2,
   "id": "302b4c2f-8dff-43d8-9752-f3326cdee203",
   "metadata": {},
   "outputs": [
    {
     "name": "stdout",
     "output_type": "stream",
     "text": [
      "120\n",
      "20.0\n"
     ]
    }
   ],
   "source": [
    "# Write a function named factorial() which takes as input a number n and computes the factorial of that number n.\n",
    "\n",
    "# Write a function named combinations() which takes in two inputs (n and k) and outputs the number of combinations when we're taking only k objects from a group of n objects.\n",
    "\n",
    "def factorial(n):\n",
    "    x = 1\n",
    "    for i in range(n, 0, -1):\n",
    "        x *= i\n",
    "    return x\n",
    "\n",
    "def combinations(n, k):\n",
    "    numerator = factorial(n)\n",
    "    denominator = factorial(k) * factorial(n - k)\n",
    "    x = numerator / denominator\n",
    "    return x\n",
    "\n",
    "# test function\n",
    "print(factorial(5))\n",
    "print(combinations(6, 3))"
   ]
  },
  {
   "cell_type": "markdown",
   "id": "9ed62077-90a0-4625-ae26-8bac4dce9010",
   "metadata": {},
   "source": [
    "## 3) One-ticket Probability\n",
    "\n",
    "Provided by: [Dataquest.io](https://www.dataquest.io/)\n",
    "\n",
    "We focus on writing a function that calculates the probability of winning the big prize.\n",
    "\n",
    "In the 6/49 lottery, six numbers are drawn from a set of 49 numbers that range from 1 to 49. A player wins the big prize if the six numbers on their tickets match all the six numbers drawn. If a player has a ticket with the numbers {13, 22, 24, 27, 42, 44}, he only wins the big prize if the numbers drawn are {13, 22, 24, 27, 42, 44}. If only one number differs, he doesn't win.\n",
    "\n",
    "For the first version of the app, we want players to be able to calculate the probability of winning the big prize with the various numbers they play on a single ticket (for each ticket a player chooses six numbers out of 49). So, we'll start by building a function that calculates the probability of winning the big prize for any given ticket.\n",
    "\n",
    "We discussed with the engineering team of the medical institute, and they told us we need to be aware of the following details when we write the function:\n",
    "\n",
    "- Inside the app, the user inputs six different numbers from 1 to 49.\n",
    "- Under the hood, the six numbers will come as a Python list, which will serve as the single input to our function.\n",
    "- The engineering team wants the function to print the probability value in a friendly way — in a way that people without any probability training are able to understand."
   ]
  },
  {
   "cell_type": "code",
   "execution_count": 3,
   "id": "e3a23e14-1454-46fa-b4b9-24f1c5b330cd",
   "metadata": {},
   "outputs": [
    {
     "name": "stdout",
     "output_type": "stream",
     "text": [
      "[8, 6, 7, 28, 29, 26]\n",
      "Winning probability is 0.0000071511%.\n",
      "Your chance in winning is 1 in 13,983,816.\n"
     ]
    }
   ],
   "source": [
    "# Write a function named one_ticket_probability(), which takes in a list of six unique numbers and prints the probability of winning in a way that's easy to understand.\n",
    "\n",
    "# Start by calculating the total number of possible outcomes — this is total number of combinations for a six-number lottery ticket. There are 49 possible numbers, and six numbers are sampled without replacement. Use the combinations() function.\n",
    "\n",
    "# The user inputs just one combination, which means the number of successful outcomes is 1.\n",
    "\n",
    "# Use the number of successful outcomes and the total number of possible outcomes to calculate the probability for one ticket.\n",
    "\n",
    "# The function should print the probability in a way that's easy to understand. Egs.\n",
    "# Print the probability as a percentage.\n",
    "# Use the str.format() method to make the printed message more personalized with respect to what the user inputs.\n",
    "\n",
    "# compute number of outcomes in a pair ranging from 1 to 49\n",
    "# assuming sample without replacement and have to get 6 correct pairs to win\n",
    "# probability of success = 1 successful outcome / number of possible outcomes\n",
    "def one_ticket_probability(unique_list):\n",
    "    p = 1 / combinations(49, 6)\n",
    "    percentage = p * 100\n",
    "    return percentage\n",
    "\n",
    "# generate random unique list for testing function\n",
    "import random\n",
    "unique_list = random.sample(range(1, 50, 1), 6)\n",
    "\n",
    "# test and print functions\n",
    "template1 = 'Winning probability is {:.10f}%.'\n",
    "template2 = 'Your chance in winning is 1 in {:,}.'\n",
    "print(unique_list)\n",
    "print(template1.format(one_ticket_probability(unique_list)))\n",
    "print(template2.format(int(100/one_ticket_probability(unique_list))))"
   ]
  },
  {
   "cell_type": "markdown",
   "id": "7a213b95-a9f4-4a17-ba07-b7b939453492",
   "metadata": {},
   "source": [
    "## 4) Historical Data Check for Canada Lottery\n",
    "\n",
    "Provided by: [Dataquest.io](https://www.dataquest.io/)\n",
    "\n",
    "For the first version of the app, users should also be able to compare their ticket against the historical lottery data in Canada and determine whether they would have ever won by now.\n",
    "\n",
    "Now, we'll focus on exploring the historical data coming from the Canada 6/49 lottery. The data set can be downloaded from [Kaggle](https://www.kaggle.com/datascienceai/lottery-dataset) and it has the following structure:\n",
    "\n",
    "The data set contains historical data for 3,665 drawings (each row shows data for a single drawing), dating from 1982 to 2018. For each drawing, we can find the six numbers drawn in the following six columns:\n",
    "\n",
    "- **NUMBER DRAWN 1**\n",
    "- **NUMBER DRAWN 2**\n",
    "- **NUMBER DRAWN 3**\n",
    "- **NUMBER DRAWN 4**\n",
    "- **NUMBER DRAWN 5**\n",
    "- **NUMBER DRAWN 6**\n",
    "\n",
    "Let's now write some code to open this data set and get familiar with its structure."
   ]
  },
  {
   "cell_type": "code",
   "execution_count": 4,
   "id": "c5c8fde5-7f1c-4684-a158-c9c3a8d99a60",
   "metadata": {},
   "outputs": [
    {
     "data": {
      "text/plain": [
       "Index(['PRODUCT', 'DRAW NUMBER', 'SEQUENCE NUMBER', 'DRAW DATE',\n",
       "       'NUMBER DRAWN 1', 'NUMBER DRAWN 2', 'NUMBER DRAWN 3', 'NUMBER DRAWN 4',\n",
       "       'NUMBER DRAWN 5', 'NUMBER DRAWN 6', 'BONUS NUMBER'],\n",
       "      dtype='object')"
      ]
     },
     "execution_count": 4,
     "metadata": {},
     "output_type": "execute_result"
    }
   ],
   "source": [
    "# open csv file and familiarise with structure\n",
    "\n",
    "df = pd.read_csv('649.csv')\n",
    "\n",
    "df.columns"
   ]
  },
  {
   "cell_type": "code",
   "execution_count": 5,
   "id": "093aff09-1ef8-4dea-9a33-b5a787b888c0",
   "metadata": {},
   "outputs": [
    {
     "data": {
      "text/html": [
       "<div>\n",
       "<style scoped>\n",
       "    .dataframe tbody tr th:only-of-type {\n",
       "        vertical-align: middle;\n",
       "    }\n",
       "\n",
       "    .dataframe tbody tr th {\n",
       "        vertical-align: top;\n",
       "    }\n",
       "\n",
       "    .dataframe thead th {\n",
       "        text-align: right;\n",
       "    }\n",
       "</style>\n",
       "<table border=\"1\" class=\"dataframe\">\n",
       "  <thead>\n",
       "    <tr style=\"text-align: right;\">\n",
       "      <th></th>\n",
       "      <th>PRODUCT</th>\n",
       "      <th>DRAW NUMBER</th>\n",
       "      <th>SEQUENCE NUMBER</th>\n",
       "      <th>DRAW DATE</th>\n",
       "      <th>NUMBER DRAWN 1</th>\n",
       "      <th>NUMBER DRAWN 2</th>\n",
       "      <th>NUMBER DRAWN 3</th>\n",
       "      <th>NUMBER DRAWN 4</th>\n",
       "      <th>NUMBER DRAWN 5</th>\n",
       "      <th>NUMBER DRAWN 6</th>\n",
       "      <th>BONUS NUMBER</th>\n",
       "    </tr>\n",
       "  </thead>\n",
       "  <tbody>\n",
       "    <tr>\n",
       "      <th>0</th>\n",
       "      <td>649</td>\n",
       "      <td>1</td>\n",
       "      <td>0</td>\n",
       "      <td>6/12/1982</td>\n",
       "      <td>3</td>\n",
       "      <td>11</td>\n",
       "      <td>12</td>\n",
       "      <td>14</td>\n",
       "      <td>41</td>\n",
       "      <td>43</td>\n",
       "      <td>13</td>\n",
       "    </tr>\n",
       "    <tr>\n",
       "      <th>1</th>\n",
       "      <td>649</td>\n",
       "      <td>2</td>\n",
       "      <td>0</td>\n",
       "      <td>6/19/1982</td>\n",
       "      <td>8</td>\n",
       "      <td>33</td>\n",
       "      <td>36</td>\n",
       "      <td>37</td>\n",
       "      <td>39</td>\n",
       "      <td>41</td>\n",
       "      <td>9</td>\n",
       "    </tr>\n",
       "    <tr>\n",
       "      <th>2</th>\n",
       "      <td>649</td>\n",
       "      <td>3</td>\n",
       "      <td>0</td>\n",
       "      <td>6/26/1982</td>\n",
       "      <td>1</td>\n",
       "      <td>6</td>\n",
       "      <td>23</td>\n",
       "      <td>24</td>\n",
       "      <td>27</td>\n",
       "      <td>39</td>\n",
       "      <td>34</td>\n",
       "    </tr>\n",
       "  </tbody>\n",
       "</table>\n",
       "</div>"
      ],
      "text/plain": [
       "   PRODUCT  DRAW NUMBER  SEQUENCE NUMBER  DRAW DATE  NUMBER DRAWN 1  \\\n",
       "0      649            1                0  6/12/1982               3   \n",
       "1      649            2                0  6/19/1982               8   \n",
       "2      649            3                0  6/26/1982               1   \n",
       "\n",
       "   NUMBER DRAWN 2  NUMBER DRAWN 3  NUMBER DRAWN 4  NUMBER DRAWN 5  \\\n",
       "0              11              12              14              41   \n",
       "1              33              36              37              39   \n",
       "2               6              23              24              27   \n",
       "\n",
       "   NUMBER DRAWN 6  BONUS NUMBER  \n",
       "0              43            13  \n",
       "1              41             9  \n",
       "2              39            34  "
      ]
     },
     "execution_count": 5,
     "metadata": {},
     "output_type": "execute_result"
    }
   ],
   "source": [
    "# first 3 rows\n",
    "df.head(3)"
   ]
  },
  {
   "cell_type": "code",
   "execution_count": 6,
   "id": "871765af-70fc-4c6e-8faf-8a4e216b136f",
   "metadata": {},
   "outputs": [
    {
     "data": {
      "text/html": [
       "<div>\n",
       "<style scoped>\n",
       "    .dataframe tbody tr th:only-of-type {\n",
       "        vertical-align: middle;\n",
       "    }\n",
       "\n",
       "    .dataframe tbody tr th {\n",
       "        vertical-align: top;\n",
       "    }\n",
       "\n",
       "    .dataframe thead th {\n",
       "        text-align: right;\n",
       "    }\n",
       "</style>\n",
       "<table border=\"1\" class=\"dataframe\">\n",
       "  <thead>\n",
       "    <tr style=\"text-align: right;\">\n",
       "      <th></th>\n",
       "      <th>PRODUCT</th>\n",
       "      <th>DRAW NUMBER</th>\n",
       "      <th>SEQUENCE NUMBER</th>\n",
       "      <th>DRAW DATE</th>\n",
       "      <th>NUMBER DRAWN 1</th>\n",
       "      <th>NUMBER DRAWN 2</th>\n",
       "      <th>NUMBER DRAWN 3</th>\n",
       "      <th>NUMBER DRAWN 4</th>\n",
       "      <th>NUMBER DRAWN 5</th>\n",
       "      <th>NUMBER DRAWN 6</th>\n",
       "      <th>BONUS NUMBER</th>\n",
       "    </tr>\n",
       "  </thead>\n",
       "  <tbody>\n",
       "    <tr>\n",
       "      <th>3662</th>\n",
       "      <td>649</td>\n",
       "      <td>3589</td>\n",
       "      <td>0</td>\n",
       "      <td>6/13/2018</td>\n",
       "      <td>6</td>\n",
       "      <td>22</td>\n",
       "      <td>24</td>\n",
       "      <td>31</td>\n",
       "      <td>32</td>\n",
       "      <td>34</td>\n",
       "      <td>16</td>\n",
       "    </tr>\n",
       "    <tr>\n",
       "      <th>3663</th>\n",
       "      <td>649</td>\n",
       "      <td>3590</td>\n",
       "      <td>0</td>\n",
       "      <td>6/16/2018</td>\n",
       "      <td>2</td>\n",
       "      <td>15</td>\n",
       "      <td>21</td>\n",
       "      <td>31</td>\n",
       "      <td>38</td>\n",
       "      <td>49</td>\n",
       "      <td>8</td>\n",
       "    </tr>\n",
       "    <tr>\n",
       "      <th>3664</th>\n",
       "      <td>649</td>\n",
       "      <td>3591</td>\n",
       "      <td>0</td>\n",
       "      <td>6/20/2018</td>\n",
       "      <td>14</td>\n",
       "      <td>24</td>\n",
       "      <td>31</td>\n",
       "      <td>35</td>\n",
       "      <td>37</td>\n",
       "      <td>48</td>\n",
       "      <td>17</td>\n",
       "    </tr>\n",
       "  </tbody>\n",
       "</table>\n",
       "</div>"
      ],
      "text/plain": [
       "      PRODUCT  DRAW NUMBER  SEQUENCE NUMBER  DRAW DATE  NUMBER DRAWN 1  \\\n",
       "3662      649         3589                0  6/13/2018               6   \n",
       "3663      649         3590                0  6/16/2018               2   \n",
       "3664      649         3591                0  6/20/2018              14   \n",
       "\n",
       "      NUMBER DRAWN 2  NUMBER DRAWN 3  NUMBER DRAWN 4  NUMBER DRAWN 5  \\\n",
       "3662              22              24              31              32   \n",
       "3663              15              21              31              38   \n",
       "3664              24              31              35              37   \n",
       "\n",
       "      NUMBER DRAWN 6  BONUS NUMBER  \n",
       "3662              34            16  \n",
       "3663              49             8  \n",
       "3664              48            17  "
      ]
     },
     "execution_count": 6,
     "metadata": {},
     "output_type": "execute_result"
    }
   ],
   "source": [
    "# last 3 rows\n",
    "df.tail(3)"
   ]
  },
  {
   "cell_type": "code",
   "execution_count": 7,
   "id": "5ebe4f1a-9a48-42b8-93a3-6f57001f203c",
   "metadata": {},
   "outputs": [
    {
     "data": {
      "text/plain": [
       "(3665, 11)"
      ]
     },
     "execution_count": 7,
     "metadata": {},
     "output_type": "execute_result"
    }
   ],
   "source": [
    "# number of rows and columns\n",
    "df.shape"
   ]
  },
  {
   "cell_type": "markdown",
   "id": "e720b987-e91d-431a-9582-8806861fd5bc",
   "metadata": {},
   "source": [
    "## 5) Function For Historical Data Check\n",
    "\n",
    "We're going to write a function that will enable users to compare their ticket against the historical lottery data in Canada and determine whether they would have ever won by now.\n",
    "\n",
    "The engineering team told us that we need to be aware of the following details:\n",
    "\n",
    "- Inside the app, the user inputs six different numbers from 1 to 49.\n",
    "- Under the hood, the six numbers will come as a Python list and serve as an input to our function.\n",
    "- The engineering team wants us to write a function that prints:\n",
    "  - the number of times the combination selected occurred in the Canada data set; and\n",
    "  - the probability of winning the big prize in the next drawing with that combination."
   ]
  },
  {
   "cell_type": "code",
   "execution_count": 8,
   "id": "1c25b8c6-50f9-4853-8600-7b87a6cbeaf7",
   "metadata": {},
   "outputs": [
    {
     "data": {
      "text/plain": [
       "{3, 11, 12, 14, 41, 43}"
      ]
     },
     "execution_count": 8,
     "metadata": {},
     "output_type": "execute_result"
    }
   ],
   "source": [
    "# Extract all the winning six numbers from the historical data set as Python sets (set is a data type in Python).\n",
    "\n",
    "\n",
    "# Function takes as input a row of the lottery dataframe and returns a set containing all the six winning numbers. For the first row, for instance, the function should return the set {3, 11, 12, 14, 41, 43} based on above inspection of df.head().\n",
    "def extract_numbers(dataframe):\n",
    "    input_list = set()  # initiate an empty set\n",
    "    input_list.add(dataframe['NUMBER DRAWN 1'])  # add extracted value to set\n",
    "    input_list.add(dataframe['NUMBER DRAWN 2'])\n",
    "    input_list.add(dataframe['NUMBER DRAWN 3'])\n",
    "    input_list.add(dataframe['NUMBER DRAWN 4'])\n",
    "    input_list.add(dataframe['NUMBER DRAWN 5'])\n",
    "    input_list.add(dataframe['NUMBER DRAWN 6'])\n",
    "    return input_list\n",
    "\n",
    "# test function\n",
    "extract_numbers(df.iloc[0])"
   ]
  },
  {
   "cell_type": "code",
   "execution_count": 9,
   "id": "2742f31f-4c03-4318-a070-8b7bc8744d66",
   "metadata": {},
   "outputs": [
    {
     "data": {
      "text/plain": [
       "0        {3, 41, 11, 12, 43, 14}\n",
       "1        {33, 36, 37, 39, 8, 41}\n",
       "2         {1, 6, 39, 23, 24, 27}\n",
       "3         {3, 9, 10, 43, 13, 20}\n",
       "4        {34, 5, 14, 47, 21, 31}\n",
       "                  ...           \n",
       "3660    {38, 40, 41, 10, 15, 23}\n",
       "3661    {36, 46, 47, 19, 25, 31}\n",
       "3662     {32, 34, 6, 22, 24, 31}\n",
       "3663     {2, 38, 15, 49, 21, 31}\n",
       "3664    {35, 37, 14, 48, 24, 31}\n",
       "Length: 3665, dtype: object"
      ]
     },
     "execution_count": 9,
     "metadata": {},
     "output_type": "execute_result"
    }
   ],
   "source": [
    "# Use extract_numbers() in combination with the DataFrame.apply() method to extract all the winning numbers;\n",
    "# Dataframe.apply() can apply function to each row or column of the dataframe.\n",
    "\n",
    "winning_set = df.apply(lambda row: extract_numbers(row), axis=1)  # axis=1 applies function to each row of df\n",
    "\n",
    "# check function\n",
    "winning_set"
   ]
  },
  {
   "cell_type": "code",
   "execution_count": 10,
   "id": "c300dbe8-da76-4677-a3c5-055724ec5bd9",
   "metadata": {},
   "outputs": [
    {
     "name": "stdout",
     "output_type": "stream",
     "text": [
      "The input list is [35, 37, 14, 48, 24, 31].\n",
      " Number of wins based on input list is 1.\n",
      "Next winning probability based on input list is 0.0000071511%.\n",
      "Your chance in winning is 1 in 13,983,816.\n"
     ]
    }
   ],
   "source": [
    "# check_historical_occurence() takes in two inputs: a Python list containing the user numbers and a pandas Series containing sets with the winning numbers (this is the Series extracted using the extract_numbers() function).\n",
    "# Remember the purpose is to check occurrence of user's list of numbers against historical winning numbers\n",
    "\n",
    "# issubset() works as there won't be repeated numbers in unique_list as well; ie. sample without replacement\n",
    "def check_historical_occurence(unique_list, winning_set):\n",
    "    win_counter = 0\n",
    "    for row in winning_set:\n",
    "        if set(unique_list).issubset(row):  \n",
    "            win_counter += 1  \n",
    "    return win_counter\n",
    "\n",
    "# test a sample winning python list using check_historical_occurence() function\n",
    "input_list = [35, 37, 14, 48, 24, 31]\n",
    "n_wins = check_historical_occurence(input_list, winning_set)\n",
    "print('The input list is {}.\\n Number of wins based on input list is {}.'.format(input_list, n_wins))\n",
    "\n",
    "# same probability as each win event is independent no matter what input\n",
    "template1 = 'Next winning probability based on input list is {:.10f}%.'\n",
    "print(template1.format(one_ticket_probability(input_list)))  \n",
    "\n",
    "template2 = 'Your chance in winning is 1 in {:,}.'\n",
    "print(template2.format(int(100/one_ticket_probability(input_list))))"
   ]
  },
  {
   "cell_type": "markdown",
   "id": "4b294e25-a652-4924-897a-4f4461942780",
   "metadata": {},
   "source": [
    "## 6) Multi-ticket Probability\n",
    "\n",
    "Lottery addicts usually play more than one ticket on a single drawing, thinking that this might increase their chances of winning significantly. Our purpose is to help them better estimate their chances of winning — on this screen, we're going to write a function that will allow the users to calculate the chances of winning for any number of different tickets.\n",
    "\n",
    "We've talked with the engineering team and they gave us the following information:\n",
    "\n",
    "- The user will input the number of different tickets they want to play (without inputting the specific combinations they intend to play).\n",
    "- Our function will see an integer between 1 and 13,983,816 (the maximum number of different tickets).\n",
    "- The function should print information about the probability of winning the big prize depending on the number of different tickets played.\n"
   ]
  },
  {
   "cell_type": "code",
   "execution_count": 11,
   "id": "6de05c30-2bf9-4804-b09c-4d5305727cf8",
   "metadata": {},
   "outputs": [
    {
     "name": "stdout",
     "output_type": "stream",
     "text": [
      "The probability of winning given 13,983,816 tickets is 100.0000000000%.\n",
      "Your chance in winning is 1 in 1.\n"
     ]
    }
   ],
   "source": [
    "# Write a function named multi_ticket_probability() that prints the probability of winning the big prize depending on the number of different tickets played.\n",
    "\n",
    "def multi_ticket_probability(num_tickets):\n",
    "    num_outcomes = combinations(49, 6)  # from previous defined function on one-ticket probability\n",
    "    p = num_tickets / num_outcomes  # probability of success\n",
    "    percentage = p * 100\n",
    "    return percentage\n",
    "\n",
    "# test input number of tickets played\n",
    "num_tickets = 13983816\n",
    "\n",
    "print('The probability of winning given {:,} tickets is {:.10f}%.'.format(num_tickets, multi_ticket_probability(num_tickets)))\n",
    "\n",
    "template2 = 'Your chance in winning is 1 in {:,}.'\n",
    "print(template2.format(int(100/multi_ticket_probability(num_tickets))))"
   ]
  },
  {
   "cell_type": "markdown",
   "id": "87b704ad-9763-4900-a04b-e4f621abe5c5",
   "metadata": {},
   "source": [
    "## 7) Less Winning Numbers - Function\n",
    "\n",
    "We're going to write one more function to allow the users to calculate probabilities for two, three, four, or five winning numbers.\n",
    "\n",
    "For extra context, in most 6/49 lotteries there are smaller prizes if a player's ticket match two, three, four, or five of the six numbers drawn. As a consequence, the users might be interested in knowing the probability of having two, three, four, or five winning numbers.\n",
    "\n",
    "These are the engineering details we'll need to be aware of:\n",
    "\n",
    "- Inside the app, the user inputs:\n",
    "  - six different numbers from 1 to 49; and\n",
    "  - an integer between 2 and 5 that represents the number of winning numbers expected\n",
    "<br/> <br/>\n",
    "- Our function prints information about the probability of having the inputted number of winning numbers.\n",
    "\n"
   ]
  },
  {
   "cell_type": "code",
   "execution_count": 12,
   "id": "a04f66cf-9bd7-4564-9aa0-552f2f141fb7",
   "metadata": {},
   "outputs": [
    {
     "name": "stdout",
     "output_type": "stream",
     "text": [
      "The probability of winning 5 exact pair-matches is 0.0018449900%.\n",
      "Your chance in winning is 1 in 54,200.\n"
     ]
    }
   ],
   "source": [
    "# Write a function named probability_less_6() which takes in an integer between 2 and 5 and prints information about the chances of winning depending on the value of that integer.\n",
    "\n",
    "# n denotes number of winning pairs desired eg. n=5; exact 5 pair-matches\n",
    "def probability_less_6(n):\n",
    "    success_outcomes = combinations(6, n)\n",
    "    \n",
    "    # 49 - 6: remaining numbers between 1 to 49 to choose from, given winning grand prize require 6 matches, so those 6 numbers can't be picked for winning exact matches less than 6\n",
    "    # 6 - n: remaining number of slots to fill up, given n matches\n",
    "    success_outcomes = success_outcomes * combinations(49 - 6, 6 - n)\n",
    "    \n",
    "    # total possible outcomes\n",
    "    num_outcomes = combinations(49, 6)\n",
    "\n",
    "    # probability of matching exact number of pairs\n",
    "    p = success_outcomes / num_outcomes\n",
    "    percentage = p * 100\n",
    "    return percentage\n",
    "\n",
    "# input number of winning pair-picks\n",
    "# print output results with message\n",
    "n = 5\n",
    "\n",
    "print('The probability of winning {} exact pair-matches is {:.10f}%.'.format(n, probability_less_6(n)))\n",
    "\n",
    "template2 = 'Your chance in winning is 1 in {:,}.'\n",
    "print(template2.format(int(100/probability_less_6(n))))"
   ]
  },
  {
   "cell_type": "markdown",
   "id": "b13bf405-1a9c-4b58-8074-3ff8133e1971",
   "metadata": {},
   "source": [
    "## 8) Conclusion\n",
    "\n",
    "#### Examples Skills:\n",
    "\n",
    "We managed to write four main functions for our app:\n",
    "\n",
    "**one_ticket_probability()** — calculates the probability of winning the big prize with a single ticket\n",
    "\n",
    "**check_historical_occurrence()** — checks whether a certain combination has occurred in the Canada lottery data set\n",
    "\n",
    "**multi_ticket_probability()** — calculates the probability for any number of of tickets between 1 and 13,983,816\n",
    "\n",
    "**probability_less_6()** — calculates the probability of having two, three, four or five winning numbers\n",
    "\n",
    "#### Potential features for a second version of the app include:\n",
    "- Making the outputs even easier to understand by adding fun analogies (for example, we can find probabilities for strange events and compare with the chances of winning in lottery; for instance, we can output something along the lines \"You are 100 times more likely to be the victim of a shark attack than winning the lottery\").\n",
    "\n",
    "- Combining the **one_ticket_probability()** and **check_historical_occurrence()** to output information on probability and historical occurrence at the same time.\n",
    "\n",
    "- Creating a function similar to **probability_less_6()** which calculates the probability of having at least two, three, four or five winning numbers:\n",
    "  - The number of successful outcomes for having four winning numbers exactly\n",
    "  - The number of successful outcomes for having five winning numbers exactly\n",
    "  - The number of successful outcomes for having six winning numbers exactly\n"
   ]
  },
  {
   "cell_type": "code",
   "execution_count": null,
   "id": "8121059b-4f1f-47e7-af2a-145e3929df75",
   "metadata": {},
   "outputs": [],
   "source": []
  }
 ],
 "metadata": {
  "kernelspec": {
   "display_name": "Python 3",
   "language": "python",
   "name": "python3"
  },
  "language_info": {
   "codemirror_mode": {
    "name": "ipython",
    "version": 3
   },
   "file_extension": ".py",
   "mimetype": "text/x-python",
   "name": "python",
   "nbconvert_exporter": "python",
   "pygments_lexer": "ipython3",
   "version": "3.8.8"
  }
 },
 "nbformat": 4,
 "nbformat_minor": 5
}
